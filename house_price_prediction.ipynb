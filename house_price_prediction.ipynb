{
 "cells": [
  {
   "cell_type": "code",
   "execution_count": 1,
   "id": "c03cd61d-e823-4d9b-b1e7-d7250742ba6a",
   "metadata": {},
   "outputs": [],
   "source": [
    "import pandas as pd\n",
    "import numpy as np\n",
    "import matplotlib.pyplot as plt"
   ]
  },
  {
   "cell_type": "code",
   "execution_count": 2,
   "id": "9f3e9973-a4ef-4068-921b-52ff51753d6c",
   "metadata": {},
   "outputs": [
    {
     "data": {
      "text/html": [
       "<div>\n",
       "<style scoped>\n",
       "    .dataframe tbody tr th:only-of-type {\n",
       "        vertical-align: middle;\n",
       "    }\n",
       "\n",
       "    .dataframe tbody tr th {\n",
       "        vertical-align: top;\n",
       "    }\n",
       "\n",
       "    .dataframe thead th {\n",
       "        text-align: right;\n",
       "    }\n",
       "</style>\n",
       "<table border=\"1\" class=\"dataframe\">\n",
       "  <thead>\n",
       "    <tr style=\"text-align: right;\">\n",
       "      <th></th>\n",
       "      <th>area_type</th>\n",
       "      <th>availability</th>\n",
       "      <th>location</th>\n",
       "      <th>size</th>\n",
       "      <th>society</th>\n",
       "      <th>total_sqft</th>\n",
       "      <th>bath</th>\n",
       "      <th>balcony</th>\n",
       "      <th>price</th>\n",
       "    </tr>\n",
       "  </thead>\n",
       "  <tbody>\n",
       "    <tr>\n",
       "      <th>0</th>\n",
       "      <td>Super built-up  Area</td>\n",
       "      <td>19-Dec</td>\n",
       "      <td>Electronic City Phase II</td>\n",
       "      <td>2 BHK</td>\n",
       "      <td>Coomee</td>\n",
       "      <td>1056</td>\n",
       "      <td>2.0</td>\n",
       "      <td>1.0</td>\n",
       "      <td>39.07</td>\n",
       "    </tr>\n",
       "    <tr>\n",
       "      <th>1</th>\n",
       "      <td>Plot  Area</td>\n",
       "      <td>Ready To Move</td>\n",
       "      <td>Chikka Tirupathi</td>\n",
       "      <td>4 Bedroom</td>\n",
       "      <td>Theanmp</td>\n",
       "      <td>2600</td>\n",
       "      <td>5.0</td>\n",
       "      <td>3.0</td>\n",
       "      <td>120.00</td>\n",
       "    </tr>\n",
       "    <tr>\n",
       "      <th>2</th>\n",
       "      <td>Built-up  Area</td>\n",
       "      <td>Ready To Move</td>\n",
       "      <td>Uttarahalli</td>\n",
       "      <td>3 BHK</td>\n",
       "      <td>NaN</td>\n",
       "      <td>1440</td>\n",
       "      <td>2.0</td>\n",
       "      <td>3.0</td>\n",
       "      <td>62.00</td>\n",
       "    </tr>\n",
       "    <tr>\n",
       "      <th>3</th>\n",
       "      <td>Super built-up  Area</td>\n",
       "      <td>Ready To Move</td>\n",
       "      <td>Lingadheeranahalli</td>\n",
       "      <td>3 BHK</td>\n",
       "      <td>Soiewre</td>\n",
       "      <td>1521</td>\n",
       "      <td>3.0</td>\n",
       "      <td>1.0</td>\n",
       "      <td>95.00</td>\n",
       "    </tr>\n",
       "    <tr>\n",
       "      <th>4</th>\n",
       "      <td>Super built-up  Area</td>\n",
       "      <td>Ready To Move</td>\n",
       "      <td>Kothanur</td>\n",
       "      <td>2 BHK</td>\n",
       "      <td>NaN</td>\n",
       "      <td>1200</td>\n",
       "      <td>2.0</td>\n",
       "      <td>1.0</td>\n",
       "      <td>51.00</td>\n",
       "    </tr>\n",
       "  </tbody>\n",
       "</table>\n",
       "</div>"
      ],
      "text/plain": [
       "              area_type   availability                  location       size  \\\n",
       "0  Super built-up  Area         19-Dec  Electronic City Phase II      2 BHK   \n",
       "1            Plot  Area  Ready To Move          Chikka Tirupathi  4 Bedroom   \n",
       "2        Built-up  Area  Ready To Move               Uttarahalli      3 BHK   \n",
       "3  Super built-up  Area  Ready To Move        Lingadheeranahalli      3 BHK   \n",
       "4  Super built-up  Area  Ready To Move                  Kothanur      2 BHK   \n",
       "\n",
       "   society total_sqft  bath  balcony   price  \n",
       "0  Coomee        1056   2.0      1.0   39.07  \n",
       "1  Theanmp       2600   5.0      3.0  120.00  \n",
       "2      NaN       1440   2.0      3.0   62.00  \n",
       "3  Soiewre       1521   3.0      1.0   95.00  \n",
       "4      NaN       1200   2.0      1.0   51.00  "
      ]
     },
     "execution_count": 2,
     "metadata": {},
     "output_type": "execute_result"
    }
   ],
   "source": [
    "df = pd.read_csv('bengaluru_house_prices.csv')\n",
    "df.head()"
   ]
  },
  {
   "cell_type": "code",
   "execution_count": 3,
   "id": "a190e668-16ad-4226-b9ba-bd6acc75526a",
   "metadata": {},
   "outputs": [
    {
     "data": {
      "text/plain": [
       "(13320, 9)"
      ]
     },
     "execution_count": 3,
     "metadata": {},
     "output_type": "execute_result"
    }
   ],
   "source": [
    "df.shape"
   ]
  },
  {
   "cell_type": "markdown",
   "id": "2e0037b2-72aa-41b0-9f8a-09c3b5aa6d15",
   "metadata": {},
   "source": [
    "<h1 style=\"color:blue; font-weight:bold;\"> Data Cleaning </h1>"
   ]
  },
  {
   "cell_type": "markdown",
   "id": "06bf8b0d-f0cb-404c-b43e-f41331053ad4",
   "metadata": {},
   "source": [
    "Arbitrarily, I choose to remove the columns 'availability' and 'society' which I don't find relevant for our prediction problem."
   ]
  },
  {
   "cell_type": "code",
   "execution_count": 4,
   "id": "224b8fa7-0122-404c-bfa9-c4022523eaab",
   "metadata": {},
   "outputs": [
    {
     "data": {
      "text/html": [
       "<div>\n",
       "<style scoped>\n",
       "    .dataframe tbody tr th:only-of-type {\n",
       "        vertical-align: middle;\n",
       "    }\n",
       "\n",
       "    .dataframe tbody tr th {\n",
       "        vertical-align: top;\n",
       "    }\n",
       "\n",
       "    .dataframe thead th {\n",
       "        text-align: right;\n",
       "    }\n",
       "</style>\n",
       "<table border=\"1\" class=\"dataframe\">\n",
       "  <thead>\n",
       "    <tr style=\"text-align: right;\">\n",
       "      <th></th>\n",
       "      <th>area_type</th>\n",
       "      <th>location</th>\n",
       "      <th>size</th>\n",
       "      <th>total_sqft</th>\n",
       "      <th>bath</th>\n",
       "      <th>balcony</th>\n",
       "      <th>price</th>\n",
       "    </tr>\n",
       "  </thead>\n",
       "  <tbody>\n",
       "    <tr>\n",
       "      <th>0</th>\n",
       "      <td>Super built-up  Area</td>\n",
       "      <td>Electronic City Phase II</td>\n",
       "      <td>2 BHK</td>\n",
       "      <td>1056</td>\n",
       "      <td>2.0</td>\n",
       "      <td>1.0</td>\n",
       "      <td>39.07</td>\n",
       "    </tr>\n",
       "    <tr>\n",
       "      <th>1</th>\n",
       "      <td>Plot  Area</td>\n",
       "      <td>Chikka Tirupathi</td>\n",
       "      <td>4 Bedroom</td>\n",
       "      <td>2600</td>\n",
       "      <td>5.0</td>\n",
       "      <td>3.0</td>\n",
       "      <td>120.00</td>\n",
       "    </tr>\n",
       "    <tr>\n",
       "      <th>2</th>\n",
       "      <td>Built-up  Area</td>\n",
       "      <td>Uttarahalli</td>\n",
       "      <td>3 BHK</td>\n",
       "      <td>1440</td>\n",
       "      <td>2.0</td>\n",
       "      <td>3.0</td>\n",
       "      <td>62.00</td>\n",
       "    </tr>\n",
       "    <tr>\n",
       "      <th>3</th>\n",
       "      <td>Super built-up  Area</td>\n",
       "      <td>Lingadheeranahalli</td>\n",
       "      <td>3 BHK</td>\n",
       "      <td>1521</td>\n",
       "      <td>3.0</td>\n",
       "      <td>1.0</td>\n",
       "      <td>95.00</td>\n",
       "    </tr>\n",
       "    <tr>\n",
       "      <th>4</th>\n",
       "      <td>Super built-up  Area</td>\n",
       "      <td>Kothanur</td>\n",
       "      <td>2 BHK</td>\n",
       "      <td>1200</td>\n",
       "      <td>2.0</td>\n",
       "      <td>1.0</td>\n",
       "      <td>51.00</td>\n",
       "    </tr>\n",
       "  </tbody>\n",
       "</table>\n",
       "</div>"
      ],
      "text/plain": [
       "              area_type                  location       size total_sqft  bath  \\\n",
       "0  Super built-up  Area  Electronic City Phase II      2 BHK       1056   2.0   \n",
       "1            Plot  Area          Chikka Tirupathi  4 Bedroom       2600   5.0   \n",
       "2        Built-up  Area               Uttarahalli      3 BHK       1440   2.0   \n",
       "3  Super built-up  Area        Lingadheeranahalli      3 BHK       1521   3.0   \n",
       "4  Super built-up  Area                  Kothanur      2 BHK       1200   2.0   \n",
       "\n",
       "   balcony   price  \n",
       "0      1.0   39.07  \n",
       "1      3.0  120.00  \n",
       "2      3.0   62.00  \n",
       "3      1.0   95.00  \n",
       "4      1.0   51.00  "
      ]
     },
     "execution_count": 4,
     "metadata": {},
     "output_type": "execute_result"
    }
   ],
   "source": [
    "df1 = df.drop(['availability', 'society'], axis = 'columns')\n",
    "df1.head()"
   ]
  },
  {
   "cell_type": "code",
   "execution_count": 5,
   "id": "6956e172-34e6-455d-9621-62af71404954",
   "metadata": {},
   "outputs": [
    {
     "data": {
      "text/plain": [
       "area_type       0\n",
       "location        1\n",
       "size           16\n",
       "total_sqft      0\n",
       "bath           73\n",
       "balcony       609\n",
       "price           0\n",
       "dtype: int64"
      ]
     },
     "execution_count": 5,
     "metadata": {},
     "output_type": "execute_result"
    }
   ],
   "source": [
    "df1.isna().sum()"
   ]
  },
  {
   "cell_type": "markdown",
   "id": "7ddc3745-ba0b-48fb-b805-d0f6f2f37f57",
   "metadata": {},
   "source": [
    "Since the dataset is big enough, I choose to get rid of the NaN values."
   ]
  },
  {
   "cell_type": "code",
   "execution_count": 6,
   "id": "af34a6db-0313-4b25-8f90-e6fa47204d25",
   "metadata": {},
   "outputs": [
    {
     "data": {
      "text/plain": [
       "area_type     0\n",
       "location      0\n",
       "size          0\n",
       "total_sqft    0\n",
       "bath          0\n",
       "balcony       0\n",
       "price         0\n",
       "dtype: int64"
      ]
     },
     "execution_count": 6,
     "metadata": {},
     "output_type": "execute_result"
    }
   ],
   "source": [
    "df2 = df1.dropna()\n",
    "df2.isna().sum()"
   ]
  },
  {
   "cell_type": "markdown",
   "id": "11ffbebb-b1a5-44b1-aa78-75b16acb5b3c",
   "metadata": {},
   "source": [
    "Now, we will study some columns which may contain wrong encoded features."
   ]
  },
  {
   "cell_type": "code",
   "execution_count": 7,
   "id": "95d1730d-da73-42a5-b4fe-88f1153b68f0",
   "metadata": {},
   "outputs": [
    {
     "data": {
      "text/plain": [
       "array(['2 BHK', '4 Bedroom', '3 BHK', '3 Bedroom', '1 BHK', '1 RK',\n",
       "       '4 BHK', '1 Bedroom', '2 Bedroom', '6 Bedroom', '8 Bedroom',\n",
       "       '7 Bedroom', '5 BHK', '7 BHK', '6 BHK', '5 Bedroom', '11 BHK',\n",
       "       '9 BHK', '9 Bedroom', '27 BHK', '11 Bedroom', '43 Bedroom',\n",
       "       '14 BHK', '8 BHK', '12 Bedroom', '10 Bedroom', '13 BHK'],\n",
       "      dtype=object)"
      ]
     },
     "execution_count": 7,
     "metadata": {},
     "output_type": "execute_result"
    }
   ],
   "source": [
    "df2['size'].unique()"
   ]
  },
  {
   "cell_type": "markdown",
   "id": "f7e47ac7-9d0a-4b9d-98b2-e2194bbbb052",
   "metadata": {},
   "source": [
    "Here we can notice that the bedroom counting is not homogeneous. For instance, a house with 3 bedrooms can be written '3 BHK' or '3 Bedroom'. We need to fix this in order to allow the predictions."
   ]
  },
  {
   "cell_type": "code",
   "execution_count": 8,
   "id": "efec0ed8-192a-4339-98bd-8fa2db41290b",
   "metadata": {},
   "outputs": [],
   "source": [
    "def extract_nb_bedrooms(size : str) -> int :\n",
    "    return int(size.split(' ')[0])"
   ]
  },
  {
   "cell_type": "code",
   "execution_count": 9,
   "id": "3f26b99b-6c92-4f4d-97a7-26059ad336a2",
   "metadata": {},
   "outputs": [],
   "source": [
    "df3 = df2.copy()\n",
    "df3['bedroom_formated'] = df2['size'].apply(extract_nb_bedrooms)"
   ]
  },
  {
   "cell_type": "code",
   "execution_count": 10,
   "id": "d1b6c50f-9e87-484a-b0f8-b6a5b669a9b1",
   "metadata": {},
   "outputs": [],
   "source": [
    "df3 = df3.drop('size', axis = 'columns')"
   ]
  },
  {
   "cell_type": "code",
   "execution_count": 11,
   "id": "ae73855a-bce9-4e46-8ddd-6768a42dfc36",
   "metadata": {},
   "outputs": [
    {
     "data": {
      "text/plain": [
       "0        1056\n",
       "1        2600\n",
       "2        1440\n",
       "3        1521\n",
       "4        1200\n",
       "         ... \n",
       "13314    1715\n",
       "13315    3453\n",
       "13317    1141\n",
       "13318    4689\n",
       "13319     550\n",
       "Name: total_sqft, Length: 12710, dtype: object"
      ]
     },
     "execution_count": 11,
     "metadata": {},
     "output_type": "execute_result"
    }
   ],
   "source": [
    "df3['total_sqft']"
   ]
  },
  {
   "cell_type": "markdown",
   "id": "7ff424f7-1cfd-4f94-a92e-fb7519b2f76d",
   "metadata": {},
   "source": [
    "Some houses are listed with a range for the surface area instead of a unique value or with a different unit. We will replace these ranges with the mean value, and convert in the correct unit using Regex.\n",
    "At this stage, we choose to remove certain conversion values that seem particularly low/high, in order to discard potential calculation errors. The interval we'll keep is [50, 20000] sqft."
   ]
  },
  {
   "cell_type": "code",
   "execution_count": 12,
   "id": "099baafb-ab7e-4e59-a452-6ba0ba86a13d",
   "metadata": {},
   "outputs": [],
   "source": [
    "import re"
   ]
  },
  {
   "cell_type": "code",
   "execution_count": 13,
   "id": "c5181107-df24-43ea-a9bb-654a96622b87",
   "metadata": {},
   "outputs": [],
   "source": [
    "df3['total_sqft'] = df3['total_sqft'].apply(str)\n",
    "def format_surf_area(area : str) -> int:\n",
    "    if '-' in area:\n",
    "        min = float(area.split(' ')[0])\n",
    "        max = float(area.split(' ')[-1])\n",
    "        return (min + max)/2\n",
    "    else:\n",
    "        try:\n",
    "            return float(area)\n",
    "        except:\n",
    "            # return None\n",
    "            decomp = re.match(r'([\\d.]+)\\s*(.*)', area)\n",
    "            value = float(decomp.group(1))\n",
    "            unity = decomp.group(2)         \n",
    "            if unity=='Sq. Meter':\n",
    "                conversion = value*10.764 # 1 m² = 10.764 sqft\n",
    "            elif unity=='Perch':\n",
    "                conversion = value*272.3 # 1 perch = 272.3 sqft\n",
    "            elif unity=='Acres':\n",
    "                conversion = value*43560 # 1 Acre = 43560 sqft\n",
    "            elif unity=='Guntha':\n",
    "                conversion = value*1089 # 1 Gunta = 1089 sqft\n",
    "            elif unity=='Sq. Yards':\n",
    "                conversion = value*9 # 1 Yard = 9 sqft\n",
    "            elif unity=='Cents':\n",
    "                conversion = value*431 # 1 Cent = 431 sqft\n",
    "            elif unity=='Grounds':\n",
    "                conversion = value*2400 # 1 Cent = 2400 sqft\n",
    "        if conversion < 50 or conversion > 20000:\n",
    "            return None\n",
    "        else:\n",
    "            return conversion"
   ]
  },
  {
   "cell_type": "code",
   "execution_count": 14,
   "id": "10f09d14-3228-4a0a-843e-c67c415d6a14",
   "metadata": {},
   "outputs": [],
   "source": [
    "df4 = df3.copy()\n",
    "df4['surf_formated'] = df3['total_sqft'].apply(format_surf_area)"
   ]
  },
  {
   "cell_type": "code",
   "execution_count": 15,
   "id": "31f1887b-fd58-4fce-b07e-ede627d87465",
   "metadata": {},
   "outputs": [
    {
     "data": {
      "text/html": [
       "<div>\n",
       "<style scoped>\n",
       "    .dataframe tbody tr th:only-of-type {\n",
       "        vertical-align: middle;\n",
       "    }\n",
       "\n",
       "    .dataframe tbody tr th {\n",
       "        vertical-align: top;\n",
       "    }\n",
       "\n",
       "    .dataframe thead th {\n",
       "        text-align: right;\n",
       "    }\n",
       "</style>\n",
       "<table border=\"1\" class=\"dataframe\">\n",
       "  <thead>\n",
       "    <tr style=\"text-align: right;\">\n",
       "      <th></th>\n",
       "      <th>area_type</th>\n",
       "      <th>location</th>\n",
       "      <th>bath</th>\n",
       "      <th>balcony</th>\n",
       "      <th>price</th>\n",
       "      <th>bedroom_formated</th>\n",
       "      <th>surf_formated</th>\n",
       "    </tr>\n",
       "  </thead>\n",
       "  <tbody>\n",
       "    <tr>\n",
       "      <th>0</th>\n",
       "      <td>Super built-up  Area</td>\n",
       "      <td>Electronic City Phase II</td>\n",
       "      <td>2.0</td>\n",
       "      <td>1.0</td>\n",
       "      <td>39.07</td>\n",
       "      <td>2</td>\n",
       "      <td>1056.0</td>\n",
       "    </tr>\n",
       "    <tr>\n",
       "      <th>1</th>\n",
       "      <td>Plot  Area</td>\n",
       "      <td>Chikka Tirupathi</td>\n",
       "      <td>5.0</td>\n",
       "      <td>3.0</td>\n",
       "      <td>120.00</td>\n",
       "      <td>4</td>\n",
       "      <td>2600.0</td>\n",
       "    </tr>\n",
       "    <tr>\n",
       "      <th>2</th>\n",
       "      <td>Built-up  Area</td>\n",
       "      <td>Uttarahalli</td>\n",
       "      <td>2.0</td>\n",
       "      <td>3.0</td>\n",
       "      <td>62.00</td>\n",
       "      <td>3</td>\n",
       "      <td>1440.0</td>\n",
       "    </tr>\n",
       "    <tr>\n",
       "      <th>3</th>\n",
       "      <td>Super built-up  Area</td>\n",
       "      <td>Lingadheeranahalli</td>\n",
       "      <td>3.0</td>\n",
       "      <td>1.0</td>\n",
       "      <td>95.00</td>\n",
       "      <td>3</td>\n",
       "      <td>1521.0</td>\n",
       "    </tr>\n",
       "    <tr>\n",
       "      <th>4</th>\n",
       "      <td>Super built-up  Area</td>\n",
       "      <td>Kothanur</td>\n",
       "      <td>2.0</td>\n",
       "      <td>1.0</td>\n",
       "      <td>51.00</td>\n",
       "      <td>2</td>\n",
       "      <td>1200.0</td>\n",
       "    </tr>\n",
       "  </tbody>\n",
       "</table>\n",
       "</div>"
      ],
      "text/plain": [
       "              area_type                  location  bath  balcony   price  \\\n",
       "0  Super built-up  Area  Electronic City Phase II   2.0      1.0   39.07   \n",
       "1            Plot  Area          Chikka Tirupathi   5.0      3.0  120.00   \n",
       "2        Built-up  Area               Uttarahalli   2.0      3.0   62.00   \n",
       "3  Super built-up  Area        Lingadheeranahalli   3.0      1.0   95.00   \n",
       "4  Super built-up  Area                  Kothanur   2.0      1.0   51.00   \n",
       "\n",
       "   bedroom_formated  surf_formated  \n",
       "0                 2         1056.0  \n",
       "1                 4         2600.0  \n",
       "2                 3         1440.0  \n",
       "3                 3         1521.0  \n",
       "4                 2         1200.0  "
      ]
     },
     "execution_count": 15,
     "metadata": {},
     "output_type": "execute_result"
    }
   ],
   "source": [
    "df4 = df4.dropna() # To remove the outliers with surface not included in [50, 20000] sqft.\n",
    "df4 = df4.drop('total_sqft', axis = 'columns')\n",
    "df4.head()"
   ]
  },
  {
   "cell_type": "code",
   "execution_count": 16,
   "id": "39754fbe-9e46-4278-bab0-6bf2bee6e69b",
   "metadata": {},
   "outputs": [
    {
     "data": {
      "text/plain": [
       "area_type           0\n",
       "location            0\n",
       "bath                0\n",
       "balcony             0\n",
       "price               0\n",
       "bedroom_formated    0\n",
       "surf_formated       0\n",
       "dtype: int64"
      ]
     },
     "execution_count": 16,
     "metadata": {},
     "output_type": "execute_result"
    }
   ],
   "source": [
    "df4.isna().sum()"
   ]
  },
  {
   "cell_type": "markdown",
   "id": "cb8b9ec9-c0c6-459d-b8b5-f0fbc759fbe7",
   "metadata": {},
   "source": [
    "At this moment, the values in this dataframe must be well-formated. We still have to One-Hot encode the categorical features."
   ]
  },
  {
   "cell_type": "code",
   "execution_count": 17,
   "id": "c8d52d9d-a68f-40b4-a751-20dfb65d3ac9",
   "metadata": {},
   "outputs": [],
   "source": [
    "oh_features = pd.get_dummies(df4[['area_type', 'location']])"
   ]
  },
  {
   "cell_type": "code",
   "execution_count": 18,
   "id": "0dd380c6-b2d8-4fdf-9e18-82bc6957e555",
   "metadata": {},
   "outputs": [
    {
     "data": {
      "text/plain": [
       "(12697, 1264)"
      ]
     },
     "execution_count": 18,
     "metadata": {},
     "output_type": "execute_result"
    }
   ],
   "source": [
    "oh_features.shape"
   ]
  },
  {
   "cell_type": "markdown",
   "id": "4203c57a-3edb-4adc-a01c-bda4a6ebc6c8",
   "metadata": {},
   "source": [
    "We encounter an issue here : there are too much different locations, OH encoding would create 1260+ features. To tackle this issue, we will group the locations with less than 50 occurrences in a category 'Other'."
   ]
  },
  {
   "cell_type": "code",
   "execution_count": 19,
   "id": "424e6467-cf21-4a2e-a410-7224f53c6679",
   "metadata": {},
   "outputs": [],
   "source": [
    "df_tmp = df4.groupby('location')['location'].agg('count')"
   ]
  },
  {
   "cell_type": "code",
   "execution_count": 20,
   "id": "fd16eee9-c1a2-4c93-a776-eeaaf4bbff0b",
   "metadata": {},
   "outputs": [],
   "source": [
    "list_loc_ok = df_tmp[df_tmp>50].sort_values(ascending=False)"
   ]
  },
  {
   "cell_type": "code",
   "execution_count": 21,
   "id": "50241bb1-6e08-4b79-a006-c504ba4166b3",
   "metadata": {},
   "outputs": [],
   "source": [
    "def format_location(loc : str) -> str:\n",
    "    if loc in list_loc_ok:\n",
    "        return loc\n",
    "    else:\n",
    "        return 'Other'"
   ]
  },
  {
   "cell_type": "code",
   "execution_count": 22,
   "id": "7289356a-7a3d-4c56-94ab-62f01ad5e5c2",
   "metadata": {},
   "outputs": [],
   "source": [
    "df5 = df4.copy()\n",
    "df5['loc_formated'] = df4['location'].apply(format_location)\n",
    "df5 = df5.drop('location', axis = 'columns')"
   ]
  },
  {
   "cell_type": "code",
   "execution_count": 23,
   "id": "db615116-51fb-4fa9-8245-91be0b9b434f",
   "metadata": {},
   "outputs": [
    {
     "data": {
      "text/plain": [
       "loc_formated\n",
       "7th Phase JP Nagar           147\n",
       "8th Phase JP Nagar            56\n",
       "Akshaya Nagar                 58\n",
       "Banashankari                  74\n",
       "Bannerghatta Road            144\n",
       "Begur Road                    83\n",
       "Bellandur                     91\n",
       "Bisuvanahalli                 51\n",
       "Budigere                      54\n",
       "Chandapura                    98\n",
       "Electronic City              300\n",
       "Electronic City Phase II     130\n",
       "Electronics City Phase 1      86\n",
       "Haralur Road                 135\n",
       "Harlur                        76\n",
       "Hebbal                       173\n",
       "Hennur                        51\n",
       "Hennur Road                  142\n",
       "Hoodi                         86\n",
       "Hormavu                       71\n",
       "Hosa Road                     72\n",
       "JP Nagar                      64\n",
       "Jakkur                        67\n",
       "KR Puram                      85\n",
       "Kaggadasapura                 61\n",
       "Kanakpura Road               259\n",
       "Kasavanhalli                  77\n",
       "Kengeri                       71\n",
       "Koramangala                   69\n",
       "Kothanur                      59\n",
       "Malleshwaram                  52\n",
       "Marathahalli                 164\n",
       "Nagarbhavi                    62\n",
       "Old Madras Road               69\n",
       "Other                       7060\n",
       "Panathur                      51\n",
       "Rachenahalli                  54\n",
       "Raja Rajeshwari Nagar        168\n",
       "Rajaji Nagar                  99\n",
       "Ramamurthy Nagar              72\n",
       "Sarjapur                      81\n",
       "Sarjapur  Road               372\n",
       "TC Palaya                     60\n",
       "Thanisandra                  231\n",
       "Thigalarapalya                60\n",
       "Uttarahalli                  186\n",
       "Varthur                       68\n",
       "Whitefield                   514\n",
       "Yelahanka                    206\n",
       "Yeshwanthpur                  78\n",
       "Name: loc_formated, dtype: int64"
      ]
     },
     "execution_count": 23,
     "metadata": {},
     "output_type": "execute_result"
    }
   ],
   "source": [
    "df5.groupby('loc_formated')['loc_formated'].agg('count')"
   ]
  },
  {
   "cell_type": "code",
   "execution_count": 24,
   "id": "960b3474-cf63-4182-9ff2-26c879272301",
   "metadata": {},
   "outputs": [
    {
     "data": {
      "text/plain": [
       "area_type\n",
       "Built-up  Area          2308\n",
       "Carpet  Area              82\n",
       "Plot  Area              1826\n",
       "Super built-up  Area    8481\n",
       "Name: area_type, dtype: int64"
      ]
     },
     "execution_count": 24,
     "metadata": {},
     "output_type": "execute_result"
    }
   ],
   "source": [
    "df5.groupby('area_type')['area_type'].agg('count')"
   ]
  },
  {
   "cell_type": "markdown",
   "id": "a5b70224-84ff-4305-8d3f-8276948814af",
   "metadata": {},
   "source": [
    "No need to do the same operation with the 'area_type' feature since there are only 4 different values."
   ]
  },
  {
   "cell_type": "markdown",
   "id": "4e667eb9-f2cd-4015-b357-f8a606380a0f",
   "metadata": {},
   "source": [
    "Now, we have 50 different locations. We will keep the columns 'loc_formated' and 'area_type' for the moment because it is more convenient for outliers removing."
   ]
  },
  {
   "cell_type": "code",
   "execution_count": 25,
   "id": "3c492477-f647-486d-b988-2140539d2324",
   "metadata": {},
   "outputs": [],
   "source": [
    "df6 = df5.copy()"
   ]
  },
  {
   "cell_type": "markdown",
   "id": "5b481655-11a4-474e-a03c-0dc5f40d4e43",
   "metadata": {},
   "source": [
    "The dataset is well-formated. We still have to remove the outliers in order to improve the future model we will use. To do so, I will introduce two temporary features : price per sqft, number of sqft per bedroom. We will get rid of the rows with a Z-score between -1 and 1 for the price_per_sqft, and discard the rows with an area_per_bedroom lower than 300 sqft. \n",
    "\n",
    "\n",
    "A final filter will be applied on the bath number. Arbitrarily, we choose to discard the rows with more bathrooms than bedrooms."
   ]
  },
  {
   "cell_type": "code",
   "execution_count": 26,
   "id": "e4d1f8a6-9293-44aa-9f34-d0190d6fc497",
   "metadata": {},
   "outputs": [],
   "source": [
    "df6['price_per_sqft'] = df6.price / df6.surf_formated\n",
    "df6['area_per_bedroom'] = df6.surf_formated / df6.bedroom_formated"
   ]
  },
  {
   "cell_type": "code",
   "execution_count": 27,
   "id": "4391e167-8ee7-49eb-b7a5-c009d574dc48",
   "metadata": {},
   "outputs": [
    {
     "data": {
      "text/plain": [
       "(12697, 9)"
      ]
     },
     "execution_count": 27,
     "metadata": {},
     "output_type": "execute_result"
    }
   ],
   "source": [
    "df6.shape"
   ]
  },
  {
   "cell_type": "code",
   "execution_count": 28,
   "id": "104e01d1-2181-48c7-8f46-f099a0368f7e",
   "metadata": {},
   "outputs": [],
   "source": [
    "from scipy import stats"
   ]
  },
  {
   "cell_type": "code",
   "execution_count": 29,
   "id": "e0e33bdb-7647-48b6-8854-5a0d882d8a30",
   "metadata": {},
   "outputs": [],
   "source": [
    "df_outliers_removing = df6.copy()\n",
    "df_outliers_removing = df_outliers_removing[~(df_outliers_removing['area_per_bedroom']<300)]"
   ]
  },
  {
   "cell_type": "code",
   "execution_count": 30,
   "id": "df37b579-371f-40c9-af76-ad14e469440a",
   "metadata": {},
   "outputs": [
    {
     "data": {
      "text/plain": [
       "(12038, 9)"
      ]
     },
     "execution_count": 30,
     "metadata": {},
     "output_type": "execute_result"
    }
   ],
   "source": [
    "df_outliers_removing.shape"
   ]
  },
  {
   "cell_type": "code",
   "execution_count": 31,
   "id": "e0333150-5c47-49e6-bb47-530ad4fd9788",
   "metadata": {},
   "outputs": [],
   "source": [
    "df_outliers_removing['zscore_price_per_sqft'] = df_outliers_removing.groupby('loc_formated')['price_per_sqft'].transform(lambda x: stats.zscore(x))"
   ]
  },
  {
   "cell_type": "code",
   "execution_count": 32,
   "id": "db64ea79-f080-4c0c-a581-96951f314ab1",
   "metadata": {},
   "outputs": [
    {
     "data": {
      "text/html": [
       "<div>\n",
       "<style scoped>\n",
       "    .dataframe tbody tr th:only-of-type {\n",
       "        vertical-align: middle;\n",
       "    }\n",
       "\n",
       "    .dataframe tbody tr th {\n",
       "        vertical-align: top;\n",
       "    }\n",
       "\n",
       "    .dataframe thead th {\n",
       "        text-align: right;\n",
       "    }\n",
       "</style>\n",
       "<table border=\"1\" class=\"dataframe\">\n",
       "  <thead>\n",
       "    <tr style=\"text-align: right;\">\n",
       "      <th></th>\n",
       "      <th>area_type</th>\n",
       "      <th>bath</th>\n",
       "      <th>balcony</th>\n",
       "      <th>price</th>\n",
       "      <th>bedroom_formated</th>\n",
       "      <th>surf_formated</th>\n",
       "      <th>loc_formated</th>\n",
       "      <th>price_per_sqft</th>\n",
       "      <th>area_per_bedroom</th>\n",
       "      <th>zscore_price_per_sqft</th>\n",
       "    </tr>\n",
       "  </thead>\n",
       "  <tbody>\n",
       "    <tr>\n",
       "      <th>0</th>\n",
       "      <td>Super built-up  Area</td>\n",
       "      <td>2.0</td>\n",
       "      <td>1.0</td>\n",
       "      <td>39.07</td>\n",
       "      <td>2</td>\n",
       "      <td>1056.0</td>\n",
       "      <td>Electronic City Phase II</td>\n",
       "      <td>0.036998</td>\n",
       "      <td>528.0</td>\n",
       "      <td>-0.057460</td>\n",
       "    </tr>\n",
       "    <tr>\n",
       "      <th>1</th>\n",
       "      <td>Plot  Area</td>\n",
       "      <td>5.0</td>\n",
       "      <td>3.0</td>\n",
       "      <td>120.00</td>\n",
       "      <td>4</td>\n",
       "      <td>2600.0</td>\n",
       "      <td>Other</td>\n",
       "      <td>0.046154</td>\n",
       "      <td>650.0</td>\n",
       "      <td>-0.416340</td>\n",
       "    </tr>\n",
       "    <tr>\n",
       "      <th>2</th>\n",
       "      <td>Built-up  Area</td>\n",
       "      <td>2.0</td>\n",
       "      <td>3.0</td>\n",
       "      <td>62.00</td>\n",
       "      <td>3</td>\n",
       "      <td>1440.0</td>\n",
       "      <td>Uttarahalli</td>\n",
       "      <td>0.043056</td>\n",
       "      <td>480.0</td>\n",
       "      <td>0.010446</td>\n",
       "    </tr>\n",
       "    <tr>\n",
       "      <th>3</th>\n",
       "      <td>Super built-up  Area</td>\n",
       "      <td>3.0</td>\n",
       "      <td>1.0</td>\n",
       "      <td>95.00</td>\n",
       "      <td>3</td>\n",
       "      <td>1521.0</td>\n",
       "      <td>Other</td>\n",
       "      <td>0.062459</td>\n",
       "      <td>507.0</td>\n",
       "      <td>-0.070597</td>\n",
       "    </tr>\n",
       "    <tr>\n",
       "      <th>4</th>\n",
       "      <td>Super built-up  Area</td>\n",
       "      <td>2.0</td>\n",
       "      <td>1.0</td>\n",
       "      <td>51.00</td>\n",
       "      <td>2</td>\n",
       "      <td>1200.0</td>\n",
       "      <td>Kothanur</td>\n",
       "      <td>0.042500</td>\n",
       "      <td>600.0</td>\n",
       "      <td>-0.725487</td>\n",
       "    </tr>\n",
       "  </tbody>\n",
       "</table>\n",
       "</div>"
      ],
      "text/plain": [
       "              area_type  bath  balcony   price  bedroom_formated  \\\n",
       "0  Super built-up  Area   2.0      1.0   39.07                 2   \n",
       "1            Plot  Area   5.0      3.0  120.00                 4   \n",
       "2        Built-up  Area   2.0      3.0   62.00                 3   \n",
       "3  Super built-up  Area   3.0      1.0   95.00                 3   \n",
       "4  Super built-up  Area   2.0      1.0   51.00                 2   \n",
       "\n",
       "   surf_formated              loc_formated  price_per_sqft  area_per_bedroom  \\\n",
       "0         1056.0  Electronic City Phase II        0.036998             528.0   \n",
       "1         2600.0                     Other        0.046154             650.0   \n",
       "2         1440.0               Uttarahalli        0.043056             480.0   \n",
       "3         1521.0                     Other        0.062459             507.0   \n",
       "4         1200.0                  Kothanur        0.042500             600.0   \n",
       "\n",
       "   zscore_price_per_sqft  \n",
       "0              -0.057460  \n",
       "1              -0.416340  \n",
       "2               0.010446  \n",
       "3              -0.070597  \n",
       "4              -0.725487  "
      ]
     },
     "execution_count": 32,
     "metadata": {},
     "output_type": "execute_result"
    }
   ],
   "source": [
    "df_outliers_removing.head()"
   ]
  },
  {
   "cell_type": "code",
   "execution_count": 33,
   "id": "256f1932-e28c-48f9-b208-d96c6a22797a",
   "metadata": {},
   "outputs": [
    {
     "name": "stdout",
     "output_type": "stream",
     "text": [
      "(10373, 10)\n"
     ]
    }
   ],
   "source": [
    "df_outliers_removing = df_outliers_removing[abs(df_outliers_removing['zscore_price_per_sqft'])<1] # Outliers price per square ft\n",
    "print(df_outliers_removing.shape)"
   ]
  },
  {
   "cell_type": "code",
   "execution_count": 34,
   "id": "62779c38-110e-4fea-a9b9-9686fb8803de",
   "metadata": {},
   "outputs": [
    {
     "name": "stdout",
     "output_type": "stream",
     "text": [
      "(9858, 10)\n"
     ]
    }
   ],
   "source": [
    "df_outliers_removing = df_outliers_removing[df_outliers_removing['bath']<=df_outliers_removing['bedroom_formated']] # Outliers bath numbers\n",
    "print(df_outliers_removing.shape)"
   ]
  },
  {
   "cell_type": "code",
   "execution_count": 35,
   "id": "e26bc131-b6b9-41f4-9677-a6091c11ff15",
   "metadata": {},
   "outputs": [],
   "source": [
    "dummies_var = pd.get_dummies(df_outliers_removing[['area_type', 'loc_formated']], drop_first = True)"
   ]
  },
  {
   "cell_type": "code",
   "execution_count": 36,
   "id": "3e56f5fb-20ec-418e-9d54-660c35b36e17",
   "metadata": {},
   "outputs": [],
   "source": [
    "df7 = pd.concat([df_outliers_removing.drop(['area_type', 'loc_formated', 'price_per_sqft', 'area_per_bedroom', 'zscore_price_per_sqft'], axis = 'columns'), dummies_var], axis = 'columns')"
   ]
  },
  {
   "cell_type": "code",
   "execution_count": 37,
   "id": "888de619-2187-48a2-a1e3-a260c62ac8ea",
   "metadata": {},
   "outputs": [
    {
     "data": {
      "text/plain": [
       "(9858, 57)"
      ]
     },
     "execution_count": 37,
     "metadata": {},
     "output_type": "execute_result"
    }
   ],
   "source": [
    "df7.shape"
   ]
  },
  {
   "cell_type": "code",
   "execution_count": 38,
   "id": "ffd27519-afe2-4e21-8b05-a3651eea28a0",
   "metadata": {},
   "outputs": [
    {
     "name": "stdout",
     "output_type": "stream",
     "text": [
      "After removing the outliers, 9858 houses remain, out of the original 13320.\n"
     ]
    }
   ],
   "source": [
    "print(f'After removing the outliers, {df7.shape[0]} houses remain, out of the original {df.shape[0]}.')"
   ]
  },
  {
   "cell_type": "markdown",
   "id": "9f2252ea-35fe-44c4-83de-7484132ea0c0",
   "metadata": {},
   "source": [
    "<h1 style=\"color:blue; font-weight:bold;\"> Data Visualization </h1>"
   ]
  },
  {
   "cell_type": "code",
   "execution_count": 39,
   "id": "e372e57b-7619-4c6b-91f3-80dc47cab9b4",
   "metadata": {},
   "outputs": [],
   "source": [
    "list_columns_to_visualize = ['bath', 'balcony', 'price', 'bedroom_formated', 'surf_formated']"
   ]
  },
  {
   "cell_type": "code",
   "execution_count": 40,
   "id": "3f7aceb4-7ccd-4685-afa3-5d175654e3a5",
   "metadata": {},
   "outputs": [
    {
     "data": {
      "image/png": "[encoded data removed]",
      "text/plain": [
       "<Figure size 1800x1200 with 5 Axes>"
      ]
     },
     "metadata": {},
     "output_type": "display_data"
    }
   ],
   "source": [
    "discrete_columns = ['bath', 'balcony', 'bedroom_formated']\n",
    "continuous_columns = ['price', 'surf_formated']\n",
    "\n",
    "k = 0\n",
    "plt.figure(figsize=(18, 12))\n",
    "\n",
    "for col_name in list_columns_to_visualize:\n",
    "    k += 1\n",
    "    plt.subplot(3, 3, k)\n",
    "    if col_name in discrete_columns:\n",
    "        min_value = df7[col_name].min()\n",
    "        max_value = df7[col_name].max()\n",
    "        bins = np.arange(min_value - 0.5, max_value + 1.5, 1)  \n",
    "    else:\n",
    "        bins = 30  # Arbitrarily chosen\n",
    "    \n",
    "    plt.hist(df7[col_name], rwidth=0.8, bins=bins, edgecolor='black')\n",
    "    plt.xlabel('Values')\n",
    "    plt.ylabel('Occurrences')\n",
    "    plt.yscale('log')\n",
    "    plt.title(f\"Histogram of '{col_name}'\", fontsize=10)\n",
    "\n",
    "plt.tight_layout()\n",
    "plt.subplots_adjust(top=0.9, hspace=0.6, wspace=0.4)\n",
    "plt.show()\n"
   ]
  },
  {
   "cell_type": "markdown",
   "id": "aa204a8c-1b52-4936-965e-3824811fe136",
   "metadata": {},
   "source": [
    "<h1 style=\"color:blue; font-weight:bold;\"> Model Conception </h1>"
   ]
  },
  {
   "cell_type": "code",
   "execution_count": 41,
   "id": "22b0a6b2-4a08-45c4-a705-77abc07a42e4",
   "metadata": {},
   "outputs": [],
   "source": [
    "X = df7.drop('price', axis = 'columns')\n",
    "y = df7.price"
   ]
  },
  {
   "cell_type": "code",
   "execution_count": 42,
   "id": "b546ba01-f096-4259-9443-d651be959572",
   "metadata": {},
   "outputs": [
    {
     "data": {
      "text/html": [
       "<div>\n",
       "<style scoped>\n",
       "    .dataframe tbody tr th:only-of-type {\n",
       "        vertical-align: middle;\n",
       "    }\n",
       "\n",
       "    .dataframe tbody tr th {\n",
       "        vertical-align: top;\n",
       "    }\n",
       "\n",
       "    .dataframe thead th {\n",
       "        text-align: right;\n",
       "    }\n",
       "</style>\n",
       "<table border=\"1\" class=\"dataframe\">\n",
       "  <thead>\n",
       "    <tr style=\"text-align: right;\">\n",
       "      <th></th>\n",
       "      <th>bath</th>\n",
       "      <th>balcony</th>\n",
       "      <th>bedroom_formated</th>\n",
       "      <th>surf_formated</th>\n",
       "      <th>area_type_Carpet  Area</th>\n",
       "      <th>area_type_Plot  Area</th>\n",
       "      <th>area_type_Super built-up  Area</th>\n",
       "      <th>loc_formated_8th Phase JP Nagar</th>\n",
       "      <th>loc_formated_Akshaya Nagar</th>\n",
       "      <th>loc_formated_Banashankari</th>\n",
       "      <th>...</th>\n",
       "      <th>loc_formated_Sarjapur</th>\n",
       "      <th>loc_formated_Sarjapur  Road</th>\n",
       "      <th>loc_formated_TC Palaya</th>\n",
       "      <th>loc_formated_Thanisandra</th>\n",
       "      <th>loc_formated_Thigalarapalya</th>\n",
       "      <th>loc_formated_Uttarahalli</th>\n",
       "      <th>loc_formated_Varthur</th>\n",
       "      <th>loc_formated_Whitefield</th>\n",
       "      <th>loc_formated_Yelahanka</th>\n",
       "      <th>loc_formated_Yeshwanthpur</th>\n",
       "    </tr>\n",
       "  </thead>\n",
       "  <tbody>\n",
       "    <tr>\n",
       "      <th>0</th>\n",
       "      <td>2.0</td>\n",
       "      <td>1.0</td>\n",
       "      <td>2</td>\n",
       "      <td>1056.0</td>\n",
       "      <td>False</td>\n",
       "      <td>False</td>\n",
       "      <td>True</td>\n",
       "      <td>False</td>\n",
       "      <td>False</td>\n",
       "      <td>False</td>\n",
       "      <td>...</td>\n",
       "      <td>False</td>\n",
       "      <td>False</td>\n",
       "      <td>False</td>\n",
       "      <td>False</td>\n",
       "      <td>False</td>\n",
       "      <td>False</td>\n",
       "      <td>False</td>\n",
       "      <td>False</td>\n",
       "      <td>False</td>\n",
       "      <td>False</td>\n",
       "    </tr>\n",
       "    <tr>\n",
       "      <th>2</th>\n",
       "      <td>2.0</td>\n",
       "      <td>3.0</td>\n",
       "      <td>3</td>\n",
       "      <td>1440.0</td>\n",
       "      <td>False</td>\n",
       "      <td>False</td>\n",
       "      <td>False</td>\n",
       "      <td>False</td>\n",
       "      <td>False</td>\n",
       "      <td>False</td>\n",
       "      <td>...</td>\n",
       "      <td>False</td>\n",
       "      <td>False</td>\n",
       "      <td>False</td>\n",
       "      <td>False</td>\n",
       "      <td>False</td>\n",
       "      <td>True</td>\n",
       "      <td>False</td>\n",
       "      <td>False</td>\n",
       "      <td>False</td>\n",
       "      <td>False</td>\n",
       "    </tr>\n",
       "    <tr>\n",
       "      <th>3</th>\n",
       "      <td>3.0</td>\n",
       "      <td>1.0</td>\n",
       "      <td>3</td>\n",
       "      <td>1521.0</td>\n",
       "      <td>False</td>\n",
       "      <td>False</td>\n",
       "      <td>True</td>\n",
       "      <td>False</td>\n",
       "      <td>False</td>\n",
       "      <td>False</td>\n",
       "      <td>...</td>\n",
       "      <td>False</td>\n",
       "      <td>False</td>\n",
       "      <td>False</td>\n",
       "      <td>False</td>\n",
       "      <td>False</td>\n",
       "      <td>False</td>\n",
       "      <td>False</td>\n",
       "      <td>False</td>\n",
       "      <td>False</td>\n",
       "      <td>False</td>\n",
       "    </tr>\n",
       "    <tr>\n",
       "      <th>4</th>\n",
       "      <td>2.0</td>\n",
       "      <td>1.0</td>\n",
       "      <td>2</td>\n",
       "      <td>1200.0</td>\n",
       "      <td>False</td>\n",
       "      <td>False</td>\n",
       "      <td>True</td>\n",
       "      <td>False</td>\n",
       "      <td>False</td>\n",
       "      <td>False</td>\n",
       "      <td>...</td>\n",
       "      <td>False</td>\n",
       "      <td>False</td>\n",
       "      <td>False</td>\n",
       "      <td>False</td>\n",
       "      <td>False</td>\n",
       "      <td>False</td>\n",
       "      <td>False</td>\n",
       "      <td>False</td>\n",
       "      <td>False</td>\n",
       "      <td>False</td>\n",
       "    </tr>\n",
       "    <tr>\n",
       "      <th>5</th>\n",
       "      <td>2.0</td>\n",
       "      <td>1.0</td>\n",
       "      <td>2</td>\n",
       "      <td>1170.0</td>\n",
       "      <td>False</td>\n",
       "      <td>False</td>\n",
       "      <td>True</td>\n",
       "      <td>False</td>\n",
       "      <td>False</td>\n",
       "      <td>False</td>\n",
       "      <td>...</td>\n",
       "      <td>False</td>\n",
       "      <td>False</td>\n",
       "      <td>False</td>\n",
       "      <td>False</td>\n",
       "      <td>False</td>\n",
       "      <td>False</td>\n",
       "      <td>False</td>\n",
       "      <td>True</td>\n",
       "      <td>False</td>\n",
       "      <td>False</td>\n",
       "    </tr>\n",
       "    <tr>\n",
       "      <th>...</th>\n",
       "      <td>...</td>\n",
       "      <td>...</td>\n",
       "      <td>...</td>\n",
       "      <td>...</td>\n",
       "      <td>...</td>\n",
       "      <td>...</td>\n",
       "      <td>...</td>\n",
       "      <td>...</td>\n",
       "      <td>...</td>\n",
       "      <td>...</td>\n",
       "      <td>...</td>\n",
       "      <td>...</td>\n",
       "      <td>...</td>\n",
       "      <td>...</td>\n",
       "      <td>...</td>\n",
       "      <td>...</td>\n",
       "      <td>...</td>\n",
       "      <td>...</td>\n",
       "      <td>...</td>\n",
       "      <td>...</td>\n",
       "      <td>...</td>\n",
       "    </tr>\n",
       "    <tr>\n",
       "      <th>13314</th>\n",
       "      <td>3.0</td>\n",
       "      <td>3.0</td>\n",
       "      <td>3</td>\n",
       "      <td>1715.0</td>\n",
       "      <td>False</td>\n",
       "      <td>False</td>\n",
       "      <td>True</td>\n",
       "      <td>False</td>\n",
       "      <td>False</td>\n",
       "      <td>False</td>\n",
       "      <td>...</td>\n",
       "      <td>False</td>\n",
       "      <td>False</td>\n",
       "      <td>False</td>\n",
       "      <td>False</td>\n",
       "      <td>False</td>\n",
       "      <td>False</td>\n",
       "      <td>False</td>\n",
       "      <td>False</td>\n",
       "      <td>False</td>\n",
       "      <td>False</td>\n",
       "    </tr>\n",
       "    <tr>\n",
       "      <th>13315</th>\n",
       "      <td>4.0</td>\n",
       "      <td>0.0</td>\n",
       "      <td>5</td>\n",
       "      <td>3453.0</td>\n",
       "      <td>False</td>\n",
       "      <td>False</td>\n",
       "      <td>False</td>\n",
       "      <td>False</td>\n",
       "      <td>False</td>\n",
       "      <td>False</td>\n",
       "      <td>...</td>\n",
       "      <td>False</td>\n",
       "      <td>False</td>\n",
       "      <td>False</td>\n",
       "      <td>False</td>\n",
       "      <td>False</td>\n",
       "      <td>False</td>\n",
       "      <td>False</td>\n",
       "      <td>True</td>\n",
       "      <td>False</td>\n",
       "      <td>False</td>\n",
       "    </tr>\n",
       "    <tr>\n",
       "      <th>13317</th>\n",
       "      <td>2.0</td>\n",
       "      <td>1.0</td>\n",
       "      <td>2</td>\n",
       "      <td>1141.0</td>\n",
       "      <td>False</td>\n",
       "      <td>False</td>\n",
       "      <td>False</td>\n",
       "      <td>False</td>\n",
       "      <td>False</td>\n",
       "      <td>False</td>\n",
       "      <td>...</td>\n",
       "      <td>False</td>\n",
       "      <td>False</td>\n",
       "      <td>False</td>\n",
       "      <td>False</td>\n",
       "      <td>False</td>\n",
       "      <td>False</td>\n",
       "      <td>False</td>\n",
       "      <td>False</td>\n",
       "      <td>False</td>\n",
       "      <td>False</td>\n",
       "    </tr>\n",
       "    <tr>\n",
       "      <th>13318</th>\n",
       "      <td>4.0</td>\n",
       "      <td>1.0</td>\n",
       "      <td>4</td>\n",
       "      <td>4689.0</td>\n",
       "      <td>False</td>\n",
       "      <td>False</td>\n",
       "      <td>True</td>\n",
       "      <td>False</td>\n",
       "      <td>False</td>\n",
       "      <td>False</td>\n",
       "      <td>...</td>\n",
       "      <td>False</td>\n",
       "      <td>False</td>\n",
       "      <td>False</td>\n",
       "      <td>False</td>\n",
       "      <td>False</td>\n",
       "      <td>False</td>\n",
       "      <td>False</td>\n",
       "      <td>False</td>\n",
       "      <td>False</td>\n",
       "      <td>False</td>\n",
       "    </tr>\n",
       "    <tr>\n",
       "      <th>13319</th>\n",
       "      <td>1.0</td>\n",
       "      <td>1.0</td>\n",
       "      <td>1</td>\n",
       "      <td>550.0</td>\n",
       "      <td>False</td>\n",
       "      <td>False</td>\n",
       "      <td>True</td>\n",
       "      <td>False</td>\n",
       "      <td>False</td>\n",
       "      <td>False</td>\n",
       "      <td>...</td>\n",
       "      <td>False</td>\n",
       "      <td>False</td>\n",
       "      <td>False</td>\n",
       "      <td>False</td>\n",
       "      <td>False</td>\n",
       "      <td>False</td>\n",
       "      <td>False</td>\n",
       "      <td>False</td>\n",
       "      <td>False</td>\n",
       "      <td>False</td>\n",
       "    </tr>\n",
       "  </tbody>\n",
       "</table>\n",
       "<p>9858 rows × 56 columns</p>\n",
       "</div>"
      ],
      "text/plain": [
       "       bath  balcony  bedroom_formated  surf_formated  area_type_Carpet  Area  \\\n",
       "0       2.0      1.0                 2         1056.0                   False   \n",
       "2       2.0      3.0                 3         1440.0                   False   \n",
       "3       3.0      1.0                 3         1521.0                   False   \n",
       "4       2.0      1.0                 2         1200.0                   False   \n",
       "5       2.0      1.0                 2         1170.0                   False   \n",
       "...     ...      ...               ...            ...                     ...   \n",
       "13314   3.0      3.0                 3         1715.0                   False   \n",
       "13315   4.0      0.0                 5         3453.0                   False   \n",
       "13317   2.0      1.0                 2         1141.0                   False   \n",
       "13318   4.0      1.0                 4         4689.0                   False   \n",
       "13319   1.0      1.0                 1          550.0                   False   \n",
       "\n",
       "       area_type_Plot  Area  area_type_Super built-up  Area  \\\n",
       "0                     False                            True   \n",
       "2                     False                           False   \n",
       "3                     False                            True   \n",
       "4                     False                            True   \n",
       "5                     False                            True   \n",
       "...                     ...                             ...   \n",
       "13314                 False                            True   \n",
       "13315                 False                           False   \n",
       "13317                 False                           False   \n",
       "13318                 False                            True   \n",
       "13319                 False                            True   \n",
       "\n",
       "       loc_formated_8th Phase JP Nagar  loc_formated_Akshaya Nagar  \\\n",
       "0                                False                       False   \n",
       "2                                False                       False   \n",
       "3                                False                       False   \n",
       "4                                False                       False   \n",
       "5                                False                       False   \n",
       "...                                ...                         ...   \n",
       "13314                            False                       False   \n",
       "13315                            False                       False   \n",
       "13317                            False                       False   \n",
       "13318                            False                       False   \n",
       "13319                            False                       False   \n",
       "\n",
       "       loc_formated_Banashankari  ...  loc_formated_Sarjapur  \\\n",
       "0                          False  ...                  False   \n",
       "2                          False  ...                  False   \n",
       "3                          False  ...                  False   \n",
       "4                          False  ...                  False   \n",
       "5                          False  ...                  False   \n",
       "...                          ...  ...                    ...   \n",
       "13314                      False  ...                  False   \n",
       "13315                      False  ...                  False   \n",
       "13317                      False  ...                  False   \n",
       "13318                      False  ...                  False   \n",
       "13319                      False  ...                  False   \n",
       "\n",
       "       loc_formated_Sarjapur  Road  loc_formated_TC Palaya  \\\n",
       "0                            False                   False   \n",
       "2                            False                   False   \n",
       "3                            False                   False   \n",
       "4                            False                   False   \n",
       "5                            False                   False   \n",
       "...                            ...                     ...   \n",
       "13314                        False                   False   \n",
       "13315                        False                   False   \n",
       "13317                        False                   False   \n",
       "13318                        False                   False   \n",
       "13319                        False                   False   \n",
       "\n",
       "       loc_formated_Thanisandra  loc_formated_Thigalarapalya  \\\n",
       "0                         False                        False   \n",
       "2                         False                        False   \n",
       "3                         False                        False   \n",
       "4                         False                        False   \n",
       "5                         False                        False   \n",
       "...                         ...                          ...   \n",
       "13314                     False                        False   \n",
       "13315                     False                        False   \n",
       "13317                     False                        False   \n",
       "13318                     False                        False   \n",
       "13319                     False                        False   \n",
       "\n",
       "       loc_formated_Uttarahalli  loc_formated_Varthur  \\\n",
       "0                         False                 False   \n",
       "2                          True                 False   \n",
       "3                         False                 False   \n",
       "4                         False                 False   \n",
       "5                         False                 False   \n",
       "...                         ...                   ...   \n",
       "13314                     False                 False   \n",
       "13315                     False                 False   \n",
       "13317                     False                 False   \n",
       "13318                     False                 False   \n",
       "13319                     False                 False   \n",
       "\n",
       "       loc_formated_Whitefield  loc_formated_Yelahanka  \\\n",
       "0                        False                   False   \n",
       "2                        False                   False   \n",
       "3                        False                   False   \n",
       "4                        False                   False   \n",
       "5                         True                   False   \n",
       "...                        ...                     ...   \n",
       "13314                    False                   False   \n",
       "13315                     True                   False   \n",
       "13317                    False                   False   \n",
       "13318                    False                   False   \n",
       "13319                    False                   False   \n",
       "\n",
       "       loc_formated_Yeshwanthpur  \n",
       "0                          False  \n",
       "2                          False  \n",
       "3                          False  \n",
       "4                          False  \n",
       "5                          False  \n",
       "...                          ...  \n",
       "13314                      False  \n",
       "13315                      False  \n",
       "13317                      False  \n",
       "13318                      False  \n",
       "13319                      False  \n",
       "\n",
       "[9858 rows x 56 columns]"
      ]
     },
     "execution_count": 42,
     "metadata": {},
     "output_type": "execute_result"
    }
   ],
   "source": [
    "X"
   ]
  },
  {
   "cell_type": "code",
   "execution_count": 43,
   "id": "6087ba6c-8b4b-4e03-8e0e-0e92ab9f965a",
   "metadata": {},
   "outputs": [],
   "source": [
    "# from sklearn.preprocessing import StandardScaler\n",
    "# ss = StandardScaler()\n",
    "# X[['bath','balcony','bedroom_formated','surf_formated']] = ss.fit_transform(X[['bath','balcony','bedroom_formated','surf_formated']])\n",
    "\n",
    "# from sklearn.decomposition import PCA\n",
    "# pca = PCA(0.8) # 95 % des features utiles sont extraites\n",
    "# X_pca = pca.fit_transform(X)"
   ]
  },
  {
   "cell_type": "code",
   "execution_count": 44,
   "id": "ddb9e340-8adc-4f31-9c7a-d0f20472f93d",
   "metadata": {},
   "outputs": [],
   "source": [
    "from sklearn.model_selection import train_test_split, GridSearchCV, RandomizedSearchCV\n",
    "from sklearn.linear_model import Lasso, LinearRegression\n",
    "from sklearn.svm import SVR\n",
    "from sklearn.ensemble import RandomForestRegressor"
   ]
  },
  {
   "cell_type": "code",
   "execution_count": 45,
   "id": "ddd10cfb-c00e-43a4-9fb7-6e13970aa0b1",
   "metadata": {},
   "outputs": [],
   "source": [
    "parameters = {\n",
    "    'svr' : {\n",
    "    'model' : SVR(),\n",
    "    'params' : {\n",
    "        'kernel':['rbf', 'linear'],\n",
    "        'gamma':['auto','scale']\n",
    "        }\n",
    "    },\n",
    "    'rf' : {\n",
    "    'model' : RandomForestRegressor(),\n",
    "    'params' : {\n",
    "        'n_estimators': [50, 100], \n",
    "        'criterion' :['squared_error','absolute_error'],\n",
    "        'max_depth': [None, 10, 100], \n",
    "        'max_features': ['auto', 'sqrt']\n",
    "        }\n",
    "    },\n",
    "    'lr' : {\n",
    "    'model' : LinearRegression(),\n",
    "    'params' : {\n",
    "    'fit_intercept': [True, False]\n",
    "        }\n",
    "    },\n",
    "    'lasso' : {\n",
    "    'model' : Lasso(max_iter=1000),\n",
    "    'params' : {\n",
    "        'alpha': [0.001, 0.01, 0.1, 1], \n",
    "        'fit_intercept': [True, False]\n",
    "        }\n",
    "    }\n",
    "}\n"
   ]
  },
  {
   "cell_type": "code",
   "execution_count": 46,
   "id": "505f371d-74fe-40d8-90eb-ae90f1ab5be7",
   "metadata": {},
   "outputs": [],
   "source": [
    "# %%time\n",
    "# for model_name, model_params in parameters.items():\n",
    "#     if model_name == 'svr':\n",
    "#         nb_max_iter = 4\n",
    "#     elif model_name == 'rf':\n",
    "#         nb_max_iter = 12\n",
    "#     elif model_name == 'lr':\n",
    "#         nb_max_iter = 2\n",
    "#     elif model_name == 'lasso':\n",
    "#         nb_max_iter = 8\n",
    "#     rscv = RandomizedSearchCV(model_params['model'], model_params['params'], cv = 4, verbose = 2, n_iter=nb_max_iter, n_jobs = -1)\n",
    "#     rscv.fit(X, y)\n",
    "#     print(f'Les meilleures performances de {model_name} sont de {rscv.best_score_}, atteintes avec les paramètres {rscv.best_params_}. \\n')"
   ]
  },
  {
   "cell_type": "code",
   "execution_count": 47,
   "id": "57d009ba-bf84-4399-a963-cccd53d127ab",
   "metadata": {},
   "outputs": [],
   "source": [
    "# %%time\n",
    "# for model_name, model_params in parameters.items():\n",
    "#     gscv = GridSearchCV(model_params['model'], model_params['params'], cv = 5, verbose = 3, n_jobs = -1)\n",
    "#     gscv.fit(X, y)\n",
    "#     print(f'Les meilleures performances de {model_name} sont de {gscv.best_score_}, atteintes avec les paramètres {gscv.best_params_}. \\n')"
   ]
  },
  {
   "cell_type": "code",
   "execution_count": 58,
   "id": "7c29dce7-982a-43d7-bc87-cf04a3e985a6",
   "metadata": {},
   "outputs": [
    {
     "name": "stdout",
     "output_type": "stream",
     "text": [
      "=== 0.7527616321093138 ===\n",
      "=== 0.8223716597747301 ===\n",
      "=== 0.7171393817563456 ===\n",
      "=== 0.7833781270213118 ===\n",
      "=== 0.6964530711532677 ===\n",
      "=== 0.7241263419627204 ===\n",
      "=== 0.7808578653201336 ===\n",
      "=== 0.7585553189535348 ===\n",
      "=== 0.7968903607920199 ===\n",
      "=== 0.7805023820648243 ===\n",
      "=== 0.7395452918937617 ===\n",
      "=== 0.7048037957300741 ===\n",
      "=== 0.7374668011177854 ===\n",
      "=== 0.7468194943695803 ===\n",
      "=== 0.7932461437946141 ===\n",
      "=== 0.6784997073532422 ===\n",
      "=== 0.8384317546781381 ===\n",
      "=== 0.6743040513095058 ===\n",
      "=== 0.7572682850001786 ===\n",
      "=== 0.760248410859582 ===\n",
      "=== 0.7461846740123028 ===\n",
      "=== 0.7900708623077644 ===\n",
      "=== 0.7807656314671624 ===\n",
      "=== 0.6725949959573418 ===\n",
      "=== 0.7004178346588461 ===\n",
      "=== 0.7549864753332567 ===\n",
      "=== 0.7713306580352515 ===\n",
      "=== 0.7461054714010442 ===\n",
      "=== 0.776481711181451 ===\n",
      "=== 0.7698251851777395 ===\n",
      "=== 0.8343835294023142 ===\n",
      "=== 0.7747664372930686 ===\n",
      "=== 0.8425662755425355 ===\n",
      "=== 0.8036238405119448 ===\n",
      "=== 0.7614923520844309 ===\n",
      "=== 0.7085188845217893 ===\n",
      "=== 0.7982665742874984 ===\n",
      "=== 0.6923670269921591 ===\n",
      "=== 0.6954976534859106 ===\n",
      "=== 0.7860659163320103 ===\n",
      "=== 0.6948390448173924 ===\n",
      "=== 0.7776644860747783 ===\n",
      "=== 0.7726450909921954 ===\n",
      "=== 0.7673126703795549 ===\n",
      "=== 0.8360419275199986 ===\n",
      "=== 0.8049618820713678 ===\n",
      "=== 0.7965347222063814 ===\n",
      "=== 0.6834899754604222 ===\n",
      "=== 0.687650338202021 ===\n",
      "=== 0.7669185474489624 ===\n",
      "=== 0.7402541461542502 ===\n",
      "=== 0.7038952750781021 ===\n",
      "=== 0.8216442406291594 ===\n",
      "=== 0.7225156658728673 ===\n",
      "=== 0.836143844874206 ===\n",
      "=== 0.750588862502449 ===\n",
      "=== 0.7572968418831417 ===\n",
      "=== 0.8158742955187763 ===\n",
      "=== 0.7769481471928608 ===\n",
      "=== 0.6929657790528488 ===\n",
      "=== 0.686528551245157 ===\n",
      "=== 0.7610633748260628 ===\n",
      "=== 0.7479075371603174 ===\n",
      "=== 0.7394642919854715 ===\n",
      "=== 0.7232986292202588 ===\n",
      "=== 0.7509992048645128 ===\n",
      "=== 0.783737230332484 ===\n",
      "=== 0.7587839271803364 ===\n",
      "=== 0.734404542465056 ===\n",
      "=== 0.7652333126684877 ===\n",
      "=== 0.7540094764480041 ===\n",
      "=== 0.7509637194443025 ===\n",
      "=== 0.8133462356249226 ===\n",
      "=== 0.7488556183647757 ===\n",
      "=== 0.761167801658559 ===\n",
      "=== 0.771297806994639 ===\n",
      "=== 0.7066453457986892 ===\n",
      "=== 0.7574525488349435 ===\n",
      "=== 0.7563421607555066 ===\n",
      "=== 0.7263707021911088 ===\n",
      "=== 0.7088926975449348 ===\n",
      "=== 0.679636520854373 ===\n",
      "=== 0.7972245912414038 ===\n",
      "=== 0.7959094228721206 ===\n",
      "=== 0.7769304214911212 ===\n",
      "=== 0.6910822496503193 ===\n",
      "=== 0.7041622981090275 ===\n",
      "=== 0.7708187047175753 ===\n",
      "=== 0.7544913773642447 ===\n",
      "=== 0.8064773836054562 ===\n",
      "=== 0.799203410716347 ===\n",
      "=== 0.7548239166963935 ===\n",
      "=== 0.6846430816600375 ===\n",
      "=== 0.75438925581388 ===\n",
      "=== 0.7592061689957211 ===\n",
      "=== 0.7394228168215236 ===\n",
      "=== 0.7546487085008518 ===\n",
      "=== 0.6723792528481023 ===\n",
      "=== 0.74725622761131 ===\n",
      "=== 0.8484743236422821 ===\n"
     ]
    },
    {
     "data": {
      "text/plain": [
       "0.7545411249975286"
      ]
     },
     "execution_count": 58,
     "metadata": {},
     "output_type": "execute_result"
    }
   ],
   "source": [
    "# scores = []\n",
    "# for k in range(100):\n",
    "#     X_train, X_test, y_train, y_test = train_test_split(X, y, test_size = 0.2)\n",
    "#     lr = LinearRegression()\n",
    "#     lr.fit(X_train, y_train)\n",
    "#     scores.append(lr.score(X_test, y_test))\n",
    "#     print('===', lr.score(X_test, y_test), '===')\n",
    "# np.mean(scores)"
   ]
  },
  {
   "cell_type": "code",
   "execution_count": 60,
   "id": "486ffc40-cd2f-486a-8f80-b47ade42714b",
   "metadata": {},
   "outputs": [
    {
     "data": {
      "text/plain": [
       "0.8490939067814369"
      ]
     },
     "execution_count": 60,
     "metadata": {},
     "output_type": "execute_result"
    }
   ],
   "source": [
    "from sklearn.ensemble import BaggingRegressor\n",
    "bag_model = BaggingRegressor(\n",
    "    estimator = LinearRegression(), # Modèle choisi arbitrairement\n",
    "    n_estimators = 1000,\n",
    "    max_samples = 0.8,\n",
    "    oob_score = True,\n",
    "    random_state = 11)\n",
    "bag_model.fit(X_train, y_train)\n",
    "bag_model.score(X_test, y_test)\n",
    "#print(bag_model.oob_score_)"
   ]
  },
  {
   "cell_type": "code",
   "execution_count": null,
   "id": "e4e07523-7d44-4375-ab67-bd73616b1e4e",
   "metadata": {},
   "outputs": [],
   "source": []
  }
 ],
 "metadata": {
  "kernelspec": {
   "display_name": "Python 3 (ipykernel)",
   "language": "python",
   "name": "python3"
  },
  "language_info": {
   "codemirror_mode": {
    "name": "ipython",
    "version": 3
   },
   "file_extension": ".py",
   "mimetype": "text/x-python",
   "name": "python",
   "nbconvert_exporter": "python",
   "pygments_lexer": "ipython3",
   "version": "3.11.5"
  }
 },
 "nbformat": 4,
 "nbformat_minor": 5
}
