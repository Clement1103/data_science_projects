{
 "cells": [
  {
   "cell_type": "code",
   "execution_count": 1,
   "id": "c03cd61d-e823-4d9b-b1e7-d7250742ba6a",
   "metadata": {},
   "outputs": [],
   "source": [
    "import pandas as pd\n",
    "import numpy as np\n",
    "import matplotlib.pyplot as plt"
   ]
  },
  {
   "cell_type": "code",
   "execution_count": 2,
   "id": "9f3e9973-a4ef-4068-921b-52ff51753d6c",
   "metadata": {},
   "outputs": [
    {
     "data": {
      "text/html": [
       "<div>\n",
       "<style scoped>\n",
       "    .dataframe tbody tr th:only-of-type {\n",
       "        vertical-align: middle;\n",
       "    }\n",
       "\n",
       "    .dataframe tbody tr th {\n",
       "        vertical-align: top;\n",
       "    }\n",
       "\n",
       "    .dataframe thead th {\n",
       "        text-align: right;\n",
       "    }\n",
       "</style>\n",
       "<table border=\"1\" class=\"dataframe\">\n",
       "  <thead>\n",
       "    <tr style=\"text-align: right;\">\n",
       "      <th></th>\n",
       "      <th>area_type</th>\n",
       "      <th>availability</th>\n",
       "      <th>location</th>\n",
       "      <th>size</th>\n",
       "      <th>society</th>\n",
       "      <th>total_sqft</th>\n",
       "      <th>bath</th>\n",
       "      <th>balcony</th>\n",
       "      <th>price</th>\n",
       "    </tr>\n",
       "  </thead>\n",
       "  <tbody>\n",
       "    <tr>\n",
       "      <th>0</th>\n",
       "      <td>Super built-up  Area</td>\n",
       "      <td>19-Dec</td>\n",
       "      <td>Electronic City Phase II</td>\n",
       "      <td>2 BHK</td>\n",
       "      <td>Coomee</td>\n",
       "      <td>1056</td>\n",
       "      <td>2.0</td>\n",
       "      <td>1.0</td>\n",
       "      <td>39.07</td>\n",
       "    </tr>\n",
       "    <tr>\n",
       "      <th>1</th>\n",
       "      <td>Plot  Area</td>\n",
       "      <td>Ready To Move</td>\n",
       "      <td>Chikka Tirupathi</td>\n",
       "      <td>4 Bedroom</td>\n",
       "      <td>Theanmp</td>\n",
       "      <td>2600</td>\n",
       "      <td>5.0</td>\n",
       "      <td>3.0</td>\n",
       "      <td>120.00</td>\n",
       "    </tr>\n",
       "    <tr>\n",
       "      <th>2</th>\n",
       "      <td>Built-up  Area</td>\n",
       "      <td>Ready To Move</td>\n",
       "      <td>Uttarahalli</td>\n",
       "      <td>3 BHK</td>\n",
       "      <td>NaN</td>\n",
       "      <td>1440</td>\n",
       "      <td>2.0</td>\n",
       "      <td>3.0</td>\n",
       "      <td>62.00</td>\n",
       "    </tr>\n",
       "    <tr>\n",
       "      <th>3</th>\n",
       "      <td>Super built-up  Area</td>\n",
       "      <td>Ready To Move</td>\n",
       "      <td>Lingadheeranahalli</td>\n",
       "      <td>3 BHK</td>\n",
       "      <td>Soiewre</td>\n",
       "      <td>1521</td>\n",
       "      <td>3.0</td>\n",
       "      <td>1.0</td>\n",
       "      <td>95.00</td>\n",
       "    </tr>\n",
       "    <tr>\n",
       "      <th>4</th>\n",
       "      <td>Super built-up  Area</td>\n",
       "      <td>Ready To Move</td>\n",
       "      <td>Kothanur</td>\n",
       "      <td>2 BHK</td>\n",
       "      <td>NaN</td>\n",
       "      <td>1200</td>\n",
       "      <td>2.0</td>\n",
       "      <td>1.0</td>\n",
       "      <td>51.00</td>\n",
       "    </tr>\n",
       "  </tbody>\n",
       "</table>\n",
       "</div>"
      ],
      "text/plain": [
       "              area_type   availability                  location       size  \\\n",
       "0  Super built-up  Area         19-Dec  Electronic City Phase II      2 BHK   \n",
       "1            Plot  Area  Ready To Move          Chikka Tirupathi  4 Bedroom   \n",
       "2        Built-up  Area  Ready To Move               Uttarahalli      3 BHK   \n",
       "3  Super built-up  Area  Ready To Move        Lingadheeranahalli      3 BHK   \n",
       "4  Super built-up  Area  Ready To Move                  Kothanur      2 BHK   \n",
       "\n",
       "   society total_sqft  bath  balcony   price  \n",
       "0  Coomee        1056   2.0      1.0   39.07  \n",
       "1  Theanmp       2600   5.0      3.0  120.00  \n",
       "2      NaN       1440   2.0      3.0   62.00  \n",
       "3  Soiewre       1521   3.0      1.0   95.00  \n",
       "4      NaN       1200   2.0      1.0   51.00  "
      ]
     },
     "execution_count": 2,
     "metadata": {},
     "output_type": "execute_result"
    }
   ],
   "source": [
    "df = pd.read_csv('bengaluru_house_prices.csv')\n",
    "df.head()"
   ]
  },
  {
   "cell_type": "code",
   "execution_count": 3,
   "id": "a190e668-16ad-4226-b9ba-bd6acc75526a",
   "metadata": {},
   "outputs": [
    {
     "data": {
      "text/plain": [
       "(13320, 9)"
      ]
     },
     "execution_count": 3,
     "metadata": {},
     "output_type": "execute_result"
    }
   ],
   "source": [
    "df.shape"
   ]
  },
  {
   "cell_type": "markdown",
   "id": "2e0037b2-72aa-41b0-9f8a-09c3b5aa6d15",
   "metadata": {},
   "source": [
    "<h1 style=\"color:blue; font-weight:bold;\"> Data Cleaning </h1>"
   ]
  },
  {
   "cell_type": "markdown",
   "id": "06bf8b0d-f0cb-404c-b43e-f41331053ad4",
   "metadata": {},
   "source": [
    "Arbitrarily, I choose to remove the columns 'availability' and 'society' which I don't find relevant for our prediction problem."
   ]
  },
  {
   "cell_type": "code",
   "execution_count": 4,
   "id": "224b8fa7-0122-404c-bfa9-c4022523eaab",
   "metadata": {},
   "outputs": [
    {
     "data": {
      "text/html": [
       "<div>\n",
       "<style scoped>\n",
       "    .dataframe tbody tr th:only-of-type {\n",
       "        vertical-align: middle;\n",
       "    }\n",
       "\n",
       "    .dataframe tbody tr th {\n",
       "        vertical-align: top;\n",
       "    }\n",
       "\n",
       "    .dataframe thead th {\n",
       "        text-align: right;\n",
       "    }\n",
       "</style>\n",
       "<table border=\"1\" class=\"dataframe\">\n",
       "  <thead>\n",
       "    <tr style=\"text-align: right;\">\n",
       "      <th></th>\n",
       "      <th>area_type</th>\n",
       "      <th>location</th>\n",
       "      <th>size</th>\n",
       "      <th>total_sqft</th>\n",
       "      <th>bath</th>\n",
       "      <th>balcony</th>\n",
       "      <th>price</th>\n",
       "    </tr>\n",
       "  </thead>\n",
       "  <tbody>\n",
       "    <tr>\n",
       "      <th>0</th>\n",
       "      <td>Super built-up  Area</td>\n",
       "      <td>Electronic City Phase II</td>\n",
       "      <td>2 BHK</td>\n",
       "      <td>1056</td>\n",
       "      <td>2.0</td>\n",
       "      <td>1.0</td>\n",
       "      <td>39.07</td>\n",
       "    </tr>\n",
       "    <tr>\n",
       "      <th>1</th>\n",
       "      <td>Plot  Area</td>\n",
       "      <td>Chikka Tirupathi</td>\n",
       "      <td>4 Bedroom</td>\n",
       "      <td>2600</td>\n",
       "      <td>5.0</td>\n",
       "      <td>3.0</td>\n",
       "      <td>120.00</td>\n",
       "    </tr>\n",
       "    <tr>\n",
       "      <th>2</th>\n",
       "      <td>Built-up  Area</td>\n",
       "      <td>Uttarahalli</td>\n",
       "      <td>3 BHK</td>\n",
       "      <td>1440</td>\n",
       "      <td>2.0</td>\n",
       "      <td>3.0</td>\n",
       "      <td>62.00</td>\n",
       "    </tr>\n",
       "    <tr>\n",
       "      <th>3</th>\n",
       "      <td>Super built-up  Area</td>\n",
       "      <td>Lingadheeranahalli</td>\n",
       "      <td>3 BHK</td>\n",
       "      <td>1521</td>\n",
       "      <td>3.0</td>\n",
       "      <td>1.0</td>\n",
       "      <td>95.00</td>\n",
       "    </tr>\n",
       "    <tr>\n",
       "      <th>4</th>\n",
       "      <td>Super built-up  Area</td>\n",
       "      <td>Kothanur</td>\n",
       "      <td>2 BHK</td>\n",
       "      <td>1200</td>\n",
       "      <td>2.0</td>\n",
       "      <td>1.0</td>\n",
       "      <td>51.00</td>\n",
       "    </tr>\n",
       "  </tbody>\n",
       "</table>\n",
       "</div>"
      ],
      "text/plain": [
       "              area_type                  location       size total_sqft  bath  \\\n",
       "0  Super built-up  Area  Electronic City Phase II      2 BHK       1056   2.0   \n",
       "1            Plot  Area          Chikka Tirupathi  4 Bedroom       2600   5.0   \n",
       "2        Built-up  Area               Uttarahalli      3 BHK       1440   2.0   \n",
       "3  Super built-up  Area        Lingadheeranahalli      3 BHK       1521   3.0   \n",
       "4  Super built-up  Area                  Kothanur      2 BHK       1200   2.0   \n",
       "\n",
       "   balcony   price  \n",
       "0      1.0   39.07  \n",
       "1      3.0  120.00  \n",
       "2      3.0   62.00  \n",
       "3      1.0   95.00  \n",
       "4      1.0   51.00  "
      ]
     },
     "execution_count": 4,
     "metadata": {},
     "output_type": "execute_result"
    }
   ],
   "source": [
    "df1 = df.drop(['availability', 'society'], axis = 'columns')\n",
    "df1.head()"
   ]
  },
  {
   "cell_type": "code",
   "execution_count": 5,
   "id": "6956e172-34e6-455d-9621-62af71404954",
   "metadata": {},
   "outputs": [
    {
     "data": {
      "text/plain": [
       "area_type       0\n",
       "location        1\n",
       "size           16\n",
       "total_sqft      0\n",
       "bath           73\n",
       "balcony       609\n",
       "price           0\n",
       "dtype: int64"
      ]
     },
     "execution_count": 5,
     "metadata": {},
     "output_type": "execute_result"
    }
   ],
   "source": [
    "df1.isna().sum()"
   ]
  },
  {
   "cell_type": "markdown",
   "id": "7ddc3745-ba0b-48fb-b805-d0f6f2f37f57",
   "metadata": {},
   "source": [
    "Since the dataset is big enough, I choose to get rid of the NaN values."
   ]
  },
  {
   "cell_type": "code",
   "execution_count": 6,
   "id": "af34a6db-0313-4b25-8f90-e6fa47204d25",
   "metadata": {},
   "outputs": [
    {
     "data": {
      "text/plain": [
       "area_type     0\n",
       "location      0\n",
       "size          0\n",
       "total_sqft    0\n",
       "bath          0\n",
       "balcony       0\n",
       "price         0\n",
       "dtype: int64"
      ]
     },
     "execution_count": 6,
     "metadata": {},
     "output_type": "execute_result"
    }
   ],
   "source": [
    "df2 = df1.dropna()\n",
    "df2.isna().sum()"
   ]
  },
  {
   "cell_type": "markdown",
   "id": "11ffbebb-b1a5-44b1-aa78-75b16acb5b3c",
   "metadata": {},
   "source": [
    "Now, we will study some columns which may contain outliers or other wrong features."
   ]
  },
  {
   "cell_type": "code",
   "execution_count": 7,
   "id": "95d1730d-da73-42a5-b4fe-88f1153b68f0",
   "metadata": {},
   "outputs": [
    {
     "data": {
      "text/plain": [
       "array(['2 BHK', '4 Bedroom', '3 BHK', '3 Bedroom', '1 BHK', '1 RK',\n",
       "       '4 BHK', '1 Bedroom', '2 Bedroom', '6 Bedroom', '8 Bedroom',\n",
       "       '7 Bedroom', '5 BHK', '7 BHK', '6 BHK', '5 Bedroom', '11 BHK',\n",
       "       '9 BHK', '9 Bedroom', '27 BHK', '11 Bedroom', '43 Bedroom',\n",
       "       '14 BHK', '8 BHK', '12 Bedroom', '10 Bedroom', '13 BHK'],\n",
       "      dtype=object)"
      ]
     },
     "execution_count": 7,
     "metadata": {},
     "output_type": "execute_result"
    }
   ],
   "source": [
    "df2['size'].unique()"
   ]
  },
  {
   "cell_type": "markdown",
   "id": "f7e47ac7-9d0a-4b9d-98b2-e2194bbbb052",
   "metadata": {},
   "source": [
    "Here we can notice that the bedroom counting is not homogeneous. For instance, a house with 3 bedrooms can be written '3 BHK' or '3 Bedroom'. We need to fix this in order to allow the predictions."
   ]
  },
  {
   "cell_type": "code",
   "execution_count": 8,
   "id": "efec0ed8-192a-4339-98bd-8fa2db41290b",
   "metadata": {},
   "outputs": [],
   "source": [
    "def extract_nb_bedrooms(size : str) -> int :\n",
    "    return size.split(' ')[0]"
   ]
  },
  {
   "cell_type": "code",
   "execution_count": 9,
   "id": "3f26b99b-6c92-4f4d-97a7-26059ad336a2",
   "metadata": {},
   "outputs": [],
   "source": [
    "df3 = df2.copy()\n",
    "df3['size_formated'] = df2['size'].apply(extract_nb_bedrooms)"
   ]
  },
  {
   "cell_type": "code",
   "execution_count": 10,
   "id": "d1b6c50f-9e87-484a-b0f8-b6a5b669a9b1",
   "metadata": {},
   "outputs": [
    {
     "data": {
      "text/html": [
       "<div>\n",
       "<style scoped>\n",
       "    .dataframe tbody tr th:only-of-type {\n",
       "        vertical-align: middle;\n",
       "    }\n",
       "\n",
       "    .dataframe tbody tr th {\n",
       "        vertical-align: top;\n",
       "    }\n",
       "\n",
       "    .dataframe thead th {\n",
       "        text-align: right;\n",
       "    }\n",
       "</style>\n",
       "<table border=\"1\" class=\"dataframe\">\n",
       "  <thead>\n",
       "    <tr style=\"text-align: right;\">\n",
       "      <th></th>\n",
       "      <th>area_type</th>\n",
       "      <th>location</th>\n",
       "      <th>total_sqft</th>\n",
       "      <th>bath</th>\n",
       "      <th>balcony</th>\n",
       "      <th>price</th>\n",
       "      <th>size_formated</th>\n",
       "    </tr>\n",
       "  </thead>\n",
       "  <tbody>\n",
       "    <tr>\n",
       "      <th>0</th>\n",
       "      <td>Super built-up  Area</td>\n",
       "      <td>Electronic City Phase II</td>\n",
       "      <td>1056</td>\n",
       "      <td>2.0</td>\n",
       "      <td>1.0</td>\n",
       "      <td>39.07</td>\n",
       "      <td>2</td>\n",
       "    </tr>\n",
       "    <tr>\n",
       "      <th>1</th>\n",
       "      <td>Plot  Area</td>\n",
       "      <td>Chikka Tirupathi</td>\n",
       "      <td>2600</td>\n",
       "      <td>5.0</td>\n",
       "      <td>3.0</td>\n",
       "      <td>120.00</td>\n",
       "      <td>4</td>\n",
       "    </tr>\n",
       "    <tr>\n",
       "      <th>2</th>\n",
       "      <td>Built-up  Area</td>\n",
       "      <td>Uttarahalli</td>\n",
       "      <td>1440</td>\n",
       "      <td>2.0</td>\n",
       "      <td>3.0</td>\n",
       "      <td>62.00</td>\n",
       "      <td>3</td>\n",
       "    </tr>\n",
       "    <tr>\n",
       "      <th>3</th>\n",
       "      <td>Super built-up  Area</td>\n",
       "      <td>Lingadheeranahalli</td>\n",
       "      <td>1521</td>\n",
       "      <td>3.0</td>\n",
       "      <td>1.0</td>\n",
       "      <td>95.00</td>\n",
       "      <td>3</td>\n",
       "    </tr>\n",
       "    <tr>\n",
       "      <th>4</th>\n",
       "      <td>Super built-up  Area</td>\n",
       "      <td>Kothanur</td>\n",
       "      <td>1200</td>\n",
       "      <td>2.0</td>\n",
       "      <td>1.0</td>\n",
       "      <td>51.00</td>\n",
       "      <td>2</td>\n",
       "    </tr>\n",
       "    <tr>\n",
       "      <th>...</th>\n",
       "      <td>...</td>\n",
       "      <td>...</td>\n",
       "      <td>...</td>\n",
       "      <td>...</td>\n",
       "      <td>...</td>\n",
       "      <td>...</td>\n",
       "      <td>...</td>\n",
       "    </tr>\n",
       "    <tr>\n",
       "      <th>13314</th>\n",
       "      <td>Super built-up  Area</td>\n",
       "      <td>Green Glen Layout</td>\n",
       "      <td>1715</td>\n",
       "      <td>3.0</td>\n",
       "      <td>3.0</td>\n",
       "      <td>112.00</td>\n",
       "      <td>3</td>\n",
       "    </tr>\n",
       "    <tr>\n",
       "      <th>13315</th>\n",
       "      <td>Built-up  Area</td>\n",
       "      <td>Whitefield</td>\n",
       "      <td>3453</td>\n",
       "      <td>4.0</td>\n",
       "      <td>0.0</td>\n",
       "      <td>231.00</td>\n",
       "      <td>5</td>\n",
       "    </tr>\n",
       "    <tr>\n",
       "      <th>13317</th>\n",
       "      <td>Built-up  Area</td>\n",
       "      <td>Raja Rajeshwari Nagar</td>\n",
       "      <td>1141</td>\n",
       "      <td>2.0</td>\n",
       "      <td>1.0</td>\n",
       "      <td>60.00</td>\n",
       "      <td>2</td>\n",
       "    </tr>\n",
       "    <tr>\n",
       "      <th>13318</th>\n",
       "      <td>Super built-up  Area</td>\n",
       "      <td>Padmanabhanagar</td>\n",
       "      <td>4689</td>\n",
       "      <td>4.0</td>\n",
       "      <td>1.0</td>\n",
       "      <td>488.00</td>\n",
       "      <td>4</td>\n",
       "    </tr>\n",
       "    <tr>\n",
       "      <th>13319</th>\n",
       "      <td>Super built-up  Area</td>\n",
       "      <td>Doddathoguru</td>\n",
       "      <td>550</td>\n",
       "      <td>1.0</td>\n",
       "      <td>1.0</td>\n",
       "      <td>17.00</td>\n",
       "      <td>1</td>\n",
       "    </tr>\n",
       "  </tbody>\n",
       "</table>\n",
       "<p>12710 rows × 7 columns</p>\n",
       "</div>"
      ],
      "text/plain": [
       "                  area_type                  location total_sqft  bath  \\\n",
       "0      Super built-up  Area  Electronic City Phase II       1056   2.0   \n",
       "1                Plot  Area          Chikka Tirupathi       2600   5.0   \n",
       "2            Built-up  Area               Uttarahalli       1440   2.0   \n",
       "3      Super built-up  Area        Lingadheeranahalli       1521   3.0   \n",
       "4      Super built-up  Area                  Kothanur       1200   2.0   \n",
       "...                     ...                       ...        ...   ...   \n",
       "13314  Super built-up  Area         Green Glen Layout       1715   3.0   \n",
       "13315        Built-up  Area                Whitefield       3453   4.0   \n",
       "13317        Built-up  Area     Raja Rajeshwari Nagar       1141   2.0   \n",
       "13318  Super built-up  Area           Padmanabhanagar       4689   4.0   \n",
       "13319  Super built-up  Area              Doddathoguru        550   1.0   \n",
       "\n",
       "       balcony   price size_formated  \n",
       "0          1.0   39.07             2  \n",
       "1          3.0  120.00             4  \n",
       "2          3.0   62.00             3  \n",
       "3          1.0   95.00             3  \n",
       "4          1.0   51.00             2  \n",
       "...        ...     ...           ...  \n",
       "13314      3.0  112.00             3  \n",
       "13315      0.0  231.00             5  \n",
       "13317      1.0   60.00             2  \n",
       "13318      1.0  488.00             4  \n",
       "13319      1.0   17.00             1  \n",
       "\n",
       "[12710 rows x 7 columns]"
      ]
     },
     "execution_count": 10,
     "metadata": {},
     "output_type": "execute_result"
    }
   ],
   "source": [
    "df3.drop('size', axis = 'columns')"
   ]
  },
  {
   "cell_type": "code",
   "execution_count": 38,
   "id": "ae73855a-bce9-4e46-8ddd-6768a42dfc36",
   "metadata": {},
   "outputs": [
    {
     "data": {
      "text/plain": [
       "0        1056\n",
       "1        2600\n",
       "2        1440\n",
       "3        1521\n",
       "4        1200\n",
       "         ... \n",
       "13314    1715\n",
       "13315    3453\n",
       "13317    1141\n",
       "13318    4689\n",
       "13319     550\n",
       "Name: total_sqft, Length: 12710, dtype: object"
      ]
     },
     "execution_count": 38,
     "metadata": {},
     "output_type": "execute_result"
    }
   ],
   "source": [
    "df3['total_sqft']"
   ]
  },
  {
   "cell_type": "markdown",
   "id": "7ff424f7-1cfd-4f94-a92e-fb7519b2f76d",
   "metadata": {},
   "source": [
    "Some houses are listed with a range for the surface area instead of a unique value or with a different unit. We will replace these ranges with the mean value, and convert in the correct unit."
   ]
  },
  {
   "cell_type": "code",
   "execution_count": 39,
   "id": "099baafb-ab7e-4e59-a452-6ba0ba86a13d",
   "metadata": {},
   "outputs": [],
   "source": [
    "import re"
   ]
  },
  {
   "cell_type": "code",
   "execution_count": 40,
   "id": "c5181107-df24-43ea-a9bb-654a96622b87",
   "metadata": {},
   "outputs": [],
   "source": [
    "df3['total_sqft'] = df3['total_sqft'].apply(str)\n",
    "def format_surf_area(area : str) -> int:\n",
    "    if '-' in area:\n",
    "        min = float(area.split(' ')[0])\n",
    "        max = float(area.split(' ')[-1])\n",
    "        return (min + max)/2\n",
    "    else:\n",
    "        try:\n",
    "            return float(area)\n",
    "        except:\n",
    "            #print(area)\n",
    "            decomp = re.match(r'([\\d.]+)\\s*(.*)', area)\n",
    "            value = float(decomp.group(1))\n",
    "            unity = decomp.group(2)\n",
    "            if unity =='Sq. Meter':\n",
    "                return float(value*10.764) # 1 m² = 10.764 sqft\n",
    "            elif unity=='Perch':\n",
    "                return float(value*272,3) # 1 perch = 272.3 sqft\n",
    "            elif unity=='Acres':\n",
    "                return float(value*43560) # 1 Acre = 43560 sqft\n",
    "            elif unity=='Guntha':\n",
    "                return float(value*1089) # 1 Gunta = 1089 sqft\n",
    "            elif unity=='Sq. Yards':\n",
    "                return float(value*9) # 1 Yard = 9 sqft\n",
    "            elif unity=='Cents':\n",
    "                return float(value*431) # 1 Cent = 431 sqft\n",
    "            elif unity=='Grounds':\n",
    "                return float(value*2400) # 1 Cent = 2400 sqft\n"
   ]
  },
  {
   "cell_type": "code",
   "execution_count": 41,
   "id": "10f09d14-3228-4a0a-843e-c67c415d6a14",
   "metadata": {},
   "outputs": [],
   "source": [
    "df4 = df3.copy()\n",
    "df4['surf_formated'] = df3['total_sqft'].apply(format_surf_area)"
   ]
  },
  {
   "cell_type": "code",
   "execution_count": 43,
   "id": "ae179e71-b912-4db2-be13-b8dcaff84b7e",
   "metadata": {},
   "outputs": [
    {
     "data": {
      "text/plain": [
       "count    1.271000e+04\n",
       "mean     1.791187e+03\n",
       "std      1.459348e+04\n",
       "min      5.000000e+00\n",
       "25%      1.100000e+03\n",
       "50%      1.260000e+03\n",
       "75%      1.643750e+03\n",
       "max      1.306800e+06\n",
       "Name: surf_formated, dtype: float64"
      ]
     },
     "execution_count": 43,
     "metadata": {},
     "output_type": "execute_result"
    }
   ],
   "source": [
    "df4['surf_formated'].describe()"
   ]
  },
  {
   "cell_type": "code",
   "execution_count": 45,
   "id": "31f1887b-fd58-4fce-b07e-ede627d87465",
   "metadata": {},
   "outputs": [
    {
     "data": {
      "text/html": [
       "<div>\n",
       "<style scoped>\n",
       "    .dataframe tbody tr th:only-of-type {\n",
       "        vertical-align: middle;\n",
       "    }\n",
       "\n",
       "    .dataframe tbody tr th {\n",
       "        vertical-align: top;\n",
       "    }\n",
       "\n",
       "    .dataframe thead th {\n",
       "        text-align: right;\n",
       "    }\n",
       "</style>\n",
       "<table border=\"1\" class=\"dataframe\">\n",
       "  <thead>\n",
       "    <tr style=\"text-align: right;\">\n",
       "      <th></th>\n",
       "      <th>area_type</th>\n",
       "      <th>location</th>\n",
       "      <th>total_sqft</th>\n",
       "      <th>bath</th>\n",
       "      <th>balcony</th>\n",
       "      <th>price</th>\n",
       "      <th>size_formated</th>\n",
       "      <th>surf_formated</th>\n",
       "    </tr>\n",
       "  </thead>\n",
       "  <tbody>\n",
       "    <tr>\n",
       "      <th>0</th>\n",
       "      <td>Super built-up  Area</td>\n",
       "      <td>Electronic City Phase II</td>\n",
       "      <td>1056</td>\n",
       "      <td>2.0</td>\n",
       "      <td>1.0</td>\n",
       "      <td>39.07</td>\n",
       "      <td>2</td>\n",
       "      <td>1056.0</td>\n",
       "    </tr>\n",
       "    <tr>\n",
       "      <th>1</th>\n",
       "      <td>Plot  Area</td>\n",
       "      <td>Chikka Tirupathi</td>\n",
       "      <td>2600</td>\n",
       "      <td>5.0</td>\n",
       "      <td>3.0</td>\n",
       "      <td>120.00</td>\n",
       "      <td>4</td>\n",
       "      <td>2600.0</td>\n",
       "    </tr>\n",
       "    <tr>\n",
       "      <th>2</th>\n",
       "      <td>Built-up  Area</td>\n",
       "      <td>Uttarahalli</td>\n",
       "      <td>1440</td>\n",
       "      <td>2.0</td>\n",
       "      <td>3.0</td>\n",
       "      <td>62.00</td>\n",
       "      <td>3</td>\n",
       "      <td>1440.0</td>\n",
       "    </tr>\n",
       "    <tr>\n",
       "      <th>3</th>\n",
       "      <td>Super built-up  Area</td>\n",
       "      <td>Lingadheeranahalli</td>\n",
       "      <td>1521</td>\n",
       "      <td>3.0</td>\n",
       "      <td>1.0</td>\n",
       "      <td>95.00</td>\n",
       "      <td>3</td>\n",
       "      <td>1521.0</td>\n",
       "    </tr>\n",
       "    <tr>\n",
       "      <th>4</th>\n",
       "      <td>Super built-up  Area</td>\n",
       "      <td>Kothanur</td>\n",
       "      <td>1200</td>\n",
       "      <td>2.0</td>\n",
       "      <td>1.0</td>\n",
       "      <td>51.00</td>\n",
       "      <td>2</td>\n",
       "      <td>1200.0</td>\n",
       "    </tr>\n",
       "  </tbody>\n",
       "</table>\n",
       "</div>"
      ],
      "text/plain": [
       "              area_type                  location total_sqft  bath  balcony  \\\n",
       "0  Super built-up  Area  Electronic City Phase II       1056   2.0      1.0   \n",
       "1            Plot  Area          Chikka Tirupathi       2600   5.0      3.0   \n",
       "2        Built-up  Area               Uttarahalli       1440   2.0      3.0   \n",
       "3  Super built-up  Area        Lingadheeranahalli       1521   3.0      1.0   \n",
       "4  Super built-up  Area                  Kothanur       1200   2.0      1.0   \n",
       "\n",
       "    price size_formated  surf_formated  \n",
       "0   39.07             2         1056.0  \n",
       "1  120.00             4         2600.0  \n",
       "2   62.00             3         1440.0  \n",
       "3   95.00             3         1521.0  \n",
       "4   51.00             2         1200.0  "
      ]
     },
     "execution_count": 45,
     "metadata": {},
     "output_type": "execute_result"
    }
   ],
   "source": [
    "df4 = df4.drop('size', axis = 'columns')\n",
    "df4.head()"
   ]
  },
  {
   "cell_type": "code",
   "execution_count": 46,
   "id": "39754fbe-9e46-4278-bab0-6bf2bee6e69b",
   "metadata": {},
   "outputs": [
    {
     "data": {
      "text/plain": [
       "area_type        0\n",
       "location         0\n",
       "total_sqft       0\n",
       "bath             0\n",
       "balcony          0\n",
       "price            0\n",
       "size_formated    0\n",
       "surf_formated    0\n",
       "dtype: int64"
      ]
     },
     "execution_count": 46,
     "metadata": {},
     "output_type": "execute_result"
    }
   ],
   "source": [
    "df4.isna().sum()"
   ]
  },
  {
   "cell_type": "markdown",
   "id": "274cb35d-51a9-444b-91ee-b04161c5925a",
   "metadata": {},
   "source": [
    "At this moment, the values in this dataframe must be well-formated. We still have to One-Hot encode the categorical features."
   ]
  },
  {
   "cell_type": "code",
   "execution_count": 47,
   "id": "c8d52d9d-a68f-40b4-a751-20dfb65d3ac9",
   "metadata": {},
   "outputs": [],
   "source": [
    "oh_features = pd.get_dummies(df4[['area_type', 'location']])"
   ]
  },
  {
   "cell_type": "code",
   "execution_count": 49,
   "id": "0dd380c6-b2d8-4fdf-9e18-82bc6957e555",
   "metadata": {},
   "outputs": [
    {
     "data": {
      "text/plain": [
       "(12710, 1269)"
      ]
     },
     "execution_count": 49,
     "metadata": {},
     "output_type": "execute_result"
    }
   ],
   "source": [
    "oh_features.shape"
   ]
  },
  {
   "cell_type": "markdown",
   "id": "4203c57a-3edb-4adc-a01c-bda4a6ebc6c8",
   "metadata": {},
   "source": [
    "We encounter an issue here : there are too much different locations, OH encoding would create 1260+ features. We will group the locations with less than 50 occurrences in a category 'Other'."
   ]
  },
  {
   "cell_type": "code",
   "execution_count": 110,
   "id": "424e6467-cf21-4a2e-a410-7224f53c6679",
   "metadata": {},
   "outputs": [],
   "source": [
    "df_tmp = df4.groupby('location')['location'].agg('count')"
   ]
  },
  {
   "cell_type": "code",
   "execution_count": 111,
   "id": "fd16eee9-c1a2-4c93-a776-eeaaf4bbff0b",
   "metadata": {},
   "outputs": [],
   "source": [
    "list_loc_ok = df_tmp[df_tmp>50].sort_values(ascending=False)"
   ]
  },
  {
   "cell_type": "code",
   "execution_count": 112,
   "id": "50241bb1-6e08-4b79-a006-c504ba4166b3",
   "metadata": {},
   "outputs": [],
   "source": [
    "def format_location(loc : str) -> str:\n",
    "    if loc in list_loc_ok:\n",
    "        return loc\n",
    "    else:\n",
    "        return 'Other'"
   ]
  },
  {
   "cell_type": "code",
   "execution_count": 116,
   "id": "7289356a-7a3d-4c56-94ab-62f01ad5e5c2",
   "metadata": {},
   "outputs": [],
   "source": [
    "df5 = df4.copy()\n",
    "df5['loc_formated'] = df4['location'].apply(format_location)\n",
    "df5 = df5.drop('location', axis = 'columns')"
   ]
  },
  {
   "cell_type": "code",
   "execution_count": 117,
   "id": "db615116-51fb-4fa9-8245-91be0b9b434f",
   "metadata": {},
   "outputs": [
    {
     "data": {
      "text/plain": [
       "loc_formated\n",
       "7th Phase JP Nagar           147\n",
       "8th Phase JP Nagar            56\n",
       "Akshaya Nagar                 58\n",
       "Banashankari                  74\n",
       "Bannerghatta Road            144\n",
       "Begur Road                    83\n",
       "Bellandur                     91\n",
       "Bisuvanahalli                 51\n",
       "Budigere                      54\n",
       "Chandapura                    98\n",
       "Electronic City              300\n",
       "Electronic City Phase II     130\n",
       "Electronics City Phase 1      86\n",
       "Haralur Road                 135\n",
       "Harlur                        76\n",
       "Hebbal                       173\n",
       "Hennur                        51\n",
       "Hennur Road                  142\n",
       "Hoodi                         86\n",
       "Hormavu                       71\n",
       "Hosa Road                     72\n",
       "JP Nagar                      64\n",
       "Jakkur                        67\n",
       "KR Puram                      85\n",
       "Kaggadasapura                 61\n",
       "Kanakpura Road               261\n",
       "Kasavanhalli                  77\n",
       "Kengeri                       71\n",
       "Koramangala                   69\n",
       "Kothanur                      59\n",
       "Malleshwaram                  52\n",
       "Marathahalli                 164\n",
       "Nagarbhavi                    62\n",
       "Old Madras Road               69\n",
       "Other                       7071\n",
       "Panathur                      51\n",
       "Rachenahalli                  54\n",
       "Raja Rajeshwari Nagar        168\n",
       "Rajaji Nagar                  99\n",
       "Ramamurthy Nagar              72\n",
       "Sarjapur                      81\n",
       "Sarjapur  Road               372\n",
       "TC Palaya                     60\n",
       "Thanisandra                  231\n",
       "Thigalarapalya                60\n",
       "Uttarahalli                  186\n",
       "Varthur                       68\n",
       "Whitefield                   514\n",
       "Yelahanka                    206\n",
       "Yeshwanthpur                  78\n",
       "Name: loc_formated, dtype: int64"
      ]
     },
     "execution_count": 117,
     "metadata": {},
     "output_type": "execute_result"
    }
   ],
   "source": [
    "df5.groupby('loc_formated')['loc_formated'].agg('count')"
   ]
  },
  {
   "cell_type": "markdown",
   "id": "4e667eb9-f2cd-4015-b357-f8a606380a0f",
   "metadata": {},
   "source": [
    "Now, we have 50 different features corresponding to the location, allowing the one hot encoding."
   ]
  },
  {
   "cell_type": "code",
   "execution_count": 103,
   "id": "960b3474-cf63-4182-9ff2-26c879272301",
   "metadata": {},
   "outputs": [],
   "source": [
    "df_tmp = df5.groupby('area_type')['area_type'].agg('count')"
   ]
  },
  {
   "cell_type": "code",
   "execution_count": 104,
   "id": "4f927dfe-2586-44c4-9097-9d5075fcded6",
   "metadata": {},
   "outputs": [
    {
     "data": {
      "text/plain": [
       "area_type\n",
       "Built-up  Area          2310\n",
       "Carpet  Area              82\n",
       "Plot  Area              1837\n",
       "Super built-up  Area    8481\n",
       "Name: area_type, dtype: int64"
      ]
     },
     "execution_count": 104,
     "metadata": {},
     "output_type": "execute_result"
    }
   ],
   "source": [
    "df_tmp"
   ]
  },
  {
   "cell_type": "markdown",
   "id": "a5b70224-84ff-4305-8d3f-8276948814af",
   "metadata": {},
   "source": [
    "No need to do the same operation with the 'area_type' feature."
   ]
  },
  {
   "cell_type": "code",
   "execution_count": 120,
   "id": "3c492477-f647-486d-b988-2140539d2324",
   "metadata": {},
   "outputs": [],
   "source": [
    "df6 = df5.copy()\n",
    "dummies_var = pd.get_dummies(df5[['loc_formated','area_type']], drop_first = True)"
   ]
  },
  {
   "cell_type": "code",
   "execution_count": 121,
   "id": "57041330-090a-4949-9514-ea3fc7c9e93c",
   "metadata": {},
   "outputs": [
    {
     "data": {
      "text/plain": [
       "(12710, 52)"
      ]
     },
     "execution_count": 121,
     "metadata": {},
     "output_type": "execute_result"
    }
   ],
   "source": [
    "dummies_var.shape"
   ]
  },
  {
   "cell_type": "code",
   "execution_count": 123,
   "id": "2f782b90-3183-4928-8a2f-fdc37ed2cb20",
   "metadata": {},
   "outputs": [],
   "source": [
    "df6 = pd.concat([df6.drop('area_type', axis = 'columns'), dummies_var], axis = 'columns')"
   ]
  },
  {
   "cell_type": "markdown",
   "id": "5b481655-11a4-474e-a03c-0dc5f40d4e43",
   "metadata": {},
   "source": [
    "The dataset is well-formated. We still have to remove the outliers in order to improve the future model we will use."
   ]
  },
  {
   "cell_type": "code",
   "execution_count": null,
   "id": "4391e167-8ee7-49eb-b7a5-c009d574dc48",
   "metadata": {},
   "outputs": [],
   "source": []
  }
 ],
 "metadata": {
  "kernelspec": {
   "display_name": "Python 3 (ipykernel)",
   "language": "python",
   "name": "python3"
  },
  "language_info": {
   "codemirror_mode": {
    "name": "ipython",
    "version": 3
   },
   "file_extension": ".py",
   "mimetype": "text/x-python",
   "name": "python",
   "nbconvert_exporter": "python",
   "pygments_lexer": "ipython3",
   "version": "3.11.5"
  }
 },
 "nbformat": 4,
 "nbformat_minor": 5
}
