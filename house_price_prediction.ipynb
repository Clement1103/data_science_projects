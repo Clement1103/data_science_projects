{
 "cells": [
  {
   "cell_type": "code",
   "execution_count": 104,
   "id": "c03cd61d-e823-4d9b-b1e7-d7250742ba6a",
   "metadata": {},
   "outputs": [],
   "source": [
    "import pandas as pd\n",
    "import numpy as np\n",
    "import matplotlib.pyplot as plt"
   ]
  },
  {
   "cell_type": "code",
   "execution_count": 105,
   "id": "9f3e9973-a4ef-4068-921b-52ff51753d6c",
   "metadata": {},
   "outputs": [
    {
     "data": {
      "text/html": [
       "<div>\n",
       "<style scoped>\n",
       "    .dataframe tbody tr th:only-of-type {\n",
       "        vertical-align: middle;\n",
       "    }\n",
       "\n",
       "    .dataframe tbody tr th {\n",
       "        vertical-align: top;\n",
       "    }\n",
       "\n",
       "    .dataframe thead th {\n",
       "        text-align: right;\n",
       "    }\n",
       "</style>\n",
       "<table border=\"1\" class=\"dataframe\">\n",
       "  <thead>\n",
       "    <tr style=\"text-align: right;\">\n",
       "      <th></th>\n",
       "      <th>area_type</th>\n",
       "      <th>availability</th>\n",
       "      <th>location</th>\n",
       "      <th>size</th>\n",
       "      <th>society</th>\n",
       "      <th>total_sqft</th>\n",
       "      <th>bath</th>\n",
       "      <th>balcony</th>\n",
       "      <th>price</th>\n",
       "    </tr>\n",
       "  </thead>\n",
       "  <tbody>\n",
       "    <tr>\n",
       "      <th>0</th>\n",
       "      <td>Super built-up  Area</td>\n",
       "      <td>19-Dec</td>\n",
       "      <td>Electronic City Phase II</td>\n",
       "      <td>2 BHK</td>\n",
       "      <td>Coomee</td>\n",
       "      <td>1056</td>\n",
       "      <td>2.0</td>\n",
       "      <td>1.0</td>\n",
       "      <td>39.07</td>\n",
       "    </tr>\n",
       "    <tr>\n",
       "      <th>1</th>\n",
       "      <td>Plot  Area</td>\n",
       "      <td>Ready To Move</td>\n",
       "      <td>Chikka Tirupathi</td>\n",
       "      <td>4 Bedroom</td>\n",
       "      <td>Theanmp</td>\n",
       "      <td>2600</td>\n",
       "      <td>5.0</td>\n",
       "      <td>3.0</td>\n",
       "      <td>120.00</td>\n",
       "    </tr>\n",
       "    <tr>\n",
       "      <th>2</th>\n",
       "      <td>Built-up  Area</td>\n",
       "      <td>Ready To Move</td>\n",
       "      <td>Uttarahalli</td>\n",
       "      <td>3 BHK</td>\n",
       "      <td>NaN</td>\n",
       "      <td>1440</td>\n",
       "      <td>2.0</td>\n",
       "      <td>3.0</td>\n",
       "      <td>62.00</td>\n",
       "    </tr>\n",
       "    <tr>\n",
       "      <th>3</th>\n",
       "      <td>Super built-up  Area</td>\n",
       "      <td>Ready To Move</td>\n",
       "      <td>Lingadheeranahalli</td>\n",
       "      <td>3 BHK</td>\n",
       "      <td>Soiewre</td>\n",
       "      <td>1521</td>\n",
       "      <td>3.0</td>\n",
       "      <td>1.0</td>\n",
       "      <td>95.00</td>\n",
       "    </tr>\n",
       "    <tr>\n",
       "      <th>4</th>\n",
       "      <td>Super built-up  Area</td>\n",
       "      <td>Ready To Move</td>\n",
       "      <td>Kothanur</td>\n",
       "      <td>2 BHK</td>\n",
       "      <td>NaN</td>\n",
       "      <td>1200</td>\n",
       "      <td>2.0</td>\n",
       "      <td>1.0</td>\n",
       "      <td>51.00</td>\n",
       "    </tr>\n",
       "  </tbody>\n",
       "</table>\n",
       "</div>"
      ],
      "text/plain": [
       "              area_type   availability                  location       size  \\\n",
       "0  Super built-up  Area         19-Dec  Electronic City Phase II      2 BHK   \n",
       "1            Plot  Area  Ready To Move          Chikka Tirupathi  4 Bedroom   \n",
       "2        Built-up  Area  Ready To Move               Uttarahalli      3 BHK   \n",
       "3  Super built-up  Area  Ready To Move        Lingadheeranahalli      3 BHK   \n",
       "4  Super built-up  Area  Ready To Move                  Kothanur      2 BHK   \n",
       "\n",
       "   society total_sqft  bath  balcony   price  \n",
       "0  Coomee        1056   2.0      1.0   39.07  \n",
       "1  Theanmp       2600   5.0      3.0  120.00  \n",
       "2      NaN       1440   2.0      3.0   62.00  \n",
       "3  Soiewre       1521   3.0      1.0   95.00  \n",
       "4      NaN       1200   2.0      1.0   51.00  "
      ]
     },
     "execution_count": 105,
     "metadata": {},
     "output_type": "execute_result"
    }
   ],
   "source": [
    "df = pd.read_csv('bengaluru_house_prices.csv')\n",
    "df.head()"
   ]
  },
  {
   "cell_type": "code",
   "execution_count": 106,
   "id": "a190e668-16ad-4226-b9ba-bd6acc75526a",
   "metadata": {},
   "outputs": [
    {
     "data": {
      "text/plain": [
       "(13320, 9)"
      ]
     },
     "execution_count": 106,
     "metadata": {},
     "output_type": "execute_result"
    }
   ],
   "source": [
    "df.shape"
   ]
  },
  {
   "cell_type": "markdown",
   "id": "2e0037b2-72aa-41b0-9f8a-09c3b5aa6d15",
   "metadata": {},
   "source": [
    "<h1 style=\"color:blue; font-weight:bold;\"> Data Cleaning </h1>"
   ]
  },
  {
   "cell_type": "markdown",
   "id": "06bf8b0d-f0cb-404c-b43e-f41331053ad4",
   "metadata": {},
   "source": [
    "Arbitrarily, I choose to remove the columns 'availability' and 'society' which I don't find relevant for our prediction problem."
   ]
  },
  {
   "cell_type": "code",
   "execution_count": 107,
   "id": "224b8fa7-0122-404c-bfa9-c4022523eaab",
   "metadata": {},
   "outputs": [
    {
     "data": {
      "text/html": [
       "<div>\n",
       "<style scoped>\n",
       "    .dataframe tbody tr th:only-of-type {\n",
       "        vertical-align: middle;\n",
       "    }\n",
       "\n",
       "    .dataframe tbody tr th {\n",
       "        vertical-align: top;\n",
       "    }\n",
       "\n",
       "    .dataframe thead th {\n",
       "        text-align: right;\n",
       "    }\n",
       "</style>\n",
       "<table border=\"1\" class=\"dataframe\">\n",
       "  <thead>\n",
       "    <tr style=\"text-align: right;\">\n",
       "      <th></th>\n",
       "      <th>area_type</th>\n",
       "      <th>location</th>\n",
       "      <th>size</th>\n",
       "      <th>total_sqft</th>\n",
       "      <th>bath</th>\n",
       "      <th>balcony</th>\n",
       "      <th>price</th>\n",
       "    </tr>\n",
       "  </thead>\n",
       "  <tbody>\n",
       "    <tr>\n",
       "      <th>0</th>\n",
       "      <td>Super built-up  Area</td>\n",
       "      <td>Electronic City Phase II</td>\n",
       "      <td>2 BHK</td>\n",
       "      <td>1056</td>\n",
       "      <td>2.0</td>\n",
       "      <td>1.0</td>\n",
       "      <td>39.07</td>\n",
       "    </tr>\n",
       "    <tr>\n",
       "      <th>1</th>\n",
       "      <td>Plot  Area</td>\n",
       "      <td>Chikka Tirupathi</td>\n",
       "      <td>4 Bedroom</td>\n",
       "      <td>2600</td>\n",
       "      <td>5.0</td>\n",
       "      <td>3.0</td>\n",
       "      <td>120.00</td>\n",
       "    </tr>\n",
       "    <tr>\n",
       "      <th>2</th>\n",
       "      <td>Built-up  Area</td>\n",
       "      <td>Uttarahalli</td>\n",
       "      <td>3 BHK</td>\n",
       "      <td>1440</td>\n",
       "      <td>2.0</td>\n",
       "      <td>3.0</td>\n",
       "      <td>62.00</td>\n",
       "    </tr>\n",
       "    <tr>\n",
       "      <th>3</th>\n",
       "      <td>Super built-up  Area</td>\n",
       "      <td>Lingadheeranahalli</td>\n",
       "      <td>3 BHK</td>\n",
       "      <td>1521</td>\n",
       "      <td>3.0</td>\n",
       "      <td>1.0</td>\n",
       "      <td>95.00</td>\n",
       "    </tr>\n",
       "    <tr>\n",
       "      <th>4</th>\n",
       "      <td>Super built-up  Area</td>\n",
       "      <td>Kothanur</td>\n",
       "      <td>2 BHK</td>\n",
       "      <td>1200</td>\n",
       "      <td>2.0</td>\n",
       "      <td>1.0</td>\n",
       "      <td>51.00</td>\n",
       "    </tr>\n",
       "  </tbody>\n",
       "</table>\n",
       "</div>"
      ],
      "text/plain": [
       "              area_type                  location       size total_sqft  bath  \\\n",
       "0  Super built-up  Area  Electronic City Phase II      2 BHK       1056   2.0   \n",
       "1            Plot  Area          Chikka Tirupathi  4 Bedroom       2600   5.0   \n",
       "2        Built-up  Area               Uttarahalli      3 BHK       1440   2.0   \n",
       "3  Super built-up  Area        Lingadheeranahalli      3 BHK       1521   3.0   \n",
       "4  Super built-up  Area                  Kothanur      2 BHK       1200   2.0   \n",
       "\n",
       "   balcony   price  \n",
       "0      1.0   39.07  \n",
       "1      3.0  120.00  \n",
       "2      3.0   62.00  \n",
       "3      1.0   95.00  \n",
       "4      1.0   51.00  "
      ]
     },
     "execution_count": 107,
     "metadata": {},
     "output_type": "execute_result"
    }
   ],
   "source": [
    "df1 = df.drop(['availability', 'society'], axis = 'columns')\n",
    "df1.head()"
   ]
  },
  {
   "cell_type": "code",
   "execution_count": 108,
   "id": "6956e172-34e6-455d-9621-62af71404954",
   "metadata": {},
   "outputs": [
    {
     "data": {
      "text/plain": [
       "area_type       0\n",
       "location        1\n",
       "size           16\n",
       "total_sqft      0\n",
       "bath           73\n",
       "balcony       609\n",
       "price           0\n",
       "dtype: int64"
      ]
     },
     "execution_count": 108,
     "metadata": {},
     "output_type": "execute_result"
    }
   ],
   "source": [
    "df1.isna().sum()"
   ]
  },
  {
   "cell_type": "markdown",
   "id": "7ddc3745-ba0b-48fb-b805-d0f6f2f37f57",
   "metadata": {},
   "source": [
    "Since the dataset is big enough, I choose to get rid of the NaN values."
   ]
  },
  {
   "cell_type": "code",
   "execution_count": 109,
   "id": "af34a6db-0313-4b25-8f90-e6fa47204d25",
   "metadata": {},
   "outputs": [
    {
     "data": {
      "text/plain": [
       "area_type     0\n",
       "location      0\n",
       "size          0\n",
       "total_sqft    0\n",
       "bath          0\n",
       "balcony       0\n",
       "price         0\n",
       "dtype: int64"
      ]
     },
     "execution_count": 109,
     "metadata": {},
     "output_type": "execute_result"
    }
   ],
   "source": [
    "df2 = df1.dropna()\n",
    "df2.isna().sum()"
   ]
  },
  {
   "cell_type": "markdown",
   "id": "11ffbebb-b1a5-44b1-aa78-75b16acb5b3c",
   "metadata": {},
   "source": [
    "Now, we will study some columns which may contain outliers or other wrong features."
   ]
  },
  {
   "cell_type": "code",
   "execution_count": 110,
   "id": "95d1730d-da73-42a5-b4fe-88f1153b68f0",
   "metadata": {},
   "outputs": [
    {
     "data": {
      "text/plain": [
       "array(['2 BHK', '4 Bedroom', '3 BHK', '3 Bedroom', '1 BHK', '1 RK',\n",
       "       '4 BHK', '1 Bedroom', '2 Bedroom', '6 Bedroom', '8 Bedroom',\n",
       "       '7 Bedroom', '5 BHK', '7 BHK', '6 BHK', '5 Bedroom', '11 BHK',\n",
       "       '9 BHK', '9 Bedroom', '27 BHK', '11 Bedroom', '43 Bedroom',\n",
       "       '14 BHK', '8 BHK', '12 Bedroom', '10 Bedroom', '13 BHK'],\n",
       "      dtype=object)"
      ]
     },
     "execution_count": 110,
     "metadata": {},
     "output_type": "execute_result"
    }
   ],
   "source": [
    "df2['size'].unique()"
   ]
  },
  {
   "cell_type": "markdown",
   "id": "f7e47ac7-9d0a-4b9d-98b2-e2194bbbb052",
   "metadata": {},
   "source": [
    "Here we can notice that the bedroom counting is not homogeneous. For instance, a house with 3 bedrooms can be written '3 BHK' or '3 Bedroom'. We need to fix this in order to allow the predictions."
   ]
  },
  {
   "cell_type": "code",
   "execution_count": 111,
   "id": "efec0ed8-192a-4339-98bd-8fa2db41290b",
   "metadata": {},
   "outputs": [],
   "source": [
    "def extract_nb_bedrooms(size : str) -> int :\n",
    "    return int(size.split(' ')[0])"
   ]
  },
  {
   "cell_type": "code",
   "execution_count": 112,
   "id": "3f26b99b-6c92-4f4d-97a7-26059ad336a2",
   "metadata": {},
   "outputs": [],
   "source": [
    "df3 = df2.copy()\n",
    "df3['bedroom_formated'] = df2['size'].apply(extract_nb_bedrooms)"
   ]
  },
  {
   "cell_type": "code",
   "execution_count": 113,
   "id": "d1b6c50f-9e87-484a-b0f8-b6a5b669a9b1",
   "metadata": {},
   "outputs": [],
   "source": [
    "df3 = df3.drop('size', axis = 'columns')"
   ]
  },
  {
   "cell_type": "code",
   "execution_count": 114,
   "id": "ae73855a-bce9-4e46-8ddd-6768a42dfc36",
   "metadata": {},
   "outputs": [
    {
     "data": {
      "text/plain": [
       "0        1056\n",
       "1        2600\n",
       "2        1440\n",
       "3        1521\n",
       "4        1200\n",
       "         ... \n",
       "13314    1715\n",
       "13315    3453\n",
       "13317    1141\n",
       "13318    4689\n",
       "13319     550\n",
       "Name: total_sqft, Length: 12710, dtype: object"
      ]
     },
     "execution_count": 114,
     "metadata": {},
     "output_type": "execute_result"
    }
   ],
   "source": [
    "df3['total_sqft']"
   ]
  },
  {
   "cell_type": "markdown",
   "id": "7ff424f7-1cfd-4f94-a92e-fb7519b2f76d",
   "metadata": {},
   "source": [
    "Some houses are listed with a range for the surface area instead of a unique value or with a different unit. We will replace these ranges with the mean value, and convert in the correct unit using Regex."
   ]
  },
  {
   "cell_type": "code",
   "execution_count": 115,
   "id": "099baafb-ab7e-4e59-a452-6ba0ba86a13d",
   "metadata": {},
   "outputs": [],
   "source": [
    "import re"
   ]
  },
  {
   "cell_type": "code",
   "execution_count": 116,
   "id": "c5181107-df24-43ea-a9bb-654a96622b87",
   "metadata": {},
   "outputs": [],
   "source": [
    "df3['total_sqft'] = df3['total_sqft'].apply(str)\n",
    "def format_surf_area(area : str) -> int:\n",
    "    if '-' in area:\n",
    "        min = float(area.split(' ')[0])\n",
    "        max = float(area.split(' ')[-1])\n",
    "        return (min + max)/2\n",
    "    else:\n",
    "        try:\n",
    "            return float(area)\n",
    "        except:\n",
    "            #print(area)\n",
    "            decomp = re.match(r'([\\d.]+)\\s*(.*)', area)\n",
    "            value = float(decomp.group(1))\n",
    "            unity = decomp.group(2)\n",
    "            if unity =='Sq. Meter':\n",
    "                return float(value*10.764) # 1 m² = 10.764 sqft\n",
    "            elif unity=='Perch':\n",
    "                return float(value*272,3) # 1 perch = 272.3 sqft\n",
    "            elif unity=='Acres':\n",
    "                return float(value*43560) # 1 Acre = 43560 sqft\n",
    "            elif unity=='Guntha':\n",
    "                return float(value*1089) # 1 Gunta = 1089 sqft\n",
    "            elif unity=='Sq. Yards':\n",
    "                return float(value*9) # 1 Yard = 9 sqft\n",
    "            elif unity=='Cents':\n",
    "                return float(value*431) # 1 Cent = 431 sqft\n",
    "            elif unity=='Grounds':\n",
    "                return float(value*2400) # 1 Cent = 2400 sqft\n"
   ]
  },
  {
   "cell_type": "code",
   "execution_count": 117,
   "id": "10f09d14-3228-4a0a-843e-c67c415d6a14",
   "metadata": {},
   "outputs": [],
   "source": [
    "df4 = df3.copy()\n",
    "df4['surf_formated'] = df3['total_sqft'].apply(format_surf_area)"
   ]
  },
  {
   "cell_type": "code",
   "execution_count": 118,
   "id": "ae179e71-b912-4db2-be13-b8dcaff84b7e",
   "metadata": {},
   "outputs": [
    {
     "data": {
      "text/plain": [
       "count    1.271000e+04\n",
       "mean     1.791187e+03\n",
       "std      1.459348e+04\n",
       "min      5.000000e+00\n",
       "25%      1.100000e+03\n",
       "50%      1.260000e+03\n",
       "75%      1.643750e+03\n",
       "max      1.306800e+06\n",
       "Name: surf_formated, dtype: float64"
      ]
     },
     "execution_count": 118,
     "metadata": {},
     "output_type": "execute_result"
    }
   ],
   "source": [
    "df4['surf_formated'].describe()"
   ]
  },
  {
   "cell_type": "code",
   "execution_count": 119,
   "id": "31f1887b-fd58-4fce-b07e-ede627d87465",
   "metadata": {},
   "outputs": [
    {
     "data": {
      "text/html": [
       "<div>\n",
       "<style scoped>\n",
       "    .dataframe tbody tr th:only-of-type {\n",
       "        vertical-align: middle;\n",
       "    }\n",
       "\n",
       "    .dataframe tbody tr th {\n",
       "        vertical-align: top;\n",
       "    }\n",
       "\n",
       "    .dataframe thead th {\n",
       "        text-align: right;\n",
       "    }\n",
       "</style>\n",
       "<table border=\"1\" class=\"dataframe\">\n",
       "  <thead>\n",
       "    <tr style=\"text-align: right;\">\n",
       "      <th></th>\n",
       "      <th>area_type</th>\n",
       "      <th>location</th>\n",
       "      <th>bath</th>\n",
       "      <th>balcony</th>\n",
       "      <th>price</th>\n",
       "      <th>bedroom_formated</th>\n",
       "      <th>surf_formated</th>\n",
       "    </tr>\n",
       "  </thead>\n",
       "  <tbody>\n",
       "    <tr>\n",
       "      <th>0</th>\n",
       "      <td>Super built-up  Area</td>\n",
       "      <td>Electronic City Phase II</td>\n",
       "      <td>2.0</td>\n",
       "      <td>1.0</td>\n",
       "      <td>39.07</td>\n",
       "      <td>2</td>\n",
       "      <td>1056.0</td>\n",
       "    </tr>\n",
       "    <tr>\n",
       "      <th>1</th>\n",
       "      <td>Plot  Area</td>\n",
       "      <td>Chikka Tirupathi</td>\n",
       "      <td>5.0</td>\n",
       "      <td>3.0</td>\n",
       "      <td>120.00</td>\n",
       "      <td>4</td>\n",
       "      <td>2600.0</td>\n",
       "    </tr>\n",
       "    <tr>\n",
       "      <th>2</th>\n",
       "      <td>Built-up  Area</td>\n",
       "      <td>Uttarahalli</td>\n",
       "      <td>2.0</td>\n",
       "      <td>3.0</td>\n",
       "      <td>62.00</td>\n",
       "      <td>3</td>\n",
       "      <td>1440.0</td>\n",
       "    </tr>\n",
       "    <tr>\n",
       "      <th>3</th>\n",
       "      <td>Super built-up  Area</td>\n",
       "      <td>Lingadheeranahalli</td>\n",
       "      <td>3.0</td>\n",
       "      <td>1.0</td>\n",
       "      <td>95.00</td>\n",
       "      <td>3</td>\n",
       "      <td>1521.0</td>\n",
       "    </tr>\n",
       "    <tr>\n",
       "      <th>4</th>\n",
       "      <td>Super built-up  Area</td>\n",
       "      <td>Kothanur</td>\n",
       "      <td>2.0</td>\n",
       "      <td>1.0</td>\n",
       "      <td>51.00</td>\n",
       "      <td>2</td>\n",
       "      <td>1200.0</td>\n",
       "    </tr>\n",
       "  </tbody>\n",
       "</table>\n",
       "</div>"
      ],
      "text/plain": [
       "              area_type                  location  bath  balcony   price  \\\n",
       "0  Super built-up  Area  Electronic City Phase II   2.0      1.0   39.07   \n",
       "1            Plot  Area          Chikka Tirupathi   5.0      3.0  120.00   \n",
       "2        Built-up  Area               Uttarahalli   2.0      3.0   62.00   \n",
       "3  Super built-up  Area        Lingadheeranahalli   3.0      1.0   95.00   \n",
       "4  Super built-up  Area                  Kothanur   2.0      1.0   51.00   \n",
       "\n",
       "   bedroom_formated  surf_formated  \n",
       "0                 2         1056.0  \n",
       "1                 4         2600.0  \n",
       "2                 3         1440.0  \n",
       "3                 3         1521.0  \n",
       "4                 2         1200.0  "
      ]
     },
     "execution_count": 119,
     "metadata": {},
     "output_type": "execute_result"
    }
   ],
   "source": [
    "df4 = df4.drop('total_sqft', axis = 'columns')\n",
    "df4.head()"
   ]
  },
  {
   "cell_type": "code",
   "execution_count": 120,
   "id": "39754fbe-9e46-4278-bab0-6bf2bee6e69b",
   "metadata": {},
   "outputs": [
    {
     "data": {
      "text/plain": [
       "area_type           0\n",
       "location            0\n",
       "bath                0\n",
       "balcony             0\n",
       "price               0\n",
       "bedroom_formated    0\n",
       "surf_formated       0\n",
       "dtype: int64"
      ]
     },
     "execution_count": 120,
     "metadata": {},
     "output_type": "execute_result"
    }
   ],
   "source": [
    "df4.isna().sum()"
   ]
  },
  {
   "cell_type": "markdown",
   "id": "274cb35d-51a9-444b-91ee-b04161c5925a",
   "metadata": {},
   "source": [
    "At this moment, the values in this dataframe must be well-formated. We still have to One-Hot encode the categorical features."
   ]
  },
  {
   "cell_type": "code",
   "execution_count": 121,
   "id": "c8d52d9d-a68f-40b4-a751-20dfb65d3ac9",
   "metadata": {},
   "outputs": [],
   "source": [
    "oh_features = pd.get_dummies(df4[['area_type', 'location']])"
   ]
  },
  {
   "cell_type": "code",
   "execution_count": 122,
   "id": "0dd380c6-b2d8-4fdf-9e18-82bc6957e555",
   "metadata": {},
   "outputs": [
    {
     "data": {
      "text/plain": [
       "(12710, 1269)"
      ]
     },
     "execution_count": 122,
     "metadata": {},
     "output_type": "execute_result"
    }
   ],
   "source": [
    "oh_features.shape"
   ]
  },
  {
   "cell_type": "markdown",
   "id": "4203c57a-3edb-4adc-a01c-bda4a6ebc6c8",
   "metadata": {},
   "source": [
    "We encounter an issue here : there are too much different locations, OH encoding would create 1260+ features. We will group the locations with less than 50 occurrences in a category 'Other'."
   ]
  },
  {
   "cell_type": "code",
   "execution_count": 123,
   "id": "424e6467-cf21-4a2e-a410-7224f53c6679",
   "metadata": {},
   "outputs": [],
   "source": [
    "df_tmp = df4.groupby('location')['location'].agg('count')"
   ]
  },
  {
   "cell_type": "code",
   "execution_count": 124,
   "id": "fd16eee9-c1a2-4c93-a776-eeaaf4bbff0b",
   "metadata": {},
   "outputs": [],
   "source": [
    "list_loc_ok = df_tmp[df_tmp>50].sort_values(ascending=False)"
   ]
  },
  {
   "cell_type": "code",
   "execution_count": 125,
   "id": "50241bb1-6e08-4b79-a006-c504ba4166b3",
   "metadata": {},
   "outputs": [],
   "source": [
    "def format_location(loc : str) -> str:\n",
    "    if loc in list_loc_ok:\n",
    "        return loc\n",
    "    else:\n",
    "        return 'Other'"
   ]
  },
  {
   "cell_type": "code",
   "execution_count": 126,
   "id": "7289356a-7a3d-4c56-94ab-62f01ad5e5c2",
   "metadata": {},
   "outputs": [],
   "source": [
    "df5 = df4.copy()\n",
    "df5['loc_formated'] = df4['location'].apply(format_location)\n",
    "df5 = df5.drop('location', axis = 'columns')"
   ]
  },
  {
   "cell_type": "code",
   "execution_count": 127,
   "id": "db615116-51fb-4fa9-8245-91be0b9b434f",
   "metadata": {},
   "outputs": [
    {
     "data": {
      "text/plain": [
       "loc_formated\n",
       "7th Phase JP Nagar           147\n",
       "8th Phase JP Nagar            56\n",
       "Akshaya Nagar                 58\n",
       "Banashankari                  74\n",
       "Bannerghatta Road            144\n",
       "Begur Road                    83\n",
       "Bellandur                     91\n",
       "Bisuvanahalli                 51\n",
       "Budigere                      54\n",
       "Chandapura                    98\n",
       "Electronic City              300\n",
       "Electronic City Phase II     130\n",
       "Electronics City Phase 1      86\n",
       "Haralur Road                 135\n",
       "Harlur                        76\n",
       "Hebbal                       173\n",
       "Hennur                        51\n",
       "Hennur Road                  142\n",
       "Hoodi                         86\n",
       "Hormavu                       71\n",
       "Hosa Road                     72\n",
       "JP Nagar                      64\n",
       "Jakkur                        67\n",
       "KR Puram                      85\n",
       "Kaggadasapura                 61\n",
       "Kanakpura Road               261\n",
       "Kasavanhalli                  77\n",
       "Kengeri                       71\n",
       "Koramangala                   69\n",
       "Kothanur                      59\n",
       "Malleshwaram                  52\n",
       "Marathahalli                 164\n",
       "Nagarbhavi                    62\n",
       "Old Madras Road               69\n",
       "Other                       7071\n",
       "Panathur                      51\n",
       "Rachenahalli                  54\n",
       "Raja Rajeshwari Nagar        168\n",
       "Rajaji Nagar                  99\n",
       "Ramamurthy Nagar              72\n",
       "Sarjapur                      81\n",
       "Sarjapur  Road               372\n",
       "TC Palaya                     60\n",
       "Thanisandra                  231\n",
       "Thigalarapalya                60\n",
       "Uttarahalli                  186\n",
       "Varthur                       68\n",
       "Whitefield                   514\n",
       "Yelahanka                    206\n",
       "Yeshwanthpur                  78\n",
       "Name: loc_formated, dtype: int64"
      ]
     },
     "execution_count": 127,
     "metadata": {},
     "output_type": "execute_result"
    }
   ],
   "source": [
    "df5.groupby('loc_formated')['loc_formated'].agg('count')"
   ]
  },
  {
   "cell_type": "markdown",
   "id": "4e667eb9-f2cd-4015-b357-f8a606380a0f",
   "metadata": {},
   "source": [
    "Now, we have 50 different features corresponding to the location, allowing the one hot encoding."
   ]
  },
  {
   "cell_type": "code",
   "execution_count": 128,
   "id": "960b3474-cf63-4182-9ff2-26c879272301",
   "metadata": {},
   "outputs": [],
   "source": [
    "df_tmp = df5.groupby('area_type')['area_type'].agg('count')"
   ]
  },
  {
   "cell_type": "code",
   "execution_count": 129,
   "id": "4f927dfe-2586-44c4-9097-9d5075fcded6",
   "metadata": {},
   "outputs": [
    {
     "data": {
      "text/plain": [
       "area_type\n",
       "Built-up  Area          2310\n",
       "Carpet  Area              82\n",
       "Plot  Area              1837\n",
       "Super built-up  Area    8481\n",
       "Name: area_type, dtype: int64"
      ]
     },
     "execution_count": 129,
     "metadata": {},
     "output_type": "execute_result"
    }
   ],
   "source": [
    "df_tmp"
   ]
  },
  {
   "cell_type": "markdown",
   "id": "a5b70224-84ff-4305-8d3f-8276948814af",
   "metadata": {},
   "source": [
    "No need to do the same operation with the 'area_type' feature."
   ]
  },
  {
   "cell_type": "code",
   "execution_count": 130,
   "id": "3c492477-f647-486d-b988-2140539d2324",
   "metadata": {},
   "outputs": [],
   "source": [
    "df6 = df5.copy()"
   ]
  },
  {
   "cell_type": "code",
   "execution_count": 132,
   "id": "e4d1f8a6-9293-44aa-9f34-d0190d6fc497",
   "metadata": {},
   "outputs": [],
   "source": [
    "df6['price_per_sqft'] = df6.price / df6.surf_formated\n",
    "df6['area_per_bedroom'] = df6.surf_formated / df6.bedroom_formated"
   ]
  },
  {
   "cell_type": "markdown",
   "id": "5b481655-11a4-474e-a03c-0dc5f40d4e43",
   "metadata": {},
   "source": [
    "The dataset is well-formated. We still have to remove the outliers in order to improve the future model we will use. To do so, I will introduce two temporary features : price per sqft, number of sqft per bedroom. We will get rid of the rows with a Z-score between -2 and 2 for those 2 features. \n",
    "\n",
    "\n",
    "A final filter will be applied on the bath number. Arbitrarily, we choose to discard the rows with more bathrooms than bedrooms."
   ]
  },
  {
   "cell_type": "code",
   "execution_count": 133,
   "id": "4391e167-8ee7-49eb-b7a5-c009d574dc48",
   "metadata": {},
   "outputs": [
    {
     "data": {
      "text/html": [
       "<div>\n",
       "<style scoped>\n",
       "    .dataframe tbody tr th:only-of-type {\n",
       "        vertical-align: middle;\n",
       "    }\n",
       "\n",
       "    .dataframe tbody tr th {\n",
       "        vertical-align: top;\n",
       "    }\n",
       "\n",
       "    .dataframe thead th {\n",
       "        text-align: right;\n",
       "    }\n",
       "</style>\n",
       "<table border=\"1\" class=\"dataframe\">\n",
       "  <thead>\n",
       "    <tr style=\"text-align: right;\">\n",
       "      <th></th>\n",
       "      <th>area_type</th>\n",
       "      <th>bath</th>\n",
       "      <th>balcony</th>\n",
       "      <th>price</th>\n",
       "      <th>bedroom_formated</th>\n",
       "      <th>surf_formated</th>\n",
       "      <th>loc_formated</th>\n",
       "      <th>price_per_sqft</th>\n",
       "      <th>area_per_bedroom</th>\n",
       "    </tr>\n",
       "  </thead>\n",
       "  <tbody>\n",
       "    <tr>\n",
       "      <th>0</th>\n",
       "      <td>Super built-up  Area</td>\n",
       "      <td>2.0</td>\n",
       "      <td>1.0</td>\n",
       "      <td>39.07</td>\n",
       "      <td>2</td>\n",
       "      <td>1056.0</td>\n",
       "      <td>Electronic City Phase II</td>\n",
       "      <td>0.036998</td>\n",
       "      <td>528.0</td>\n",
       "    </tr>\n",
       "    <tr>\n",
       "      <th>1</th>\n",
       "      <td>Plot  Area</td>\n",
       "      <td>5.0</td>\n",
       "      <td>3.0</td>\n",
       "      <td>120.00</td>\n",
       "      <td>4</td>\n",
       "      <td>2600.0</td>\n",
       "      <td>Other</td>\n",
       "      <td>0.046154</td>\n",
       "      <td>650.0</td>\n",
       "    </tr>\n",
       "    <tr>\n",
       "      <th>2</th>\n",
       "      <td>Built-up  Area</td>\n",
       "      <td>2.0</td>\n",
       "      <td>3.0</td>\n",
       "      <td>62.00</td>\n",
       "      <td>3</td>\n",
       "      <td>1440.0</td>\n",
       "      <td>Uttarahalli</td>\n",
       "      <td>0.043056</td>\n",
       "      <td>480.0</td>\n",
       "    </tr>\n",
       "    <tr>\n",
       "      <th>3</th>\n",
       "      <td>Super built-up  Area</td>\n",
       "      <td>3.0</td>\n",
       "      <td>1.0</td>\n",
       "      <td>95.00</td>\n",
       "      <td>3</td>\n",
       "      <td>1521.0</td>\n",
       "      <td>Other</td>\n",
       "      <td>0.062459</td>\n",
       "      <td>507.0</td>\n",
       "    </tr>\n",
       "    <tr>\n",
       "      <th>4</th>\n",
       "      <td>Super built-up  Area</td>\n",
       "      <td>2.0</td>\n",
       "      <td>1.0</td>\n",
       "      <td>51.00</td>\n",
       "      <td>2</td>\n",
       "      <td>1200.0</td>\n",
       "      <td>Kothanur</td>\n",
       "      <td>0.042500</td>\n",
       "      <td>600.0</td>\n",
       "    </tr>\n",
       "  </tbody>\n",
       "</table>\n",
       "</div>"
      ],
      "text/plain": [
       "              area_type  bath  balcony   price  bedroom_formated  \\\n",
       "0  Super built-up  Area   2.0      1.0   39.07                 2   \n",
       "1            Plot  Area   5.0      3.0  120.00                 4   \n",
       "2        Built-up  Area   2.0      3.0   62.00                 3   \n",
       "3  Super built-up  Area   3.0      1.0   95.00                 3   \n",
       "4  Super built-up  Area   2.0      1.0   51.00                 2   \n",
       "\n",
       "   surf_formated              loc_formated  price_per_sqft  area_per_bedroom  \n",
       "0         1056.0  Electronic City Phase II        0.036998             528.0  \n",
       "1         2600.0                     Other        0.046154             650.0  \n",
       "2         1440.0               Uttarahalli        0.043056             480.0  \n",
       "3         1521.0                     Other        0.062459             507.0  \n",
       "4         1200.0                  Kothanur        0.042500             600.0  "
      ]
     },
     "execution_count": 133,
     "metadata": {},
     "output_type": "execute_result"
    }
   ],
   "source": [
    "df6.head()"
   ]
  },
  {
   "cell_type": "code",
   "execution_count": 134,
   "id": "104e01d1-2181-48c7-8f46-f099a0368f7e",
   "metadata": {},
   "outputs": [],
   "source": [
    "from scipy import stats"
   ]
  },
  {
   "cell_type": "code",
   "execution_count": 135,
   "id": "e0e33bdb-7647-48b6-8854-5a0d882d8a30",
   "metadata": {},
   "outputs": [],
   "source": [
    "df_outliers_removing = df6.copy()\n",
    "df_outliers_removing['zscore_area_per_bedroom'] = stats.zscore(df6['area_per_bedroom'])"
   ]
  },
  {
   "cell_type": "code",
   "execution_count": 136,
   "id": "df37b579-371f-40c9-af76-ad14e469440a",
   "metadata": {},
   "outputs": [
    {
     "data": {
      "text/html": [
       "<div>\n",
       "<style scoped>\n",
       "    .dataframe tbody tr th:only-of-type {\n",
       "        vertical-align: middle;\n",
       "    }\n",
       "\n",
       "    .dataframe tbody tr th {\n",
       "        vertical-align: top;\n",
       "    }\n",
       "\n",
       "    .dataframe thead th {\n",
       "        text-align: right;\n",
       "    }\n",
       "</style>\n",
       "<table border=\"1\" class=\"dataframe\">\n",
       "  <thead>\n",
       "    <tr style=\"text-align: right;\">\n",
       "      <th></th>\n",
       "      <th>area_type</th>\n",
       "      <th>bath</th>\n",
       "      <th>balcony</th>\n",
       "      <th>price</th>\n",
       "      <th>bedroom_formated</th>\n",
       "      <th>surf_formated</th>\n",
       "      <th>loc_formated</th>\n",
       "      <th>price_per_sqft</th>\n",
       "      <th>area_per_bedroom</th>\n",
       "      <th>zscore_area_per_bedroom</th>\n",
       "    </tr>\n",
       "  </thead>\n",
       "  <tbody>\n",
       "    <tr>\n",
       "      <th>0</th>\n",
       "      <td>Super built-up  Area</td>\n",
       "      <td>2.0</td>\n",
       "      <td>1.0</td>\n",
       "      <td>39.07</td>\n",
       "      <td>2</td>\n",
       "      <td>1056.0</td>\n",
       "      <td>Electronic City Phase II</td>\n",
       "      <td>0.036998</td>\n",
       "      <td>528.0</td>\n",
       "      <td>-0.024945</td>\n",
       "    </tr>\n",
       "    <tr>\n",
       "      <th>1</th>\n",
       "      <td>Plot  Area</td>\n",
       "      <td>5.0</td>\n",
       "      <td>3.0</td>\n",
       "      <td>120.00</td>\n",
       "      <td>4</td>\n",
       "      <td>2600.0</td>\n",
       "      <td>Other</td>\n",
       "      <td>0.046154</td>\n",
       "      <td>650.0</td>\n",
       "      <td>-0.006521</td>\n",
       "    </tr>\n",
       "    <tr>\n",
       "      <th>2</th>\n",
       "      <td>Built-up  Area</td>\n",
       "      <td>2.0</td>\n",
       "      <td>3.0</td>\n",
       "      <td>62.00</td>\n",
       "      <td>3</td>\n",
       "      <td>1440.0</td>\n",
       "      <td>Uttarahalli</td>\n",
       "      <td>0.043056</td>\n",
       "      <td>480.0</td>\n",
       "      <td>-0.032194</td>\n",
       "    </tr>\n",
       "    <tr>\n",
       "      <th>3</th>\n",
       "      <td>Super built-up  Area</td>\n",
       "      <td>3.0</td>\n",
       "      <td>1.0</td>\n",
       "      <td>95.00</td>\n",
       "      <td>3</td>\n",
       "      <td>1521.0</td>\n",
       "      <td>Other</td>\n",
       "      <td>0.062459</td>\n",
       "      <td>507.0</td>\n",
       "      <td>-0.028116</td>\n",
       "    </tr>\n",
       "    <tr>\n",
       "      <th>4</th>\n",
       "      <td>Super built-up  Area</td>\n",
       "      <td>2.0</td>\n",
       "      <td>1.0</td>\n",
       "      <td>51.00</td>\n",
       "      <td>2</td>\n",
       "      <td>1200.0</td>\n",
       "      <td>Kothanur</td>\n",
       "      <td>0.042500</td>\n",
       "      <td>600.0</td>\n",
       "      <td>-0.014072</td>\n",
       "    </tr>\n",
       "  </tbody>\n",
       "</table>\n",
       "</div>"
      ],
      "text/plain": [
       "              area_type  bath  balcony   price  bedroom_formated  \\\n",
       "0  Super built-up  Area   2.0      1.0   39.07                 2   \n",
       "1            Plot  Area   5.0      3.0  120.00                 4   \n",
       "2        Built-up  Area   2.0      3.0   62.00                 3   \n",
       "3  Super built-up  Area   3.0      1.0   95.00                 3   \n",
       "4  Super built-up  Area   2.0      1.0   51.00                 2   \n",
       "\n",
       "   surf_formated              loc_formated  price_per_sqft  area_per_bedroom  \\\n",
       "0         1056.0  Electronic City Phase II        0.036998             528.0   \n",
       "1         2600.0                     Other        0.046154             650.0   \n",
       "2         1440.0               Uttarahalli        0.043056             480.0   \n",
       "3         1521.0                     Other        0.062459             507.0   \n",
       "4         1200.0                  Kothanur        0.042500             600.0   \n",
       "\n",
       "   zscore_area_per_bedroom  \n",
       "0                -0.024945  \n",
       "1                -0.006521  \n",
       "2                -0.032194  \n",
       "3                -0.028116  \n",
       "4                -0.014072  "
      ]
     },
     "execution_count": 136,
     "metadata": {},
     "output_type": "execute_result"
    }
   ],
   "source": [
    "df_outliers_removing.head()"
   ]
  },
  {
   "cell_type": "code",
   "execution_count": 137,
   "id": "4998fd5a-8184-43da-a490-7bfa91f1359c",
   "metadata": {},
   "outputs": [
    {
     "name": "stdout",
     "output_type": "stream",
     "text": [
      "(12698, 10)\n"
     ]
    }
   ],
   "source": [
    "df_outliers_removing = df_outliers_removing[abs(df_outliers_removing['zscore_area_per_bedroom'])<2] # Outliers area_per_bedroom\n",
    "print(df_outliers_removing.shape)"
   ]
  },
  {
   "cell_type": "code",
   "execution_count": 138,
   "id": "e0333150-5c47-49e6-bb47-530ad4fd9788",
   "metadata": {},
   "outputs": [
    {
     "name": "stdout",
     "output_type": "stream",
     "text": [
      "(12474, 11)\n"
     ]
    }
   ],
   "source": [
    "df_outliers_removing['zscore_price_per_sqft'] = df_outliers_removing.groupby('loc_formated')['price_per_sqft'].transform(lambda x: stats.zscore(x))\n",
    "df_outliers_removing = df_outliers_removing[abs(df_outliers_removing['zscore_price_per_sqft'])<2] # Outliers price per square ft\n",
    "print(df_outliers_removing.shape)"
   ]
  },
  {
   "cell_type": "code",
   "execution_count": 140,
   "id": "62779c38-110e-4fea-a9b9-9686fb8803de",
   "metadata": {},
   "outputs": [
    {
     "name": "stdout",
     "output_type": "stream",
     "text": [
      "(11724, 11)\n"
     ]
    }
   ],
   "source": [
    "df_outliers_removing = df_outliers_removing[df_outliers_removing['bath']<=df_outliers_removing['bedroom_formated']] # Outliers bath numbers\n",
    "print(df_outliers_removing.shape)"
   ]
  },
  {
   "cell_type": "code",
   "execution_count": 141,
   "id": "e26bc131-b6b9-41f4-9677-a6091c11ff15",
   "metadata": {},
   "outputs": [],
   "source": [
    "dummies_var = pd.get_dummies(df_outliers_removing[['area_type', 'loc_formated']], drop_first = True)"
   ]
  },
  {
   "cell_type": "code",
   "execution_count": 142,
   "id": "3e56f5fb-20ec-418e-9d54-660c35b36e17",
   "metadata": {},
   "outputs": [],
   "source": [
    "df7 = pd.concat([df_outliers_removing.drop(['area_type', 'loc_formated', 'zscore_area_per_bedroom',\t'zscore_price_per_sqft'], axis = 'columns'), dummies_var], axis = 'columns')"
   ]
  },
  {
   "cell_type": "code",
   "execution_count": 143,
   "id": "888de619-2187-48a2-a1e3-a260c62ac8ea",
   "metadata": {},
   "outputs": [
    {
     "data": {
      "text/plain": [
       "(11724, 59)"
      ]
     },
     "execution_count": 143,
     "metadata": {},
     "output_type": "execute_result"
    }
   ],
   "source": [
    "df7.shape"
   ]
  },
  {
   "cell_type": "markdown",
   "id": "bc887309-7e80-45dc-9113-bc3b792d69a5",
   "metadata": {},
   "source": [
    "After removing the outliers, 11724 houses remain, out of the original 13320."
   ]
  },
  {
   "cell_type": "code",
   "execution_count": 144,
   "id": "e372e57b-7619-4c6b-91f3-80dc47cab9b4",
   "metadata": {},
   "outputs": [],
   "source": [
    "list_columns_to_visualise = ['bath', 'balcony', 'price', 'bedroom_formated', 'surf_formated']"
   ]
  },
  {
   "cell_type": "code",
   "execution_count": 145,
   "id": "661e4bf3-cd3f-4c43-ad71-f75627bd7ca9",
   "metadata": {},
   "outputs": [
    {
     "data": {
      "image/png": "[encoded data removed]",
      "text/plain": [
       "<Figure size 1800x1200 with 5 Axes>"
      ]
     },
     "metadata": {},
     "output_type": "display_data"
    }
   ],
   "source": [
    "k = 0\n",
    "plt.figure(figsize=(18, 12))  # Augmente la taille de la figure pour plus d'espace\n",
    "for col_name in list_columns_to_visualise:\n",
    "    k += 1\n",
    "    plt.subplot(3, 3, k)\n",
    "    plt.hist(df7[col_name], rwidth=0.01, bins=df7[col_name].unique().shape[0], edgecolor='black')\n",
    "    plt.xlabel('Values')\n",
    "    plt.ylabel('Occurrences')\n",
    "    plt.yscale('log')\n",
    "    \n",
    "    plt.title(f\"Histogram of '{col_name}'\", fontsize=10)\n",
    "    \n",
    "# Ajuster automatiquement les espacements\n",
    "plt.tight_layout()\n",
    "plt.subplots_adjust(top=0.9, hspace=0.6, wspace=0.4)  # wspace augmente l'espace horizontal\n",
    "\n",
    "plt.show()\n"
   ]
  },
  {
   "cell_type": "code",
   "execution_count": null,
   "id": "3f7aceb4-7ccd-4685-afa3-5d175654e3a5",
   "metadata": {},
   "outputs": [],
   "source": []
  }
 ],
 "metadata": {
  "kernelspec": {
   "display_name": "Python 3 (ipykernel)",
   "language": "python",
   "name": "python3"
  },
  "language_info": {
   "codemirror_mode": {
    "name": "ipython",
    "version": 3
   },
   "file_extension": ".py",
   "mimetype": "text/x-python",
   "name": "python",
   "nbconvert_exporter": "python",
   "pygments_lexer": "ipython3",
   "version": "3.11.5"
  }
 },
 "nbformat": 4,
 "nbformat_minor": 5
}
