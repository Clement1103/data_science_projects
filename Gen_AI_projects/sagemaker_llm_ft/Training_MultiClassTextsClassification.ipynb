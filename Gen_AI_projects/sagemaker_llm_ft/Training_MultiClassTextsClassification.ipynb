{
 "cells": [
  {
   "cell_type": "code",
   "execution_count": 1,
   "id": "548e4dfa-3796-4e3b-bb83-1e75c1b51caf",
   "metadata": {},
   "outputs": [
    {
     "name": "stdout",
     "output_type": "stream",
     "text": [
      "Requirement already satisfied: transformers in /home/ec2-user/anaconda3/envs/pytorch_p310/lib/python3.10/site-packages (4.49.0)\n",
      "Requirement already satisfied: filelock in /home/ec2-user/anaconda3/envs/pytorch_p310/lib/python3.10/site-packages (from transformers) (3.17.0)\n",
      "Requirement already satisfied: huggingface-hub<1.0,>=0.26.0 in /home/ec2-user/anaconda3/envs/pytorch_p310/lib/python3.10/site-packages (from transformers) (0.29.3)\n",
      "Requirement already satisfied: numpy>=1.17 in /home/ec2-user/anaconda3/envs/pytorch_p310/lib/python3.10/site-packages (from transformers) (1.26.4)\n",
      "Requirement already satisfied: packaging>=20.0 in /home/ec2-user/anaconda3/envs/pytorch_p310/lib/python3.10/site-packages (from transformers) (21.3)\n",
      "Requirement already satisfied: pyyaml>=5.1 in /home/ec2-user/anaconda3/envs/pytorch_p310/lib/python3.10/site-packages (from transformers) (6.0.2)\n",
      "Requirement already satisfied: regex!=2019.12.17 in /home/ec2-user/anaconda3/envs/pytorch_p310/lib/python3.10/site-packages (from transformers) (2024.11.6)\n",
      "Requirement already satisfied: requests in /home/ec2-user/anaconda3/envs/pytorch_p310/lib/python3.10/site-packages (from transformers) (2.32.3)\n",
      "Requirement already satisfied: tokenizers<0.22,>=0.21 in /home/ec2-user/anaconda3/envs/pytorch_p310/lib/python3.10/site-packages (from transformers) (0.21.1)\n",
      "Requirement already satisfied: safetensors>=0.4.1 in /home/ec2-user/anaconda3/envs/pytorch_p310/lib/python3.10/site-packages (from transformers) (0.5.3)\n",
      "Requirement already satisfied: tqdm>=4.27 in /home/ec2-user/anaconda3/envs/pytorch_p310/lib/python3.10/site-packages (from transformers) (4.67.1)\n",
      "Requirement already satisfied: fsspec>=2023.5.0 in /home/ec2-user/anaconda3/envs/pytorch_p310/lib/python3.10/site-packages (from huggingface-hub<1.0,>=0.26.0->transformers) (2025.2.0)\n",
      "Requirement already satisfied: typing-extensions>=3.7.4.3 in /home/ec2-user/anaconda3/envs/pytorch_p310/lib/python3.10/site-packages (from huggingface-hub<1.0,>=0.26.0->transformers) (4.12.2)\n",
      "Requirement already satisfied: pyparsing!=3.0.5,>=2.0.2 in /home/ec2-user/anaconda3/envs/pytorch_p310/lib/python3.10/site-packages (from packaging>=20.0->transformers) (3.2.1)\n",
      "Requirement already satisfied: charset_normalizer<4,>=2 in /home/ec2-user/anaconda3/envs/pytorch_p310/lib/python3.10/site-packages (from requests->transformers) (3.4.1)\n",
      "Requirement already satisfied: idna<4,>=2.5 in /home/ec2-user/anaconda3/envs/pytorch_p310/lib/python3.10/site-packages (from requests->transformers) (3.10)\n",
      "Requirement already satisfied: urllib3<3,>=1.21.1 in /home/ec2-user/anaconda3/envs/pytorch_p310/lib/python3.10/site-packages (from requests->transformers) (2.3.0)\n",
      "Requirement already satisfied: certifi>=2017.4.17 in /home/ec2-user/anaconda3/envs/pytorch_p310/lib/python3.10/site-packages (from requests->transformers) (2025.1.31)\n"
     ]
    }
   ],
   "source": [
    "!pip install transformers"
   ]
  },
  {
   "cell_type": "code",
   "execution_count": 2,
   "id": "a4bfaa5e-5b43-46b9-83f2-61c012d7441c",
   "metadata": {},
   "outputs": [
    {
     "name": "stderr",
     "output_type": "stream",
     "text": [
      "/home/ec2-user/anaconda3/envs/pytorch_p310/lib/python3.10/site-packages/pydantic/_internal/_fields.py:192: UserWarning: Field name \"json\" in \"MonitoringDatasetFormat\" shadows an attribute in parent \"Base\"\n",
      "  warnings.warn(\n"
     ]
    },
    {
     "data": {
      "text/html": [
       "<pre style=\"white-space:pre;overflow-x:auto;line-height:normal;font-family:Menlo,'DejaVu Sans Mono',consolas,'Courier New',monospace\"><span style=\"color: #7fbfbf; text-decoration-color: #7fbfbf\">[03/18/25 09:55:06] </span><span style=\"color: #0069ff; text-decoration-color: #0069ff; font-weight: bold\">INFO    </span> Found credentials from IAM Role:                                   <a href=\"file:///home/ec2-user/anaconda3/envs/pytorch_p310/lib/python3.10/site-packages/botocore/credentials.py\" target=\"_blank\"><span style=\"color: #7f7f7f; text-decoration-color: #7f7f7f\">credentials.py</span></a><span style=\"color: #7f7f7f; text-decoration-color: #7f7f7f\">:</span><a href=\"file:///home/ec2-user/anaconda3/envs/pytorch_p310/lib/python3.10/site-packages/botocore/credentials.py#1132\" target=\"_blank\"><span style=\"color: #7f7f7f; text-decoration-color: #7f7f7f\">1132</span></a>\n",
       "<span style=\"color: #7fbfbf; text-decoration-color: #7fbfbf\">                    </span>         BaseNotebookInstanceEc2InstanceRole                                <span style=\"color: #7f7f7f; text-decoration-color: #7f7f7f\">                   </span>\n",
       "</pre>\n"
      ],
      "text/plain": [
       "\u001b[2;36m[03/18/25 09:55:06]\u001b[0m\u001b[2;36m \u001b[0m\u001b[1;38;2;0;105;255mINFO    \u001b[0m Found credentials from IAM Role:                                   \u001b]8;id=716071;file:///home/ec2-user/anaconda3/envs/pytorch_p310/lib/python3.10/site-packages/botocore/credentials.py\u001b\\\u001b[2mcredentials.py\u001b[0m\u001b]8;;\u001b\\\u001b[2m:\u001b[0m\u001b]8;id=436517;file:///home/ec2-user/anaconda3/envs/pytorch_p310/lib/python3.10/site-packages/botocore/credentials.py#1132\u001b\\\u001b[2m1132\u001b[0m\u001b]8;;\u001b\\\n",
       "\u001b[2;36m                    \u001b[0m         BaseNotebookInstanceEc2InstanceRole                                \u001b[2m                   \u001b[0m\n"
      ]
     },
     "metadata": {},
     "output_type": "display_data"
    },
    {
     "name": "stdout",
     "output_type": "stream",
     "text": [
      "sagemaker.config INFO - Not applying SDK defaults from location: /etc/xdg/sagemaker/config.yaml\n",
      "sagemaker.config INFO - Not applying SDK defaults from location: /home/ec2-user/.config/sagemaker/config.yaml\n"
     ]
    }
   ],
   "source": [
    "import torch\n",
    "import transformers\n",
    "import sagemaker\n",
    "from sagemaker.huggingface import HuggingFace\n",
    "from sagemaker import get_execution_role"
   ]
  },
  {
   "cell_type": "code",
   "execution_count": null,
   "id": "a7ee795d-e1a9-4aff-b590-f0b914b1ffde",
   "metadata": {},
   "outputs": [],
   "source": [
    "from dotenv import load_dotenv\n",
    "\n",
    "load_dotenv()\n",
    "\n",
    "role = os.getenv(\"AWS_ROLE_ARN\")\n",
    "output_path = os.getenv(\"OUTPUT_PATH\")"
   ]
  },
  {
   "cell_type": "code",
   "execution_count": 3,
   "id": "b6e2dd1b-ec69-4d8d-b75d-346831e547f8",
   "metadata": {},
   "outputs": [
    {
     "data": {
      "text/html": [
       "<pre style=\"white-space:pre;overflow-x:auto;line-height:normal;font-family:Menlo,'DejaVu Sans Mono',consolas,'Courier New',monospace\"><span style=\"color: #7fbfbf; text-decoration-color: #7fbfbf\">[03/18/25 09:55:07] </span><span style=\"color: #0069ff; text-decoration-color: #0069ff; font-weight: bold\">INFO    </span> Found credentials from IAM Role:                                   <a href=\"file:///home/ec2-user/anaconda3/envs/pytorch_p310/lib/python3.10/site-packages/botocore/credentials.py\" target=\"_blank\"><span style=\"color: #7f7f7f; text-decoration-color: #7f7f7f\">credentials.py</span></a><span style=\"color: #7f7f7f; text-decoration-color: #7f7f7f\">:</span><a href=\"file:///home/ec2-user/anaconda3/envs/pytorch_p310/lib/python3.10/site-packages/botocore/credentials.py#1132\" target=\"_blank\"><span style=\"color: #7f7f7f; text-decoration-color: #7f7f7f\">1132</span></a>\n",
       "<span style=\"color: #7fbfbf; text-decoration-color: #7fbfbf\">                    </span>         BaseNotebookInstanceEc2InstanceRole                                <span style=\"color: #7f7f7f; text-decoration-color: #7f7f7f\">                   </span>\n",
       "</pre>\n"
      ],
      "text/plain": [
       "\u001b[2;36m[03/18/25 09:55:07]\u001b[0m\u001b[2;36m \u001b[0m\u001b[1;38;2;0;105;255mINFO    \u001b[0m Found credentials from IAM Role:                                   \u001b]8;id=467079;file:///home/ec2-user/anaconda3/envs/pytorch_p310/lib/python3.10/site-packages/botocore/credentials.py\u001b\\\u001b[2mcredentials.py\u001b[0m\u001b]8;;\u001b\\\u001b[2m:\u001b[0m\u001b]8;id=441348;file:///home/ec2-user/anaconda3/envs/pytorch_p310/lib/python3.10/site-packages/botocore/credentials.py#1132\u001b\\\u001b[2m1132\u001b[0m\u001b]8;;\u001b\\\n",
       "\u001b[2;36m                    \u001b[0m         BaseNotebookInstanceEc2InstanceRole                                \u001b[2m                   \u001b[0m\n"
      ]
     },
     "metadata": {},
     "output_type": "display_data"
    }
   ],
   "source": [
    "#role = get_execution_role()"
   ]
  },
  {
   "cell_type": "code",
   "execution_count": 5,
   "id": "a71e37cd-c777-45b7-a5be-3d6e2b1d0ef9",
   "metadata": {},
   "outputs": [
    {
     "data": {
      "text/html": [
       "<pre style=\"white-space:pre;overflow-x:auto;line-height:normal;font-family:Menlo,'DejaVu Sans Mono',consolas,'Courier New',monospace\"><span style=\"color: #7fbfbf; text-decoration-color: #7fbfbf\">                    </span><span style=\"color: #0069ff; text-decoration-color: #0069ff; font-weight: bold\">INFO    </span> Found credentials from IAM Role:                                   <a href=\"file:///home/ec2-user/anaconda3/envs/pytorch_p310/lib/python3.10/site-packages/botocore/credentials.py\" target=\"_blank\"><span style=\"color: #7f7f7f; text-decoration-color: #7f7f7f\">credentials.py</span></a><span style=\"color: #7f7f7f; text-decoration-color: #7f7f7f\">:</span><a href=\"file:///home/ec2-user/anaconda3/envs/pytorch_p310/lib/python3.10/site-packages/botocore/credentials.py#1132\" target=\"_blank\"><span style=\"color: #7f7f7f; text-decoration-color: #7f7f7f\">1132</span></a>\n",
       "<span style=\"color: #7fbfbf; text-decoration-color: #7fbfbf\">                    </span>         BaseNotebookInstanceEc2InstanceRole                                <span style=\"color: #7f7f7f; text-decoration-color: #7f7f7f\">                   </span>\n",
       "</pre>\n"
      ],
      "text/plain": [
       "\u001b[2;36m                   \u001b[0m\u001b[2;36m \u001b[0m\u001b[1;38;2;0;105;255mINFO    \u001b[0m Found credentials from IAM Role:                                   \u001b]8;id=857694;file:///home/ec2-user/anaconda3/envs/pytorch_p310/lib/python3.10/site-packages/botocore/credentials.py\u001b\\\u001b[2mcredentials.py\u001b[0m\u001b]8;;\u001b\\\u001b[2m:\u001b[0m\u001b]8;id=813976;file:///home/ec2-user/anaconda3/envs/pytorch_p310/lib/python3.10/site-packages/botocore/credentials.py#1132\u001b\\\u001b[2m1132\u001b[0m\u001b]8;;\u001b\\\n",
       "\u001b[2;36m                    \u001b[0m         BaseNotebookInstanceEc2InstanceRole                                \u001b[2m                   \u001b[0m\n"
      ]
     },
     "metadata": {},
     "output_type": "display_data"
    }
   ],
   "source": [
    "sagemaker_session = sagemaker.Session()"
   ]
  },
  {
   "cell_type": "code",
   "execution_count": 14,
   "id": "7b4c0d6b-e09f-43cf-b815-fd539d24593d",
   "metadata": {},
   "outputs": [],
   "source": [
    "from sagemaker.huggingface import HuggingFace\n",
    "huggingface_estimator = HuggingFace(\n",
    "    entry_point='script.py',\n",
    "    source_dir = './training_scripts',\n",
    "    role = role,\n",
    "    instance_count = 1,\n",
    "    instance_type = 'ml.g4dn.xlarge',\n",
    "    transformers_version = '4.6',\n",
    "    pytorch_version = '1.8',\n",
    "    # output_path = 's3://hf-multiclass-texts-classif-bucket/output/',\n",
    "    output_path = output_path\n",
    "    py_version = 'py36',\n",
    "    hyperparameters = {'epochs':2,\n",
    "                       'train_batch_size':4,\n",
    "                       'valid_batch_size':2,\n",
    "                       'learning_rate':1e-05\n",
    "                      },\n",
    "    enable_sagemaker_metrics = True\n",
    ")"
   ]
  },
  {
   "cell_type": "code",
   "execution_count": 11,
   "id": "826bc7c3-4ee9-476d-bd9a-3359d47d092d",
   "metadata": {},
   "outputs": [
    {
     "name": "stdout",
     "output_type": "stream",
     "text": [
      "total 360\n",
      "drwxr-xr-x  8 ec2-user ec2-user   4096 Mar 18 10:03 .\n",
      "drwx------ 21 ec2-user ec2-user   4096 Mar 18 08:57 ..\n",
      "-rw-rw-r--  1 ec2-user ec2-user 101290 Mar  4 11:25 EDA_MultiClassTextsClassification.ipynb\n",
      "drwxrwxr-x  2 ec2-user ec2-user   4096 Mar  4 11:10 .ipynb_checkpoints\n",
      "drwx------  2 root     root      16384 Mar  3 13:52 lost+found\n",
      "-rw-rw-r--  1 ec2-user ec2-user  30855 Mar  3 14:14 Sentiment_analysis.ipynb\n",
      "drwxr-xr-x  2 ec2-user ec2-user   4096 Mar  3 13:52 .sparkmagic\n",
      "-rw-rw-r--  1 ec2-user ec2-user 185703 Mar 18 10:03 Training_MultiClassTextsClassification.ipynb\n",
      "drwxrwxr-x  3 ec2-user ec2-user   4096 Mar 18 10:02 training_scripts\n",
      "drwx------  4 ec2-user ec2-user   4096 Mar  4 11:10 .Trash-1000\n",
      "drwxrwxr-x  2 ec2-user ec2-user   4096 Mar 18 08:59 .virtual_documents\n"
     ]
    }
   ],
   "source": [
    "!ls -la"
   ]
  },
  {
   "cell_type": "code",
   "execution_count": 12,
   "id": "f629d6e6-136d-4ae9-bb55-528f49769850",
   "metadata": {},
   "outputs": [
    {
     "name": "stdout",
     "output_type": "stream",
     "text": [
      "mkdir: cannot create directory ‘training_scripts’: File exists\n",
      "mv: cannot stat ‘script.py’: No such file or directory\n"
     ]
    }
   ],
   "source": [
    "!mkdir training_scripts\n",
    "!mv script.py training_scripts/"
   ]
  },
  {
   "cell_type": "code",
   "execution_count": 15,
   "id": "0ee6565c-9c9f-4e54-b26b-5a9cf249a04d",
   "metadata": {},
   "outputs": [
    {
     "data": {
      "text/html": [
       "<pre style=\"white-space:pre;overflow-x:auto;line-height:normal;font-family:Menlo,'DejaVu Sans Mono',consolas,'Courier New',monospace\"><span style=\"color: #7fbfbf; text-decoration-color: #7fbfbf\">[03/18/25 10:49:04] </span><span style=\"color: #0069ff; text-decoration-color: #0069ff; font-weight: bold\">INFO    </span> SageMaker Python SDK will collect telemetry to help us better  <a href=\"file:///home/ec2-user/anaconda3/envs/pytorch_p310/lib/python3.10/site-packages/sagemaker/telemetry/telemetry_logging.py\" target=\"_blank\"><span style=\"color: #7f7f7f; text-decoration-color: #7f7f7f\">telemetry_logging.py</span></a><span style=\"color: #7f7f7f; text-decoration-color: #7f7f7f\">:</span><a href=\"file:///home/ec2-user/anaconda3/envs/pytorch_p310/lib/python3.10/site-packages/sagemaker/telemetry/telemetry_logging.py#91\" target=\"_blank\"><span style=\"color: #7f7f7f; text-decoration-color: #7f7f7f\">91</span></a>\n",
       "<span style=\"color: #7fbfbf; text-decoration-color: #7fbfbf\">                    </span>         understand our user's needs, diagnose issues, and deliver      <span style=\"color: #7f7f7f; text-decoration-color: #7f7f7f\">                       </span>\n",
       "<span style=\"color: #7fbfbf; text-decoration-color: #7fbfbf\">                    </span>         additional features.                                           <span style=\"color: #7f7f7f; text-decoration-color: #7f7f7f\">                       </span>\n",
       "<span style=\"color: #7fbfbf; text-decoration-color: #7fbfbf\">                    </span>         To opt out of telemetry, please disable via TelemetryOptOut    <span style=\"color: #7f7f7f; text-decoration-color: #7f7f7f\">                       </span>\n",
       "<span style=\"color: #7fbfbf; text-decoration-color: #7fbfbf\">                    </span>         parameter in SDK defaults config. For more information, refer  <span style=\"color: #7f7f7f; text-decoration-color: #7f7f7f\">                       </span>\n",
       "<span style=\"color: #7fbfbf; text-decoration-color: #7fbfbf\">                    </span>         to                                                             <span style=\"color: #7f7f7f; text-decoration-color: #7f7f7f\">                       </span>\n",
       "<span style=\"color: #7fbfbf; text-decoration-color: #7fbfbf\">                    </span>         <span style=\"color: #0069ff; text-decoration-color: #0069ff; text-decoration: underline\">https://sagemaker.readthedocs.io/en/stable/overview.html#confi</span> <span style=\"color: #7f7f7f; text-decoration-color: #7f7f7f\">                       </span>\n",
       "<span style=\"color: #7fbfbf; text-decoration-color: #7fbfbf\">                    </span>         <span style=\"color: #0069ff; text-decoration-color: #0069ff; text-decoration: underline\">guring-and-using-defaults-with-the-sagemaker-python-sdk.</span>       <span style=\"color: #7f7f7f; text-decoration-color: #7f7f7f\">                       </span>\n",
       "</pre>\n"
      ],
      "text/plain": [
       "\u001b[2;36m[03/18/25 10:49:04]\u001b[0m\u001b[2;36m \u001b[0m\u001b[1;38;2;0;105;255mINFO    \u001b[0m SageMaker Python SDK will collect telemetry to help us better  \u001b]8;id=343898;file:///home/ec2-user/anaconda3/envs/pytorch_p310/lib/python3.10/site-packages/sagemaker/telemetry/telemetry_logging.py\u001b\\\u001b[2mtelemetry_logging.py\u001b[0m\u001b]8;;\u001b\\\u001b[2m:\u001b[0m\u001b]8;id=418008;file:///home/ec2-user/anaconda3/envs/pytorch_p310/lib/python3.10/site-packages/sagemaker/telemetry/telemetry_logging.py#91\u001b\\\u001b[2m91\u001b[0m\u001b]8;;\u001b\\\n",
       "\u001b[2;36m                    \u001b[0m         understand our user's needs, diagnose issues, and deliver      \u001b[2m                       \u001b[0m\n",
       "\u001b[2;36m                    \u001b[0m         additional features.                                           \u001b[2m                       \u001b[0m\n",
       "\u001b[2;36m                    \u001b[0m         To opt out of telemetry, please disable via TelemetryOptOut    \u001b[2m                       \u001b[0m\n",
       "\u001b[2;36m                    \u001b[0m         parameter in SDK defaults config. For more information, refer  \u001b[2m                       \u001b[0m\n",
       "\u001b[2;36m                    \u001b[0m         to                                                             \u001b[2m                       \u001b[0m\n",
       "\u001b[2;36m                    \u001b[0m         \u001b[4;38;2;0;105;255mhttps://sagemaker.readthedocs.io/en/stable/overview.html#confi\u001b[0m \u001b[2m                       \u001b[0m\n",
       "\u001b[2;36m                    \u001b[0m         \u001b[4;38;2;0;105;255mguring-and-using-defaults-with-the-sagemaker-python-sdk.\u001b[0m       \u001b[2m                       \u001b[0m\n"
      ]
     },
     "metadata": {},
     "output_type": "display_data"
    },
    {
     "data": {
      "text/html": [
       "<pre style=\"white-space:pre;overflow-x:auto;line-height:normal;font-family:Menlo,'DejaVu Sans Mono',consolas,'Courier New',monospace\"><span style=\"color: #7fbfbf; text-decoration-color: #7fbfbf\">                    </span><span style=\"color: #0069ff; text-decoration-color: #0069ff; font-weight: bold\">INFO    </span> image_uri is not presented, retrieving image_uri based on            <a href=\"file:///home/ec2-user/anaconda3/envs/pytorch_p310/lib/python3.10/site-packages/sagemaker/image_uris.py\" target=\"_blank\"><span style=\"color: #7f7f7f; text-decoration-color: #7f7f7f\">image_uris.py</span></a><span style=\"color: #7f7f7f; text-decoration-color: #7f7f7f\">:</span><a href=\"file:///home/ec2-user/anaconda3/envs/pytorch_p310/lib/python3.10/site-packages/sagemaker/image_uris.py#681\" target=\"_blank\"><span style=\"color: #7f7f7f; text-decoration-color: #7f7f7f\">681</span></a>\n",
       "<span style=\"color: #7fbfbf; text-decoration-color: #7fbfbf\">                    </span>         instance_type, framework etc.                                        <span style=\"color: #7f7f7f; text-decoration-color: #7f7f7f\">                 </span>\n",
       "</pre>\n"
      ],
      "text/plain": [
       "\u001b[2;36m                   \u001b[0m\u001b[2;36m \u001b[0m\u001b[1;38;2;0;105;255mINFO    \u001b[0m image_uri is not presented, retrieving image_uri based on            \u001b]8;id=788311;file:///home/ec2-user/anaconda3/envs/pytorch_p310/lib/python3.10/site-packages/sagemaker/image_uris.py\u001b\\\u001b[2mimage_uris.py\u001b[0m\u001b]8;;\u001b\\\u001b[2m:\u001b[0m\u001b]8;id=716072;file:///home/ec2-user/anaconda3/envs/pytorch_p310/lib/python3.10/site-packages/sagemaker/image_uris.py#681\u001b\\\u001b[2m681\u001b[0m\u001b]8;;\u001b\\\n",
       "\u001b[2;36m                    \u001b[0m         instance_type, framework etc.                                        \u001b[2m                 \u001b[0m\n"
      ]
     },
     "metadata": {},
     "output_type": "display_data"
    },
    {
     "data": {
      "text/html": [
       "<pre style=\"white-space:pre;overflow-x:auto;line-height:normal;font-family:Menlo,'DejaVu Sans Mono',consolas,'Courier New',monospace\"><span style=\"color: #7fbfbf; text-decoration-color: #7fbfbf\">                    </span><span style=\"color: #0069ff; text-decoration-color: #0069ff; font-weight: bold\">INFO    </span> image_uri is not presented, retrieving image_uri based on            <a href=\"file:///home/ec2-user/anaconda3/envs/pytorch_p310/lib/python3.10/site-packages/sagemaker/image_uris.py\" target=\"_blank\"><span style=\"color: #7f7f7f; text-decoration-color: #7f7f7f\">image_uris.py</span></a><span style=\"color: #7f7f7f; text-decoration-color: #7f7f7f\">:</span><a href=\"file:///home/ec2-user/anaconda3/envs/pytorch_p310/lib/python3.10/site-packages/sagemaker/image_uris.py#681\" target=\"_blank\"><span style=\"color: #7f7f7f; text-decoration-color: #7f7f7f\">681</span></a>\n",
       "<span style=\"color: #7fbfbf; text-decoration-color: #7fbfbf\">                    </span>         instance_type, framework etc.                                        <span style=\"color: #7f7f7f; text-decoration-color: #7f7f7f\">                 </span>\n",
       "</pre>\n"
      ],
      "text/plain": [
       "\u001b[2;36m                   \u001b[0m\u001b[2;36m \u001b[0m\u001b[1;38;2;0;105;255mINFO    \u001b[0m image_uri is not presented, retrieving image_uri based on            \u001b]8;id=219618;file:///home/ec2-user/anaconda3/envs/pytorch_p310/lib/python3.10/site-packages/sagemaker/image_uris.py\u001b\\\u001b[2mimage_uris.py\u001b[0m\u001b]8;;\u001b\\\u001b[2m:\u001b[0m\u001b]8;id=124700;file:///home/ec2-user/anaconda3/envs/pytorch_p310/lib/python3.10/site-packages/sagemaker/image_uris.py#681\u001b\\\u001b[2m681\u001b[0m\u001b]8;;\u001b\\\n",
       "\u001b[2;36m                    \u001b[0m         instance_type, framework etc.                                        \u001b[2m                 \u001b[0m\n"
      ]
     },
     "metadata": {},
     "output_type": "display_data"
    },
    {
     "data": {
      "text/html": [
       "<pre style=\"white-space:pre;overflow-x:auto;line-height:normal;font-family:Menlo,'DejaVu Sans Mono',consolas,'Courier New',monospace\"><span style=\"color: #7fbfbf; text-decoration-color: #7fbfbf\">                    </span><span style=\"color: #0069ff; text-decoration-color: #0069ff; font-weight: bold\">INFO    </span> Creating training-job with name:                                       <a href=\"file:///home/ec2-user/anaconda3/envs/pytorch_p310/lib/python3.10/site-packages/sagemaker/session.py\" target=\"_blank\"><span style=\"color: #7f7f7f; text-decoration-color: #7f7f7f\">session.py</span></a><span style=\"color: #7f7f7f; text-decoration-color: #7f7f7f\">:</span><a href=\"file:///home/ec2-user/anaconda3/envs/pytorch_p310/lib/python3.10/site-packages/sagemaker/session.py#1042\" target=\"_blank\"><span style=\"color: #7f7f7f; text-decoration-color: #7f7f7f\">1042</span></a>\n",
       "<span style=\"color: #7fbfbf; text-decoration-color: #7fbfbf\">                    </span>         huggingface-pytorch-training-<span style=\"color: #008080; text-decoration-color: #008080; font-weight: bold\">2025</span>-03-18-10-49-04-416                   <span style=\"color: #7f7f7f; text-decoration-color: #7f7f7f\">               </span>\n",
       "</pre>\n"
      ],
      "text/plain": [
       "\u001b[2;36m                   \u001b[0m\u001b[2;36m \u001b[0m\u001b[1;38;2;0;105;255mINFO    \u001b[0m Creating training-job with name:                                       \u001b]8;id=531285;file:///home/ec2-user/anaconda3/envs/pytorch_p310/lib/python3.10/site-packages/sagemaker/session.py\u001b\\\u001b[2msession.py\u001b[0m\u001b]8;;\u001b\\\u001b[2m:\u001b[0m\u001b]8;id=388118;file:///home/ec2-user/anaconda3/envs/pytorch_p310/lib/python3.10/site-packages/sagemaker/session.py#1042\u001b\\\u001b[2m1042\u001b[0m\u001b]8;;\u001b\\\n",
       "\u001b[2;36m                    \u001b[0m         huggingface-pytorch-training-\u001b[1;36m2025\u001b[0m-03-18-10-49-04-416                   \u001b[2m               \u001b[0m\n"
      ]
     },
     "metadata": {},
     "output_type": "display_data"
    },
    {
     "name": "stdout",
     "output_type": "stream",
     "text": [
      "2025-03-18 10:49:08 Starting - Starting the training job...\n",
      "..25-03-18 10:49:23 Starting - Preparing the instances for training.\n",
      ".................06 Downloading - Downloading the training image.\n",
      ".\u001b[34mbash: cannot set terminal process group (-1): Inappropriate ioctl for device\u001b[0m..\n",
      "\u001b[34mbash: no job control in this shell\u001b[0m\n",
      "\u001b[34m2025-03-18 10:53:24,197 sagemaker-training-toolkit INFO     Imported framework sagemaker_pytorch_container.training\u001b[0m\n",
      "\u001b[34m2025-03-18 10:53:24,229 sagemaker_pytorch_container.training INFO     Block until all host DNS lookups succeed.\u001b[0m\n",
      "\u001b[34m2025-03-18 10:53:24,303 sagemaker_pytorch_container.training INFO     Invoking user training script.\u001b[0m\n",
      "\u001b[34m2025-03-18 10:53:24,575 sagemaker-training-toolkit INFO     Invoking user script\u001b[0m\n",
      "\u001b[34mTraining Env:\u001b[0m\n",
      "\u001b[34m{\n",
      "    \"additional_framework_parameters\": {},\n",
      "    \"channel_input_dirs\": {},\n",
      "    \"current_host\": \"algo-1\",\n",
      "    \"framework_module\": \"sagemaker_pytorch_container.training:main\",\n",
      "    \"hosts\": [\n",
      "        \"algo-1\"\n",
      "    ],\n",
      "    \"hyperparameters\": {\n",
      "        \"epochs\": 2,\n",
      "        \"learning_rate\": 1e-05,\n",
      "        \"train_batch_size\": 4,\n",
      "        \"valid_batch_size\": 2\n",
      "    },\n",
      "    \"input_config_dir\": \"/opt/ml/input/config\",\n",
      "    \"input_data_config\": {},\n",
      "    \"input_dir\": \"/opt/ml/input\",\n",
      "    \"is_master\": true,\n",
      "    \"job_name\": \"huggingface-pytorch-training-2025-03-18-10-49-04-416\",\n",
      "    \"log_level\": 20,\n",
      "    \"master_hostname\": \"algo-1\",\n",
      "    \"model_dir\": \"/opt/ml/model\",\n",
      "    \"module_dir\": \"s3://hf-multiclass-texts-classif-bucket/huggingface-pytorch-training-2025-03-18-10-49-04-416/source/sourcedir.tar.gz\",\n",
      "    \"module_name\": \"script\",\n",
      "    \"network_interface_name\": \"eth0\",\n",
      "    \"num_cpus\": 4,\n",
      "    \"num_gpus\": 1,\n",
      "    \"output_data_dir\": \"/opt/ml/output/data\",\n",
      "    \"output_dir\": \"/opt/ml/output\",\n",
      "    \"output_intermediate_dir\": \"/opt/ml/output/intermediate\",\n",
      "    \"resource_config\": {\n",
      "        \"current_host\": \"algo-1\",\n",
      "        \"current_instance_type\": \"ml.g4dn.xlarge\",\n",
      "        \"current_group_name\": \"homogeneousCluster\",\n",
      "        \"hosts\": [\n",
      "            \"algo-1\"\n",
      "        ],\n",
      "        \"instance_groups\": [\n",
      "            {\n",
      "                \"instance_group_name\": \"homogeneousCluster\",\n",
      "                \"instance_type\": \"ml.g4dn.xlarge\",\n",
      "                \"hosts\": [\n",
      "                    \"algo-1\"\n",
      "                ]\n",
      "            }\n",
      "        ],\n",
      "        \"network_interface_name\": \"eth0\"\n",
      "    },\n",
      "    \"user_entry_point\": \"script.py\"\u001b[0m\n",
      "\u001b[34m}\u001b[0m\n",
      "\u001b[34mEnvironment variables:\u001b[0m\n",
      "\u001b[34mSM_HOSTS=[\"algo-1\"]\u001b[0m\n",
      "\u001b[34mSM_NETWORK_INTERFACE_NAME=eth0\u001b[0m\n",
      "\u001b[34mSM_HPS={\"epochs\":2,\"learning_rate\":1e-05,\"train_batch_size\":4,\"valid_batch_size\":2}\u001b[0m\n",
      "\u001b[34mSM_USER_ENTRY_POINT=script.py\u001b[0m\n",
      "\u001b[34mSM_FRAMEWORK_PARAMS={}\u001b[0m\n",
      "\u001b[34mSM_RESOURCE_CONFIG={\"current_group_name\":\"homogeneousCluster\",\"current_host\":\"algo-1\",\"current_instance_type\":\"ml.g4dn.xlarge\",\"hosts\":[\"algo-1\"],\"instance_groups\":[{\"hosts\":[\"algo-1\"],\"instance_group_name\":\"homogeneousCluster\",\"instance_type\":\"ml.g4dn.xlarge\"}],\"network_interface_name\":\"eth0\"}\u001b[0m\n",
      "\u001b[34mSM_INPUT_DATA_CONFIG={}\u001b[0m\n",
      "\u001b[34mSM_OUTPUT_DATA_DIR=/opt/ml/output/data\u001b[0m\n",
      "\u001b[34mSM_CHANNELS=[]\u001b[0m\n",
      "\u001b[34mSM_CURRENT_HOST=algo-1\u001b[0m\n",
      "\u001b[34mSM_MODULE_NAME=script\u001b[0m\n",
      "\u001b[34mSM_LOG_LEVEL=20\u001b[0m\n",
      "\u001b[34mSM_FRAMEWORK_MODULE=sagemaker_pytorch_container.training:main\u001b[0m\n",
      "\u001b[34mSM_INPUT_DIR=/opt/ml/input\u001b[0m\n",
      "\u001b[34mSM_INPUT_CONFIG_DIR=/opt/ml/input/config\u001b[0m\n",
      "\u001b[34mSM_OUTPUT_DIR=/opt/ml/output\u001b[0m\n",
      "\u001b[34mSM_NUM_CPUS=4\u001b[0m\n",
      "\u001b[34mSM_NUM_GPUS=1\u001b[0m\n",
      "\u001b[34mSM_MODEL_DIR=/opt/ml/model\u001b[0m\n",
      "\u001b[34mSM_MODULE_DIR=s3://hf-multiclass-texts-classif-bucket/huggingface-pytorch-training-2025-03-18-10-49-04-416/source/sourcedir.tar.gz\u001b[0m\n",
      "\u001b[34mSM_TRAINING_ENV={\"additional_framework_parameters\":{},\"channel_input_dirs\":{},\"current_host\":\"algo-1\",\"framework_module\":\"sagemaker_pytorch_container.training:main\",\"hosts\":[\"algo-1\"],\"hyperparameters\":{\"epochs\":2,\"learning_rate\":1e-05,\"train_batch_size\":4,\"valid_batch_size\":2},\"input_config_dir\":\"/opt/ml/input/config\",\"input_data_config\":{},\"input_dir\":\"/opt/ml/input\",\"is_master\":true,\"job_name\":\"huggingface-pytorch-training-2025-03-18-10-49-04-416\",\"log_level\":20,\"master_hostname\":\"algo-1\",\"model_dir\":\"/opt/ml/model\",\"module_dir\":\"s3://hf-multiclass-texts-classif-bucket/huggingface-pytorch-training-2025-03-18-10-49-04-416/source/sourcedir.tar.gz\",\"module_name\":\"script\",\"network_interface_name\":\"eth0\",\"num_cpus\":4,\"num_gpus\":1,\"output_data_dir\":\"/opt/ml/output/data\",\"output_dir\":\"/opt/ml/output\",\"output_intermediate_dir\":\"/opt/ml/output/intermediate\",\"resource_config\":{\"current_group_name\":\"homogeneousCluster\",\"current_host\":\"algo-1\",\"current_instance_type\":\"ml.g4dn.xlarge\",\"hosts\":[\"algo-1\"],\"instance_groups\":[{\"hosts\":[\"algo-1\"],\"instance_group_name\":\"homogeneousCluster\",\"instance_type\":\"ml.g4dn.xlarge\"}],\"network_interface_name\":\"eth0\"},\"user_entry_point\":\"script.py\"}\u001b[0m\n",
      "\u001b[34mSM_USER_ARGS=[\"--epochs\",\"2\",\"--learning_rate\",\"1e-05\",\"--train_batch_size\",\"4\",\"--valid_batch_size\",\"2\"]\u001b[0m\n",
      "\u001b[34mSM_OUTPUT_INTERMEDIATE_DIR=/opt/ml/output/intermediate\u001b[0m\n",
      "\u001b[34mSM_HP_EPOCHS=2\u001b[0m\n",
      "\u001b[34mSM_HP_LEARNING_RATE=1e-05\u001b[0m\n",
      "\u001b[34mSM_HP_TRAIN_BATCH_SIZE=4\u001b[0m\n",
      "\u001b[34mSM_HP_VALID_BATCH_SIZE=2\u001b[0m\n",
      "\u001b[34mPYTHONPATH=/opt/ml/code:/opt/conda/bin:/opt/conda/lib/python36.zip:/opt/conda/lib/python3.6:/opt/conda/lib/python3.6/lib-dynload:/opt/conda/lib/python3.6/site-packages\u001b[0m\n",
      "\u001b[34mInvoking script with the following command:\u001b[0m\n",
      "\u001b[34m/opt/conda/bin/python3.6 script.py --epochs 2 --learning_rate 1e-05 --train_batch_size 4 --valid_batch_size 2\u001b[0m\n",
      "\u001b[34m[INFO] Pre-processing done.\u001b[0m\n",
      "\u001b[34mResulting dataframe :\n",
      "                                                    TITLE       CATEGORY\u001b[0m\n",
      "\u001b[34m0      Rare T rex bones arrive at Smithsonian Museum ...     Technology\u001b[0m\n",
      "\u001b[34m1      Gravitational waves offer new insight into Big...     Technology\u001b[0m\n",
      "\u001b[34m2      Snapchat could become latest start-up to reach...       Business\u001b[0m\n",
      "\u001b[34m3      AT&T now exploring bringing gigabit Internet s...     Technology\u001b[0m\n",
      "\u001b[34m4      International Court of Justice upholds Austral...     Technology\u001b[0m\n",
      "\u001b[34m...                                                  ...            ...\u001b[0m\n",
      "\u001b[34m21116  Now Bring Android L to Your Android Smartphone...     Technology\u001b[0m\n",
      "\u001b[34m21117     Mom in Coma Gives Birth & Breastfeeds Her Baby       Medicine\u001b[0m\n",
      "\u001b[34m21118           Yen Extends Rise After Kuroda's Comments       Business\u001b[0m\n",
      "\u001b[34m21119  Auto Sales Up 2 Percent in March With Chrysler...       Business\u001b[0m\n",
      "\u001b[34m21120  Actress Drew Barrymore's half-sister found dea...  Entertainment\u001b[0m\n",
      "\u001b[34m[21121 rows x 2 columns]\u001b[0m\n",
      "\u001b[34mFull dataset shape: (21121, 2)\u001b[0m\n",
      "\u001b[34mTrain dataset shape: (16897, 2)\u001b[0m\n",
      "\u001b[34mTest dataset shape: (4224, 2)\u001b[0m\n",
      "\u001b[34mStart\u001b[0m\n",
      "\u001b[34mStarting epoch: 1\u001b[0m\n",
      "\u001b[34m[2025-03-18 10:53:37.837 algo-1:33 INFO utils.py:27] RULE_JOB_STOP_SIGNAL_FILENAME: None\u001b[0m\n",
      "\u001b[34m[2025-03-18 10:53:37.876 algo-1:33 INFO profiler_config_parser.py:102] User has disabled profiler.\u001b[0m\n",
      "\u001b[34m[2025-03-18 10:53:37.876 algo-1:33 INFO json_config.py:91] Creating hook from json_config at /opt/ml/input/config/debughookconfig.json.\u001b[0m\n",
      "\u001b[34m[2025-03-18 10:53:37.877 algo-1:33 INFO hook.py:201] tensorboard_dir has not been set for the hook. SMDebug will not be exporting tensorboard summaries.\u001b[0m\n",
      "\u001b[34m[2025-03-18 10:53:37.877 algo-1:33 INFO hook.py:255] Saving to /opt/ml/output/tensors\u001b[0m\n",
      "\u001b[34m[2025-03-18 10:53:37.877 algo-1:33 INFO state_store.py:77] The checkpoint config file /opt/ml/input/config/checkpointconfig.json does not exist.\u001b[0m\n",
      "\u001b[34m[2025-03-18 10:53:37.939 algo-1:33 INFO hook.py:591] name:l1.embeddings.word_embeddings.weight count_params:23440896\u001b[0m\n",
      "\u001b[34m[2025-03-18 10:53:37.939 algo-1:33 INFO hook.py:591] name:l1.embeddings.position_embeddings.weight count_params:393216\u001b[0m\n",
      "\u001b[34m[2025-03-18 10:53:37.939 algo-1:33 INFO hook.py:591] name:l1.embeddings.LayerNorm.weight count_params:768\u001b[0m\n",
      "\u001b[34m[2025-03-18 10:53:37.939 algo-1:33 INFO hook.py:591] name:l1.embeddings.LayerNorm.bias count_params:768\u001b[0m\n",
      "\u001b[34m[2025-03-18 10:53:37.940 algo-1:33 INFO hook.py:591] name:l1.transformer.layer.0.attention.q_lin.weight count_params:589824\u001b[0m\n",
      "\u001b[34m[2025-03-18 10:53:37.940 algo-1:33 INFO hook.py:591] name:l1.transformer.layer.0.attention.q_lin.bias count_params:768\u001b[0m\n",
      "\u001b[34m[2025-03-18 10:53:37.940 algo-1:33 INFO hook.py:591] name:l1.transformer.layer.0.attention.k_lin.weight count_params:589824\u001b[0m\n",
      "\u001b[34m[2025-03-18 10:53:37.940 algo-1:33 INFO hook.py:591] name:l1.transformer.layer.0.attention.k_lin.bias count_params:768\u001b[0m\n",
      "\u001b[34m[2025-03-18 10:53:37.940 algo-1:33 INFO hook.py:591] name:l1.transformer.layer.0.attention.v_lin.weight count_params:589824\u001b[0m\n",
      "\u001b[34m[2025-03-18 10:53:37.940 algo-1:33 INFO hook.py:591] name:l1.transformer.layer.0.attention.v_lin.bias count_params:768\u001b[0m\n",
      "\u001b[34m[2025-03-18 10:53:37.940 algo-1:33 INFO hook.py:591] name:l1.transformer.layer.0.attention.out_lin.weight count_params:589824\u001b[0m\n",
      "\u001b[34m[2025-03-18 10:53:37.940 algo-1:33 INFO hook.py:591] name:l1.transformer.layer.0.attention.out_lin.bias count_params:768\u001b[0m\n",
      "\u001b[34m[2025-03-18 10:53:37.940 algo-1:33 INFO hook.py:591] name:l1.transformer.layer.0.sa_layer_norm.weight count_params:768\u001b[0m\n",
      "\u001b[34m[2025-03-18 10:53:37.940 algo-1:33 INFO hook.py:591] name:l1.transformer.layer.0.sa_layer_norm.bias count_params:768\u001b[0m\n",
      "\u001b[34m[2025-03-18 10:53:37.940 algo-1:33 INFO hook.py:591] name:l1.transformer.layer.0.ffn.lin1.weight count_params:2359296\u001b[0m\n",
      "\u001b[34m[2025-03-18 10:53:37.940 algo-1:33 INFO hook.py:591] name:l1.transformer.layer.0.ffn.lin1.bias count_params:3072\u001b[0m\n",
      "\u001b[34m[2025-03-18 10:53:37.940 algo-1:33 INFO hook.py:591] name:l1.transformer.layer.0.ffn.lin2.weight count_params:2359296\u001b[0m\n",
      "\u001b[34m[2025-03-18 10:53:37.940 algo-1:33 INFO hook.py:591] name:l1.transformer.layer.0.ffn.lin2.bias count_params:768\u001b[0m\n",
      "\u001b[34m[2025-03-18 10:53:37.941 algo-1:33 INFO hook.py:591] name:l1.transformer.layer.0.output_layer_norm.weight count_params:768\u001b[0m\n",
      "\u001b[34m[2025-03-18 10:53:37.941 algo-1:33 INFO hook.py:591] name:l1.transformer.layer.0.output_layer_norm.bias count_params:768\u001b[0m\n",
      "\u001b[34m[2025-03-18 10:53:37.941 algo-1:33 INFO hook.py:591] name:l1.transformer.layer.1.attention.q_lin.weight count_params:589824\u001b[0m\n",
      "\u001b[34m[2025-03-18 10:53:37.941 algo-1:33 INFO hook.py:591] name:l1.transformer.layer.1.attention.q_lin.bias count_params:768\u001b[0m\n",
      "\u001b[34m[2025-03-18 10:53:37.941 algo-1:33 INFO hook.py:591] name:l1.transformer.layer.1.attention.k_lin.weight count_params:589824\u001b[0m\n",
      "\u001b[34m[2025-03-18 10:53:37.941 algo-1:33 INFO hook.py:591] name:l1.transformer.layer.1.attention.k_lin.bias count_params:768\u001b[0m\n",
      "\u001b[34m[2025-03-18 10:53:37.941 algo-1:33 INFO hook.py:591] name:l1.transformer.layer.1.attention.v_lin.weight count_params:589824\u001b[0m\n",
      "\u001b[34m[2025-03-18 10:53:37.941 algo-1:33 INFO hook.py:591] name:l1.transformer.layer.1.attention.v_lin.bias count_params:768\u001b[0m\n",
      "\u001b[34m[2025-03-18 10:53:37.941 algo-1:33 INFO hook.py:591] name:l1.transformer.layer.1.attention.out_lin.weight count_params:589824\u001b[0m\n",
      "\u001b[34m[2025-03-18 10:53:37.941 algo-1:33 INFO hook.py:591] name:l1.transformer.layer.1.attention.out_lin.bias count_params:768\u001b[0m\n",
      "\u001b[34m[2025-03-18 10:53:37.941 algo-1:33 INFO hook.py:591] name:l1.transformer.layer.1.sa_layer_norm.weight count_params:768\u001b[0m\n",
      "\u001b[34m[2025-03-18 10:53:37.941 algo-1:33 INFO hook.py:591] name:l1.transformer.layer.1.sa_layer_norm.bias count_params:768\u001b[0m\n",
      "\u001b[34m[2025-03-18 10:53:37.941 algo-1:33 INFO hook.py:591] name:l1.transformer.layer.1.ffn.lin1.weight count_params:2359296\u001b[0m\n",
      "\u001b[34m[2025-03-18 10:53:37.941 algo-1:33 INFO hook.py:591] name:l1.transformer.layer.1.ffn.lin1.bias count_params:3072\u001b[0m\n",
      "\u001b[34m[2025-03-18 10:53:37.942 algo-1:33 INFO hook.py:591] name:l1.transformer.layer.1.ffn.lin2.weight count_params:2359296\u001b[0m\n",
      "\u001b[34m[2025-03-18 10:53:37.942 algo-1:33 INFO hook.py:591] name:l1.transformer.layer.1.ffn.lin2.bias count_params:768\u001b[0m\n",
      "\u001b[34m[2025-03-18 10:53:37.942 algo-1:33 INFO hook.py:591] name:l1.transformer.layer.1.output_layer_norm.weight count_params:768\u001b[0m\n",
      "\u001b[34m[2025-03-18 10:53:37.942 algo-1:33 INFO hook.py:591] name:l1.transformer.layer.1.output_layer_norm.bias count_params:768\u001b[0m\n",
      "\u001b[34m[2025-03-18 10:53:37.942 algo-1:33 INFO hook.py:591] name:l1.transformer.layer.2.attention.q_lin.weight count_params:589824\u001b[0m\n",
      "\u001b[34m[2025-03-18 10:53:37.942 algo-1:33 INFO hook.py:591] name:l1.transformer.layer.2.attention.q_lin.bias count_params:768\u001b[0m\n",
      "\u001b[34m[2025-03-18 10:53:37.942 algo-1:33 INFO hook.py:591] name:l1.transformer.layer.2.attention.k_lin.weight count_params:589824\u001b[0m\n",
      "\u001b[34m[2025-03-18 10:53:37.942 algo-1:33 INFO hook.py:591] name:l1.transformer.layer.2.attention.k_lin.bias count_params:768\u001b[0m\n",
      "\u001b[34m[2025-03-18 10:53:37.942 algo-1:33 INFO hook.py:591] name:l1.transformer.layer.2.attention.v_lin.weight count_params:589824\u001b[0m\n",
      "\u001b[34m[2025-03-18 10:53:37.942 algo-1:33 INFO hook.py:591] name:l1.transformer.layer.2.attention.v_lin.bias count_params:768\u001b[0m\n",
      "\u001b[34m[2025-03-18 10:53:37.942 algo-1:33 INFO hook.py:591] name:l1.transformer.layer.2.attention.out_lin.weight count_params:589824\u001b[0m\n",
      "\u001b[34m[2025-03-18 10:53:37.942 algo-1:33 INFO hook.py:591] name:l1.transformer.layer.2.attention.out_lin.bias count_params:768\u001b[0m\n",
      "\u001b[34m[2025-03-18 10:53:37.942 algo-1:33 INFO hook.py:591] name:l1.transformer.layer.2.sa_layer_norm.weight count_params:768\u001b[0m\n",
      "\u001b[34m[2025-03-18 10:53:37.942 algo-1:33 INFO hook.py:591] name:l1.transformer.layer.2.sa_layer_norm.bias count_params:768\u001b[0m\n",
      "\u001b[34m[2025-03-18 10:53:37.942 algo-1:33 INFO hook.py:591] name:l1.transformer.layer.2.ffn.lin1.weight count_params:2359296\u001b[0m\n",
      "\u001b[34m[2025-03-18 10:53:37.943 algo-1:33 INFO hook.py:591] name:l1.transformer.layer.2.ffn.lin1.bias count_params:3072\u001b[0m\n",
      "\u001b[34m[2025-03-18 10:53:37.943 algo-1:33 INFO hook.py:591] name:l1.transformer.layer.2.ffn.lin2.weight count_params:2359296\u001b[0m\n",
      "\u001b[34m[2025-03-18 10:53:37.943 algo-1:33 INFO hook.py:591] name:l1.transformer.layer.2.ffn.lin2.bias count_params:768\u001b[0m\n",
      "\u001b[34m[2025-03-18 10:53:37.943 algo-1:33 INFO hook.py:591] name:l1.transformer.layer.2.output_layer_norm.weight count_params:768\u001b[0m\n",
      "\u001b[34m[2025-03-18 10:53:37.943 algo-1:33 INFO hook.py:591] name:l1.transformer.layer.2.output_layer_norm.bias count_params:768\u001b[0m\n",
      "\u001b[34m[2025-03-18 10:53:37.943 algo-1:33 INFO hook.py:591] name:l1.transformer.layer.3.attention.q_lin.weight count_params:589824\u001b[0m\n",
      "\u001b[34m[2025-03-18 10:53:37.943 algo-1:33 INFO hook.py:591] name:l1.transformer.layer.3.attention.q_lin.bias count_params:768\u001b[0m\n",
      "\u001b[34m[2025-03-18 10:53:37.943 algo-1:33 INFO hook.py:591] name:l1.transformer.layer.3.attention.k_lin.weight count_params:589824\u001b[0m\n",
      "\u001b[34m[2025-03-18 10:53:37.943 algo-1:33 INFO hook.py:591] name:l1.transformer.layer.3.attention.k_lin.bias count_params:768\u001b[0m\n",
      "\u001b[34m[2025-03-18 10:53:37.943 algo-1:33 INFO hook.py:591] name:l1.transformer.layer.3.attention.v_lin.weight count_params:589824\u001b[0m\n",
      "\u001b[34m[2025-03-18 10:53:37.943 algo-1:33 INFO hook.py:591] name:l1.transformer.layer.3.attention.v_lin.bias count_params:768\u001b[0m\n",
      "\u001b[34m[2025-03-18 10:53:37.943 algo-1:33 INFO hook.py:591] name:l1.transformer.layer.3.attention.out_lin.weight count_params:589824\u001b[0m\n",
      "\u001b[34m[2025-03-18 10:53:37.943 algo-1:33 INFO hook.py:591] name:l1.transformer.layer.3.attention.out_lin.bias count_params:768\u001b[0m\n",
      "\u001b[34m[2025-03-18 10:53:37.943 algo-1:33 INFO hook.py:591] name:l1.transformer.layer.3.sa_layer_norm.weight count_params:768\u001b[0m\n",
      "\u001b[34m[2025-03-18 10:53:37.943 algo-1:33 INFO hook.py:591] name:l1.transformer.layer.3.sa_layer_norm.bias count_params:768\u001b[0m\n",
      "\u001b[34m[2025-03-18 10:53:37.943 algo-1:33 INFO hook.py:591] name:l1.transformer.layer.3.ffn.lin1.weight count_params:2359296\u001b[0m\n",
      "\u001b[34m[2025-03-18 10:53:37.944 algo-1:33 INFO hook.py:591] name:l1.transformer.layer.3.ffn.lin1.bias count_params:3072\u001b[0m\n",
      "\u001b[34m[2025-03-18 10:53:37.944 algo-1:33 INFO hook.py:591] name:l1.transformer.layer.3.ffn.lin2.weight count_params:2359296\u001b[0m\n",
      "\u001b[34m[2025-03-18 10:53:37.944 algo-1:33 INFO hook.py:591] name:l1.transformer.layer.3.ffn.lin2.bias count_params:768\u001b[0m\n",
      "\u001b[34m[2025-03-18 10:53:37.944 algo-1:33 INFO hook.py:591] name:l1.transformer.layer.3.output_layer_norm.weight count_params:768\u001b[0m\n",
      "\u001b[34m[2025-03-18 10:53:37.944 algo-1:33 INFO hook.py:591] name:l1.transformer.layer.3.output_layer_norm.bias count_params:768\u001b[0m\n",
      "\u001b[34m[2025-03-18 10:53:37.944 algo-1:33 INFO hook.py:591] name:l1.transformer.layer.4.attention.q_lin.weight count_params:589824\u001b[0m\n",
      "\u001b[34m[2025-03-18 10:53:37.944 algo-1:33 INFO hook.py:591] name:l1.transformer.layer.4.attention.q_lin.bias count_params:768\u001b[0m\n",
      "\u001b[34m[2025-03-18 10:53:37.944 algo-1:33 INFO hook.py:591] name:l1.transformer.layer.4.attention.k_lin.weight count_params:589824\u001b[0m\n",
      "\u001b[34m[2025-03-18 10:53:37.944 algo-1:33 INFO hook.py:591] name:l1.transformer.layer.4.attention.k_lin.bias count_params:768\u001b[0m\n",
      "\u001b[34m[2025-03-18 10:53:37.944 algo-1:33 INFO hook.py:591] name:l1.transformer.layer.4.attention.v_lin.weight count_params:589824\u001b[0m\n",
      "\u001b[34m[2025-03-18 10:53:37.944 algo-1:33 INFO hook.py:591] name:l1.transformer.layer.4.attention.v_lin.bias count_params:768\u001b[0m\n",
      "\u001b[34m[2025-03-18 10:53:37.944 algo-1:33 INFO hook.py:591] name:l1.transformer.layer.4.attention.out_lin.weight count_params:589824\u001b[0m\n",
      "\u001b[34m[2025-03-18 10:53:37.944 algo-1:33 INFO hook.py:591] name:l1.transformer.layer.4.attention.out_lin.bias count_params:768\u001b[0m\n",
      "\u001b[34m[2025-03-18 10:53:37.944 algo-1:33 INFO hook.py:591] name:l1.transformer.layer.4.sa_layer_norm.weight count_params:768\u001b[0m\n",
      "\u001b[34m[2025-03-18 10:53:37.944 algo-1:33 INFO hook.py:591] name:l1.transformer.layer.4.sa_layer_norm.bias count_params:768\u001b[0m\n",
      "\u001b[34m[2025-03-18 10:53:37.945 algo-1:33 INFO hook.py:591] name:l1.transformer.layer.4.ffn.lin1.weight count_params:2359296\u001b[0m\n",
      "\u001b[34m[2025-03-18 10:53:37.945 algo-1:33 INFO hook.py:591] name:l1.transformer.layer.4.ffn.lin1.bias count_params:3072\u001b[0m\n",
      "\u001b[34m[2025-03-18 10:53:37.945 algo-1:33 INFO hook.py:591] name:l1.transformer.layer.4.ffn.lin2.weight count_params:2359296\u001b[0m\n",
      "\u001b[34m[2025-03-18 10:53:37.945 algo-1:33 INFO hook.py:591] name:l1.transformer.layer.4.ffn.lin2.bias count_params:768\u001b[0m\n",
      "\u001b[34m[2025-03-18 10:53:37.945 algo-1:33 INFO hook.py:591] name:l1.transformer.layer.4.output_layer_norm.weight count_params:768\u001b[0m\n",
      "\u001b[34m[2025-03-18 10:53:37.945 algo-1:33 INFO hook.py:591] name:l1.transformer.layer.4.output_layer_norm.bias count_params:768\u001b[0m\n",
      "\u001b[34m[2025-03-18 10:53:37.945 algo-1:33 INFO hook.py:591] name:l1.transformer.layer.5.attention.q_lin.weight count_params:589824\u001b[0m\n",
      "\u001b[34m[2025-03-18 10:53:37.945 algo-1:33 INFO hook.py:591] name:l1.transformer.layer.5.attention.q_lin.bias count_params:768\u001b[0m\n",
      "\u001b[34m[2025-03-18 10:53:37.945 algo-1:33 INFO hook.py:591] name:l1.transformer.layer.5.attention.k_lin.weight count_params:589824\u001b[0m\n",
      "\u001b[34m[2025-03-18 10:53:37.945 algo-1:33 INFO hook.py:591] name:l1.transformer.layer.5.attention.k_lin.bias count_params:768\u001b[0m\n",
      "\u001b[34m[2025-03-18 10:53:37.945 algo-1:33 INFO hook.py:591] name:l1.transformer.layer.5.attention.v_lin.weight count_params:589824\u001b[0m\n",
      "\u001b[34m[2025-03-18 10:53:37.945 algo-1:33 INFO hook.py:591] name:l1.transformer.layer.5.attention.v_lin.bias count_params:768\u001b[0m\n",
      "\u001b[34m[2025-03-18 10:53:37.945 algo-1:33 INFO hook.py:591] name:l1.transformer.layer.5.attention.out_lin.weight count_params:589824\u001b[0m\n",
      "\u001b[34m[2025-03-18 10:53:37.945 algo-1:33 INFO hook.py:591] name:l1.transformer.layer.5.attention.out_lin.bias count_params:768\u001b[0m\n",
      "\u001b[34m[2025-03-18 10:53:37.945 algo-1:33 INFO hook.py:591] name:l1.transformer.layer.5.sa_layer_norm.weight count_params:768\u001b[0m\n",
      "\u001b[34m[2025-03-18 10:53:37.946 algo-1:33 INFO hook.py:591] name:l1.transformer.layer.5.sa_layer_norm.bias count_params:768\u001b[0m\n",
      "\u001b[34m[2025-03-18 10:53:37.946 algo-1:33 INFO hook.py:591] name:l1.transformer.layer.5.ffn.lin1.weight count_params:2359296\u001b[0m\n",
      "\u001b[34m[2025-03-18 10:53:37.946 algo-1:33 INFO hook.py:591] name:l1.transformer.layer.5.ffn.lin1.bias count_params:3072\u001b[0m\n",
      "\u001b[34m[2025-03-18 10:53:37.946 algo-1:33 INFO hook.py:591] name:l1.transformer.layer.5.ffn.lin2.weight count_params:2359296\u001b[0m\n",
      "\u001b[34m[2025-03-18 10:53:37.946 algo-1:33 INFO hook.py:591] name:l1.transformer.layer.5.ffn.lin2.bias count_params:768\u001b[0m\n",
      "\u001b[34m[2025-03-18 10:53:37.946 algo-1:33 INFO hook.py:591] name:l1.transformer.layer.5.output_layer_norm.weight count_params:768\u001b[0m\n",
      "\u001b[34m[2025-03-18 10:53:37.946 algo-1:33 INFO hook.py:591] name:l1.transformer.layer.5.output_layer_norm.bias count_params:768\u001b[0m\n",
      "\u001b[34m[2025-03-18 10:53:37.946 algo-1:33 INFO hook.py:591] name:pre_classifier.weight count_params:589824\u001b[0m\n",
      "\u001b[34m[2025-03-18 10:53:37.946 algo-1:33 INFO hook.py:591] name:pre_classifier.bias count_params:768\u001b[0m\n",
      "\u001b[34m[2025-03-18 10:53:37.946 algo-1:33 INFO hook.py:591] name:classifier.weight count_params:3072\u001b[0m\n",
      "\u001b[34m[2025-03-18 10:53:37.946 algo-1:33 INFO hook.py:591] name:classifier.bias count_params:4\u001b[0m\n",
      "\u001b[34m[2025-03-18 10:53:37.946 algo-1:33 INFO hook.py:593] Total Trainable Params: 66956548\u001b[0m\n",
      "\u001b[34m[2025-03-18 10:53:37.946 algo-1:33 INFO hook.py:425] Monitoring the collections: losses\u001b[0m\n",
      "\u001b[34m[2025-03-18 10:53:37.947 algo-1:33 INFO hook.py:488] Hook is writing from the hook with pid: 33\u001b[0m\n",
      "\u001b[34mTraining loss per 5000 steps: 1.3650405406951904\u001b[0m\n",
      "\u001b[34mTraining accuracy per 5000 steps: 50.0\u001b[0m\n",
      "\u001b[34mTotal training accuracy for epoch 0: 87.15156536663314\u001b[0m\n",
      "\u001b[34mTraining loss for epoch 0: 0.38051317662739104\u001b[0m\n",
      "\u001b[34mValidation loss per 1000 steps: 0.027865741401910782\u001b[0m\n",
      "\u001b[34mValidation accuracy per 1000 steps: 100.0\u001b[0m\n",
      "\u001b[34mValidation loss per 1000 steps: 0.3077580625583026\u001b[0m\n",
      "\u001b[34mValidation accuracy per 1000 steps: 0.04995004995004995\u001b[0m\n",
      "\u001b[34mValidation loss per 1000 steps: 0.2784667359995491\u001b[0m\n",
      "\u001b[34mValidation accuracy per 1000 steps: 0.04997501249375312\u001b[0m\n",
      "\u001b[34mTotal validation accuracy for epoch 0: 0.04734848484848485\u001b[0m\n",
      "\u001b[34mValidation loss for epoch 0: 0.2791273177779548\u001b[0m\n",
      "\u001b[34mStarting epoch: 2\u001b[0m\n",
      "\u001b[34mTraining loss per 5000 steps: 0.015329892747104168\u001b[0m\n",
      "\u001b[34mTraining accuracy per 5000 steps: 100.0\u001b[0m\n",
      "\u001b[34mTotal training accuracy for epoch 1: 93.86873409480972\u001b[0m\n",
      "\u001b[34mTraining loss for epoch 1: 0.18647666571270563\u001b[0m\n",
      "\u001b[34mValidation loss per 1000 steps: 0.046501047909259796\u001b[0m\n",
      "\u001b[34mValidation accuracy per 1000 steps: 100.0\u001b[0m\n",
      "\u001b[34mValidation loss per 1000 steps: 0.2523484055765092\u001b[0m\n",
      "\u001b[34mValidation accuracy per 1000 steps: 0.04995004995004995\u001b[0m\n",
      "\u001b[34mValidation loss per 1000 steps: 0.2671679505752679\u001b[0m\n",
      "\u001b[34mValidation accuracy per 1000 steps: 0.04997501249375312\u001b[0m\n",
      "\u001b[34mTotal validation accuracy for epoch 1: 0.04734848484848485\u001b[0m\n",
      "\u001b[34mValidation loss for epoch 1: 0.2647177600889391\u001b[0m\n",
      "\u001b[34mStarting epoch: 3\u001b[0m\n",
      "\u001b[34mTraining loss per 5000 steps: 0.01601482555270195\u001b[0m\n",
      "\u001b[34mTraining accuracy per 5000 steps: 100.0\u001b[0m\n",
      "\u001b[34mTotal training accuracy for epoch 2: 96.6443747410783\u001b[0m\n",
      "\u001b[34mTraining loss for epoch 2: 0.10927228810785052\u001b[0m\n",
      "\u001b[34mValidation loss per 1000 steps: 0.006794705055654049\u001b[0m\n",
      "\u001b[34mValidation accuracy per 1000 steps: 100.0\u001b[0m\n",
      "\u001b[34mValidation loss per 1000 steps: 0.2899658386701379\u001b[0m\n",
      "\u001b[34mValidation accuracy per 1000 steps: 0.0999000999000999\u001b[0m\n",
      "\u001b[34mValidation loss per 1000 steps: 0.28257216080311226\u001b[0m\n",
      "\u001b[34mValidation accuracy per 1000 steps: 0.04997501249375312\u001b[0m\n",
      "\u001b[34mTotal validation accuracy for epoch 2: 0.04734848484848485\u001b[0m\n",
      "\u001b[34mValidation loss for epoch 2: 0.2818430470212082\u001b[0m\n",
      "\u001b[34mStarting epoch: 4\u001b[0m\n",
      "\u001b[34mTraining loss per 5000 steps: 0.009118564426898956\u001b[0m\n",
      "\u001b[34mTraining accuracy per 5000 steps: 100.0\u001b[0m\n",
      "\u001b[34mTotal training accuracy for epoch 3: 97.93454459371486\u001b[0m\n",
      "\u001b[34mTraining loss for epoch 3: 0.07141641448499199\u001b[0m\n",
      "\u001b[34mValidation loss per 1000 steps: 0.025022100657224655\u001b[0m\n",
      "\u001b[34mValidation accuracy per 1000 steps: 100.0\u001b[0m\n",
      "\u001b[34mValidation loss per 1000 steps: 0.3287294623522822\u001b[0m\n",
      "\u001b[34mValidation accuracy per 1000 steps: 0.0999000999000999\u001b[0m\n",
      "\u001b[34mValidation loss per 1000 steps: 0.3279990030643493\u001b[0m\n",
      "\u001b[34mValidation accuracy per 1000 steps: 0.02498750624687656\u001b[0m\n",
      "\u001b[34mTotal validation accuracy for epoch 3: 0.04734848484848485\u001b[0m\n",
      "\u001b[34mValidation loss for epoch 3: 0.32525818529524203\u001b[0m\n",
      "\u001b[34mscript.py:20: SettingWithCopyWarning: \u001b[0m\n",
      "\u001b[34mA value is trying to be set on a copy of a slice from a DataFrame.\u001b[0m\n",
      "\u001b[34mTry using .loc[row_indexer,col_indexer] = value instead\u001b[0m\n",
      "\u001b[34mSee the caveats in the documentation: https://pandas.pydata.org/pandas-docs/stable/user_guide/indexing.html#returning-a-view-versus-a-copy\n",
      "  df_work['CATEGORY'] = df_work['CATEGORY'].apply(lambda x: my_dict[x])\u001b[0m\n",
      "\u001b[34m#015Downloading:   0%|          | 0.00/232k [00:00<?, ?B/s]#015Downloading: 100%|██████████| 232k/232k [00:00<00:00, 3.09MB/s]\u001b[0m\n",
      "\u001b[34m#015Downloading:   0%|          | 0.00/48.0 [00:00<?, ?B/s]#015Downloading: 100%|██████████| 48.0/48.0 [00:00<00:00, 50.0kB/s]\u001b[0m\n",
      "\u001b[34m#015Downloading:   0%|          | 0.00/466k [00:00<?, ?B/s]#015Downloading:  53%|█████▎    | 247k/466k [00:00<00:00, 1.69MB/s]#015Downloading: 100%|██████████| 466k/466k [00:00<00:00, 3.11MB/s]\u001b[0m\n",
      "\u001b[34m#015Downloading:   0%|          | 0.00/483 [00:00<?, ?B/s]#015Downloading: 100%|██████████| 483/483 [00:00<00:00, 504kB/s]\u001b[0m\n",
      "\u001b[34m#015Downloading:   0%|          | 0.00/268M [00:00<?, ?B/s]#015Downloading:   3%|▎         | 8.09M/268M [00:00<00:03, 80.9MB/s]#015Downloading:   6%|▌         | 16.5M/268M [00:00<00:03, 81.9MB/s]#015Downloading:   9%|▉         | 25.0M/268M [00:00<00:02, 82.7MB/s]#015Downloading:  12%|█▏        | 33.4M/268M [00:00<00:02, 83.3MB/s]#015Downloading:  16%|█▌        | 41.9M/268M [00:00<00:02, 83.6MB/s]#015Downloading:  19%|█▉        | 50.3M/268M [00:00<00:02, 83.9MB/s]#015Downloading:  22%|██▏       | 58.8M/268M [00:00<00:02, 84.0MB/s]#015Downloading:  25%|██▌       | 67.1M/268M [00:00<00:02, 83.9MB/s]#015Downloading:  28%|██▊       | 75.5M/268M [00:00<00:02, 83.7MB/s]#015Downloading:  31%|███▏      | 84.0M/268M [00:01<00:02, 84.2MB/s]#015Downloading:  35%|███▍      | 92.5M/268M [00:01<00:02, 84.6MB/s]#015Downloading:  38%|███▊      | 101M/268M [00:01<00:01, 84.8MB/s] #015Downloading:  41%|████      | 110M/268M [00:01<00:01, 84.9MB/s]#015Downloading:  44%|████▍     | 118M/268M [00:01<00:01, 85.1MB/s]#015Downloading:  47%|████▋     | 127M/268M [00:01<00:01, 85.0MB/s]#015Downloading:  50%|█████     | 135M/268M [00:01<00:01, 85.0MB/s]#015Downloading:  54%|█████▎    | 144M/268M [00:01<00:01, 85.1MB/s]#015Downloading:  57%|█████▋    | 152M/268M [00:01<00:01, 84.4MB/s]#015Downloading:  60%|█████▉    | 161M/268M [00:01<00:01, 83.8MB/s]#015Downloading:  63%|██████▎   | 169M/268M [00:02<00:01, 83.3MB/s]#015Downloading:  66%|██████▌   | 177M/268M [00:02<00:01, 83.6MB/s]#015Downloading:  69%|██████▉   | 186M/268M [00:02<00:00, 83.8MB/s]#015Downloading:  73%|███████▎  | 194M/268M [00:02<00:00, 84.4MB/s]#015Downloading:  76%|███████▌  | 203M/268M [00:02<00:00, 84.8MB/s]#015Downloading:  79%|███████▉  | 211M/268M [00:02<00:00, 84.9MB/s]#015Downloading:  82%|████████▏ | 220M/268M [00:02<00:00, 85.0MB/s]#015Downloading:  85%|████████▌ | 229M/268M [00:02<00:00, 85.3MB/s]#015Downloading:  89%|████████▊ | 237M/268M [00:02<00:00, 85.3MB/s]#015Downloading:  92%|█████████▏| 246M/268M [00:02<00:00, 85.3MB/s]#015Downloading:  95%|█████████▍| 254M/268M [00:03<00:00, 85.3MB/s]#015Downloading:  98%|█████████▊| 263M/268M [00:03<00:00, 85.4MB/s]#015Downloading: 100%|██████████| 268M/268M [00:03<00:00, 84.6MB/s]\u001b[0m\n",
      "\u001b[34mSome weights of the model checkpoint at distilbert-base-uncased were not used when initializing DistilBertModel: ['vocab_layer_norm.weight', 'vocab_projector.weight', 'vocab_projector.bias', 'vocab_transform.bias', 'vocab_transform.weight', 'vocab_layer_norm.bias']\u001b[0m\n",
      "\u001b[34m- This IS expected if you are initializing DistilBertModel from the checkpoint of a model trained on another task or with another architecture (e.g. initializing a BertForSequenceClassification model from a BertForPreTraining model).\u001b[0m\n",
      "\u001b[34m- This IS NOT expected if you are initializing DistilBertModel from the checkpoint of a model that you expect to be exactly identical (initializing a BertForSequenceClassification model from a BertForSequenceClassification model).\u001b[0m\n",
      "\u001b[34m2025-03-18 11:51:45,498 sagemaker-training-toolkit INFO     Reporting training SUCCESS\u001b[0m\n",
      "\n",
      "2025-03-18 11:51:48 Uploading - Uploading generated training model\n",
      "2025-03-18 11:52:06 Completed - Training job completed\n",
      "Training seconds: 3740\n",
      "Billable seconds: 3740\n"
     ]
    }
   ],
   "source": [
    "huggingface_estimator.fit()"
   ]
  },
  {
   "cell_type": "code",
   "execution_count": null,
   "id": "8f31357d-ee17-4bc9-867c-194e9729821c",
   "metadata": {},
   "outputs": [],
   "source": []
  }
 ],
 "metadata": {
  "kernelspec": {
   "display_name": "conda_pytorch_p310",
   "language": "python",
   "name": "conda_pytorch_p310"
  },
  "language_info": {
   "codemirror_mode": {
    "name": "ipython",
    "version": 3
   },
   "file_extension": ".py",
   "mimetype": "text/x-python",
   "name": "python",
   "nbconvert_exporter": "python",
   "pygments_lexer": "ipython3",
   "version": "3.10.14"
  }
 },
 "nbformat": 4,
 "nbformat_minor": 5
}
